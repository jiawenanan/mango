{
 "cells": [
  {
   "cell_type": "code",
   "execution_count": 1,
   "metadata": {},
   "outputs": [],
   "source": [
    "import pandas as pd\n",
    "import numpy as np\n",
    "import math"
   ]
  },
  {
   "cell_type": "code",
   "execution_count": 2,
   "metadata": {},
   "outputs": [],
   "source": [
    "D_SP = pd.read_excel ('~/Desktop/HW2.xlsx',sheet_name = 'SPX_DXY_MonthlyReturns', parse_date = True, header = 0, usecols = 'A:C', index_col =[0]) "
   ]
  },
  {
   "cell_type": "code",
   "execution_count": 3,
   "metadata": {},
   "outputs": [
    {
     "data": {
      "text/html": [
       "<div>\n",
       "<style scoped>\n",
       "    .dataframe tbody tr th:only-of-type {\n",
       "        vertical-align: middle;\n",
       "    }\n",
       "\n",
       "    .dataframe tbody tr th {\n",
       "        vertical-align: top;\n",
       "    }\n",
       "\n",
       "    .dataframe thead th {\n",
       "        text-align: right;\n",
       "    }\n",
       "</style>\n",
       "<table border=\"1\" class=\"dataframe\">\n",
       "  <thead>\n",
       "    <tr style=\"text-align: right;\">\n",
       "      <th></th>\n",
       "      <th>S&amp;P - 500 Index</th>\n",
       "      <th>US Dollar Index</th>\n",
       "    </tr>\n",
       "  </thead>\n",
       "  <tbody>\n",
       "    <tr>\n",
       "      <th>2001-07-31</th>\n",
       "      <td>-0.984416</td>\n",
       "      <td>-1.916799</td>\n",
       "    </tr>\n",
       "    <tr>\n",
       "      <th>2001-08-31</th>\n",
       "      <td>-6.260163</td>\n",
       "      <td>-3.208739</td>\n",
       "    </tr>\n",
       "    <tr>\n",
       "      <th>2001-09-30</th>\n",
       "      <td>-8.075231</td>\n",
       "      <td>-0.008817</td>\n",
       "    </tr>\n",
       "    <tr>\n",
       "      <th>2001-10-31</th>\n",
       "      <td>1.906875</td>\n",
       "      <td>1.278547</td>\n",
       "    </tr>\n",
       "    <tr>\n",
       "      <th>2001-11-30</th>\n",
       "      <td>7.670629</td>\n",
       "      <td>1.105694</td>\n",
       "    </tr>\n",
       "    <tr>\n",
       "      <th>...</th>\n",
       "      <td>...</td>\n",
       "      <td>...</td>\n",
       "    </tr>\n",
       "    <tr>\n",
       "      <th>2018-08-31</th>\n",
       "      <td>3.258530</td>\n",
       "      <td>0.619752</td>\n",
       "    </tr>\n",
       "    <tr>\n",
       "      <th>2018-09-30</th>\n",
       "      <td>0.569193</td>\n",
       "      <td>-0.008409</td>\n",
       "    </tr>\n",
       "    <tr>\n",
       "      <th>2018-10-31</th>\n",
       "      <td>-6.835016</td>\n",
       "      <td>2.097086</td>\n",
       "    </tr>\n",
       "    <tr>\n",
       "      <th>2018-11-30</th>\n",
       "      <td>2.037839</td>\n",
       "      <td>0.149289</td>\n",
       "    </tr>\n",
       "    <tr>\n",
       "      <th>2018-12-31</th>\n",
       "      <td>-9.029085</td>\n",
       "      <td>-1.129822</td>\n",
       "    </tr>\n",
       "  </tbody>\n",
       "</table>\n",
       "<p>210 rows × 2 columns</p>\n",
       "</div>"
      ],
      "text/plain": [
       "            S&P - 500 Index  US Dollar Index\n",
       "2001-07-31        -0.984416        -1.916799\n",
       "2001-08-31        -6.260163        -3.208739\n",
       "2001-09-30        -8.075231        -0.008817\n",
       "2001-10-31         1.906875         1.278547\n",
       "2001-11-30         7.670629         1.105694\n",
       "...                     ...              ...\n",
       "2018-08-31         3.258530         0.619752\n",
       "2018-09-30         0.569193        -0.008409\n",
       "2018-10-31        -6.835016         2.097086\n",
       "2018-11-30         2.037839         0.149289\n",
       "2018-12-31        -9.029085        -1.129822\n",
       "\n",
       "[210 rows x 2 columns]"
      ]
     },
     "execution_count": 3,
     "metadata": {},
     "output_type": "execute_result"
    }
   ],
   "source": [
    "D_SP   # data for market factor and US dollar factor"
   ]
  },
  {
   "cell_type": "code",
   "execution_count": 4,
   "metadata": {},
   "outputs": [],
   "source": [
    "mkt_return = D_SP.iloc[:,0].values.reshape(-1,1)\n",
    "usd_return = D_SP.iloc[:,1].values.reshape(-1,1)"
   ]
  },
  {
   "cell_type": "code",
   "execution_count": 5,
   "metadata": {},
   "outputs": [],
   "source": [
    "stock = pd.read_excel ('~/Desktop/HW2.xlsx',sheet_name = 'SP500Stocks', header = 1, usecols = 'B:HF')"
   ]
  },
  {
   "cell_type": "code",
   "execution_count": 6,
   "metadata": {
    "scrolled": true
   },
   "outputs": [
    {
     "data": {
      "text/html": [
       "<div>\n",
       "<style scoped>\n",
       "    .dataframe tbody tr th:only-of-type {\n",
       "        vertical-align: middle;\n",
       "    }\n",
       "\n",
       "    .dataframe tbody tr th {\n",
       "        vertical-align: top;\n",
       "    }\n",
       "\n",
       "    .dataframe thead th {\n",
       "        text-align: right;\n",
       "    }\n",
       "</style>\n",
       "<table border=\"1\" class=\"dataframe\">\n",
       "  <thead>\n",
       "    <tr style=\"text-align: right;\">\n",
       "      <th></th>\n",
       "      <th>TICKER</th>\n",
       "      <th>SECTOR</th>\n",
       "      <th>MarketCap</th>\n",
       "      <th>2001-07-31 00:00:00</th>\n",
       "      <th>2001-08-31 00:00:00</th>\n",
       "      <th>2001-09-30 00:00:00</th>\n",
       "      <th>2001-10-31 00:00:00</th>\n",
       "      <th>2001-11-30 00:00:00</th>\n",
       "      <th>2001-12-31 00:00:00</th>\n",
       "      <th>2002-01-31 00:00:00</th>\n",
       "      <th>...</th>\n",
       "      <th>2018-03-31 00:00:00</th>\n",
       "      <th>2018-04-30 00:00:00</th>\n",
       "      <th>2018-05-31 00:00:00</th>\n",
       "      <th>2018-06-30 00:00:00</th>\n",
       "      <th>2018-07-31 00:00:00</th>\n",
       "      <th>2018-08-31 00:00:00</th>\n",
       "      <th>2018-09-30 00:00:00</th>\n",
       "      <th>2018-10-31 00:00:00</th>\n",
       "      <th>2018-11-30 00:00:00</th>\n",
       "      <th>2018-12-31 00:00:00</th>\n",
       "    </tr>\n",
       "  </thead>\n",
       "  <tbody>\n",
       "    <tr>\n",
       "      <th>0</th>\n",
       "      <td>MMM</td>\n",
       "      <td>INDU</td>\n",
       "      <td>110949</td>\n",
       "      <td>-1.945100</td>\n",
       "      <td>-6.446533</td>\n",
       "      <td>-5.475902</td>\n",
       "      <td>6.077282</td>\n",
       "      <td>10.339559</td>\n",
       "      <td>3.168009</td>\n",
       "      <td>-6.098369</td>\n",
       "      <td>...</td>\n",
       "      <td>-6.789357</td>\n",
       "      <td>-11.447915</td>\n",
       "      <td>2.149656</td>\n",
       "      <td>-0.258595</td>\n",
       "      <td>7.930319</td>\n",
       "      <td>0.006810</td>\n",
       "      <td>-0.099670</td>\n",
       "      <td>-9.705245</td>\n",
       "      <td>10.030197</td>\n",
       "      <td>-8.358958</td>\n",
       "    </tr>\n",
       "    <tr>\n",
       "      <th>1</th>\n",
       "      <td>ABT</td>\n",
       "      <td>HLTH</td>\n",
       "      <td>127036</td>\n",
       "      <td>12.112976</td>\n",
       "      <td>-7.258951</td>\n",
       "      <td>4.326061</td>\n",
       "      <td>2.599966</td>\n",
       "      <td>3.812730</td>\n",
       "      <td>1.363484</td>\n",
       "      <td>3.886888</td>\n",
       "      <td>...</td>\n",
       "      <td>-0.679629</td>\n",
       "      <td>-2.525512</td>\n",
       "      <td>5.848923</td>\n",
       "      <td>-0.877646</td>\n",
       "      <td>7.939856</td>\n",
       "      <td>1.983455</td>\n",
       "      <td>9.754681</td>\n",
       "      <td>-5.645529</td>\n",
       "      <td>7.412211</td>\n",
       "      <td>-2.322711</td>\n",
       "    </tr>\n",
       "    <tr>\n",
       "      <th>2</th>\n",
       "      <td>ABBV</td>\n",
       "      <td>HLTH</td>\n",
       "      <td>138674</td>\n",
       "      <td>NaN</td>\n",
       "      <td>NaN</td>\n",
       "      <td>NaN</td>\n",
       "      <td>NaN</td>\n",
       "      <td>NaN</td>\n",
       "      <td>NaN</td>\n",
       "      <td>NaN</td>\n",
       "      <td>...</td>\n",
       "      <td>-18.285435</td>\n",
       "      <td>3.070457</td>\n",
       "      <td>2.475368</td>\n",
       "      <td>-6.357350</td>\n",
       "      <td>0.546199</td>\n",
       "      <td>4.065904</td>\n",
       "      <td>-1.458604</td>\n",
       "      <td>-16.817462</td>\n",
       "      <td>21.091854</td>\n",
       "      <td>-2.206395</td>\n",
       "    </tr>\n",
       "    <tr>\n",
       "      <th>3</th>\n",
       "      <td>ABMD</td>\n",
       "      <td>HLTH</td>\n",
       "      <td>14640</td>\n",
       "      <td>-19.423240</td>\n",
       "      <td>-1.315789</td>\n",
       "      <td>-6.826667</td>\n",
       "      <td>24.441900</td>\n",
       "      <td>-12.741490</td>\n",
       "      <td>-16.605166</td>\n",
       "      <td>-6.131479</td>\n",
       "      <td>...</td>\n",
       "      <td>8.505481</td>\n",
       "      <td>3.422798</td>\n",
       "      <td>26.645622</td>\n",
       "      <td>7.322769</td>\n",
       "      <td>-13.328444</td>\n",
       "      <td>14.681409</td>\n",
       "      <td>10.617837</td>\n",
       "      <td>-24.135631</td>\n",
       "      <td>-2.497069</td>\n",
       "      <td>-2.296501</td>\n",
       "    </tr>\n",
       "    <tr>\n",
       "      <th>4</th>\n",
       "      <td>ACN</td>\n",
       "      <td>INFT</td>\n",
       "      <td>89887</td>\n",
       "      <td>NaN</td>\n",
       "      <td>-0.401070</td>\n",
       "      <td>-14.429530</td>\n",
       "      <td>37.803922</td>\n",
       "      <td>28.628344</td>\n",
       "      <td>19.115044</td>\n",
       "      <td>-4.234770</td>\n",
       "      <td>...</td>\n",
       "      <td>-4.664319</td>\n",
       "      <td>-0.615572</td>\n",
       "      <td>3.002638</td>\n",
       "      <td>5.040437</td>\n",
       "      <td>-2.604036</td>\n",
       "      <td>6.113071</td>\n",
       "      <td>0.668382</td>\n",
       "      <td>-6.540393</td>\n",
       "      <td>4.377624</td>\n",
       "      <td>-14.290059</td>\n",
       "    </tr>\n",
       "    <tr>\n",
       "      <th>...</th>\n",
       "      <td>...</td>\n",
       "      <td>...</td>\n",
       "      <td>...</td>\n",
       "      <td>...</td>\n",
       "      <td>...</td>\n",
       "      <td>...</td>\n",
       "      <td>...</td>\n",
       "      <td>...</td>\n",
       "      <td>...</td>\n",
       "      <td>...</td>\n",
       "      <td>...</td>\n",
       "      <td>...</td>\n",
       "      <td>...</td>\n",
       "      <td>...</td>\n",
       "      <td>...</td>\n",
       "      <td>...</td>\n",
       "      <td>...</td>\n",
       "      <td>...</td>\n",
       "      <td>...</td>\n",
       "      <td>...</td>\n",
       "      <td>...</td>\n",
       "    </tr>\n",
       "    <tr>\n",
       "      <th>500</th>\n",
       "      <td>XYL</td>\n",
       "      <td>INDU</td>\n",
       "      <td>11991</td>\n",
       "      <td>NaN</td>\n",
       "      <td>NaN</td>\n",
       "      <td>NaN</td>\n",
       "      <td>NaN</td>\n",
       "      <td>NaN</td>\n",
       "      <td>NaN</td>\n",
       "      <td>NaN</td>\n",
       "      <td>...</td>\n",
       "      <td>3.137550</td>\n",
       "      <td>-5.226213</td>\n",
       "      <td>-3.145842</td>\n",
       "      <td>-4.289844</td>\n",
       "      <td>13.624241</td>\n",
       "      <td>-0.578087</td>\n",
       "      <td>5.216744</td>\n",
       "      <td>-17.628674</td>\n",
       "      <td>11.283937</td>\n",
       "      <td>-8.577682</td>\n",
       "    </tr>\n",
       "    <tr>\n",
       "      <th>501</th>\n",
       "      <td>YUM</td>\n",
       "      <td>DSCR</td>\n",
       "      <td>28707</td>\n",
       "      <td>4.214608</td>\n",
       "      <td>-6.842003</td>\n",
       "      <td>-7.977550</td>\n",
       "      <td>28.990256</td>\n",
       "      <td>-6.206153</td>\n",
       "      <td>3.688246</td>\n",
       "      <td>13.414138</td>\n",
       "      <td>...</td>\n",
       "      <td>4.607980</td>\n",
       "      <td>2.314109</td>\n",
       "      <td>-6.221202</td>\n",
       "      <td>-3.823932</td>\n",
       "      <td>1.367929</td>\n",
       "      <td>10.055781</td>\n",
       "      <td>4.626532</td>\n",
       "      <td>-0.549981</td>\n",
       "      <td>2.423112</td>\n",
       "      <td>-0.325260</td>\n",
       "    </tr>\n",
       "    <tr>\n",
       "      <th>502</th>\n",
       "      <td>ZBH</td>\n",
       "      <td>HLTH</td>\n",
       "      <td>21156</td>\n",
       "      <td>NaN</td>\n",
       "      <td>-4.895105</td>\n",
       "      <td>2.022059</td>\n",
       "      <td>11.387387</td>\n",
       "      <td>4.367519</td>\n",
       "      <td>-5.331680</td>\n",
       "      <td>6.516045</td>\n",
       "      <td>...</td>\n",
       "      <td>-5.993991</td>\n",
       "      <td>5.621732</td>\n",
       "      <td>-3.177918</td>\n",
       "      <td>0.152802</td>\n",
       "      <td>12.634576</td>\n",
       "      <td>-1.505699</td>\n",
       "      <td>6.538274</td>\n",
       "      <td>-13.600042</td>\n",
       "      <td>3.019571</td>\n",
       "      <td>-11.156387</td>\n",
       "    </tr>\n",
       "    <tr>\n",
       "      <th>503</th>\n",
       "      <td>ZION</td>\n",
       "      <td>FINA</td>\n",
       "      <td>7830</td>\n",
       "      <td>-0.932129</td>\n",
       "      <td>-1.698511</td>\n",
       "      <td>-6.287271</td>\n",
       "      <td>-10.696854</td>\n",
       "      <td>1.164570</td>\n",
       "      <td>8.906415</td>\n",
       "      <td>-4.260132</td>\n",
       "      <td>...</td>\n",
       "      <td>-4.074956</td>\n",
       "      <td>3.830840</td>\n",
       "      <td>0.525614</td>\n",
       "      <td>-3.867899</td>\n",
       "      <td>-1.878993</td>\n",
       "      <td>3.662039</td>\n",
       "      <td>-5.892335</td>\n",
       "      <td>-6.181357</td>\n",
       "      <td>4.055791</td>\n",
       "      <td>-16.276212</td>\n",
       "    </tr>\n",
       "    <tr>\n",
       "      <th>504</th>\n",
       "      <td>ZTS</td>\n",
       "      <td>HLTH</td>\n",
       "      <td>41098</td>\n",
       "      <td>NaN</td>\n",
       "      <td>NaN</td>\n",
       "      <td>NaN</td>\n",
       "      <td>NaN</td>\n",
       "      <td>NaN</td>\n",
       "      <td>NaN</td>\n",
       "      <td>NaN</td>\n",
       "      <td>...</td>\n",
       "      <td>3.277277</td>\n",
       "      <td>0.111571</td>\n",
       "      <td>0.263494</td>\n",
       "      <td>1.780188</td>\n",
       "      <td>1.663960</td>\n",
       "      <td>4.764175</td>\n",
       "      <td>1.059554</td>\n",
       "      <td>-1.539947</td>\n",
       "      <td>4.272029</td>\n",
       "      <td>-8.873969</td>\n",
       "    </tr>\n",
       "  </tbody>\n",
       "</table>\n",
       "<p>505 rows × 213 columns</p>\n",
       "</div>"
      ],
      "text/plain": [
       "    TICKER SECTOR  MarketCap  2001-07-31 00:00:00  2001-08-31 00:00:00  \\\n",
       "0      MMM   INDU     110949            -1.945100            -6.446533   \n",
       "1      ABT   HLTH     127036            12.112976            -7.258951   \n",
       "2     ABBV   HLTH     138674                  NaN                  NaN   \n",
       "3     ABMD   HLTH      14640           -19.423240            -1.315789   \n",
       "4      ACN   INFT      89887                  NaN            -0.401070   \n",
       "..     ...    ...        ...                  ...                  ...   \n",
       "500    XYL   INDU      11991                  NaN                  NaN   \n",
       "501    YUM   DSCR      28707             4.214608            -6.842003   \n",
       "502    ZBH   HLTH      21156                  NaN            -4.895105   \n",
       "503   ZION   FINA       7830            -0.932129            -1.698511   \n",
       "504    ZTS   HLTH      41098                  NaN                  NaN   \n",
       "\n",
       "     2001-09-30 00:00:00  2001-10-31 00:00:00  2001-11-30 00:00:00  \\\n",
       "0              -5.475902             6.077282            10.339559   \n",
       "1               4.326061             2.599966             3.812730   \n",
       "2                    NaN                  NaN                  NaN   \n",
       "3              -6.826667            24.441900           -12.741490   \n",
       "4             -14.429530            37.803922            28.628344   \n",
       "..                   ...                  ...                  ...   \n",
       "500                  NaN                  NaN                  NaN   \n",
       "501            -7.977550            28.990256            -6.206153   \n",
       "502             2.022059            11.387387             4.367519   \n",
       "503            -6.287271           -10.696854             1.164570   \n",
       "504                  NaN                  NaN                  NaN   \n",
       "\n",
       "     2001-12-31 00:00:00  2002-01-31 00:00:00  ...  2018-03-31 00:00:00  \\\n",
       "0               3.168009            -6.098369  ...            -6.789357   \n",
       "1               1.363484             3.886888  ...            -0.679629   \n",
       "2                    NaN                  NaN  ...           -18.285435   \n",
       "3             -16.605166            -6.131479  ...             8.505481   \n",
       "4              19.115044            -4.234770  ...            -4.664319   \n",
       "..                   ...                  ...  ...                  ...   \n",
       "500                  NaN                  NaN  ...             3.137550   \n",
       "501             3.688246            13.414138  ...             4.607980   \n",
       "502            -5.331680             6.516045  ...            -5.993991   \n",
       "503             8.906415            -4.260132  ...            -4.074956   \n",
       "504                  NaN                  NaN  ...             3.277277   \n",
       "\n",
       "     2018-04-30 00:00:00  2018-05-31 00:00:00  2018-06-30 00:00:00  \\\n",
       "0             -11.447915             2.149656            -0.258595   \n",
       "1              -2.525512             5.848923            -0.877646   \n",
       "2               3.070457             2.475368            -6.357350   \n",
       "3               3.422798            26.645622             7.322769   \n",
       "4              -0.615572             3.002638             5.040437   \n",
       "..                   ...                  ...                  ...   \n",
       "500            -5.226213            -3.145842            -4.289844   \n",
       "501             2.314109            -6.221202            -3.823932   \n",
       "502             5.621732            -3.177918             0.152802   \n",
       "503             3.830840             0.525614            -3.867899   \n",
       "504             0.111571             0.263494             1.780188   \n",
       "\n",
       "     2018-07-31 00:00:00  2018-08-31 00:00:00  2018-09-30 00:00:00  \\\n",
       "0               7.930319             0.006810            -0.099670   \n",
       "1               7.939856             1.983455             9.754681   \n",
       "2               0.546199             4.065904            -1.458604   \n",
       "3             -13.328444            14.681409            10.617837   \n",
       "4              -2.604036             6.113071             0.668382   \n",
       "..                   ...                  ...                  ...   \n",
       "500            13.624241            -0.578087             5.216744   \n",
       "501             1.367929            10.055781             4.626532   \n",
       "502            12.634576            -1.505699             6.538274   \n",
       "503            -1.878993             3.662039            -5.892335   \n",
       "504             1.663960             4.764175             1.059554   \n",
       "\n",
       "     2018-10-31 00:00:00  2018-11-30 00:00:00  2018-12-31 00:00:00  \n",
       "0              -9.705245            10.030197            -8.358958  \n",
       "1              -5.645529             7.412211            -2.322711  \n",
       "2             -16.817462            21.091854            -2.206395  \n",
       "3             -24.135631            -2.497069            -2.296501  \n",
       "4              -6.540393             4.377624           -14.290059  \n",
       "..                   ...                  ...                  ...  \n",
       "500           -17.628674            11.283937            -8.577682  \n",
       "501            -0.549981             2.423112            -0.325260  \n",
       "502           -13.600042             3.019571           -11.156387  \n",
       "503            -6.181357             4.055791           -16.276212  \n",
       "504            -1.539947             4.272029            -8.873969  \n",
       "\n",
       "[505 rows x 213 columns]"
      ]
     },
     "execution_count": 6,
     "metadata": {},
     "output_type": "execute_result"
    }
   ],
   "source": [
    "stock"
   ]
  },
  {
   "cell_type": "code",
   "execution_count": 7,
   "metadata": {},
   "outputs": [],
   "source": [
    "ticker = stock.TICKER\n",
    "mc = stock.MarketCap\n",
    "mc1 = mc.map(lambda x: math.log(x)) \n",
    "logmc = np.array(mc1.values.tolist())"
   ]
  },
  {
   "cell_type": "code",
   "execution_count": 8,
   "metadata": {},
   "outputs": [],
   "source": [
    "# check the number of sectors"
   ]
  },
  {
   "cell_type": "code",
   "execution_count": 9,
   "metadata": {},
   "outputs": [],
   "source": [
    "x = stock.SECTOR.unique()"
   ]
  },
  {
   "cell_type": "code",
   "execution_count": 10,
   "metadata": {},
   "outputs": [
    {
     "data": {
      "text/plain": [
       "['INDU',\n",
       " 'HLTH',\n",
       " 'INFT',\n",
       " 'TCOM',\n",
       " 'DSCR',\n",
       " 'FINA',\n",
       " 'MATS',\n",
       " 'REAL',\n",
       " 'STPL',\n",
       " 'ENER']"
      ]
     },
     "execution_count": 10,
     "metadata": {},
     "output_type": "execute_result"
    }
   ],
   "source": [
    "name_sec = x.copy()\n",
    "name_sec = name_sec.tolist()\n",
    "del name_sec[5]\n",
    "name = name_sec\n",
    "name"
   ]
  },
  {
   "cell_type": "code",
   "execution_count": 11,
   "metadata": {},
   "outputs": [],
   "source": [
    "sector = stock.SECTOR.values"
   ]
  },
  {
   "cell_type": "code",
   "execution_count": 12,
   "metadata": {},
   "outputs": [],
   "source": [
    "# thus we need 10 columns to specify every sector, 10zeros means \n",
    "# the category of UTIL\n",
    "# However, in the convenience of calculate z-score of marketcap\n",
    "# I will not delete it at first"
   ]
  },
  {
   "cell_type": "code",
   "execution_count": 13,
   "metadata": {},
   "outputs": [
    {
     "data": {
      "text/plain": [
       "array([[0., 0., 0., ..., 0., 0., 0.],\n",
       "       [0., 0., 0., ..., 0., 0., 0.],\n",
       "       [0., 0., 0., ..., 0., 0., 0.],\n",
       "       ...,\n",
       "       [0., 0., 0., ..., 0., 0., 0.],\n",
       "       [0., 0., 0., ..., 0., 0., 0.],\n",
       "       [0., 0., 0., ..., 0., 0., 0.]])"
      ]
     },
     "execution_count": 13,
     "metadata": {},
     "output_type": "execute_result"
    }
   ],
   "source": [
    "sec_array = np.zeros([505,11])\n",
    "sec_array"
   ]
  },
  {
   "cell_type": "code",
   "execution_count": 14,
   "metadata": {},
   "outputs": [],
   "source": [
    "for i in range(0,505):\n",
    "    for j in range(0,11):\n",
    "        if sector[i] == x[j]:\n",
    "            sec_array[i,j] = 1\n",
    "        else:\n",
    "            sec_array[i,j] = 0"
   ]
  },
  {
   "cell_type": "code",
   "execution_count": 15,
   "metadata": {},
   "outputs": [
    {
     "data": {
      "text/plain": [
       "array([[1., 0., 0., ..., 0., 0., 0.],\n",
       "       [0., 1., 0., ..., 0., 0., 0.],\n",
       "       [0., 1., 0., ..., 0., 0., 0.],\n",
       "       ...,\n",
       "       [0., 1., 0., ..., 0., 0., 0.],\n",
       "       [0., 0., 0., ..., 0., 0., 0.],\n",
       "       [0., 1., 0., ..., 0., 0., 0.]])"
      ]
     },
     "execution_count": 15,
     "metadata": {},
     "output_type": "execute_result"
    }
   ],
   "source": [
    "sec_array"
   ]
  },
  {
   "cell_type": "code",
   "execution_count": 16,
   "metadata": {},
   "outputs": [],
   "source": [
    "sec_frame = pd.DataFrame(sec_array, index = ticker, \n",
    "             columns=x)"
   ]
  },
  {
   "cell_type": "code",
   "execution_count": 17,
   "metadata": {},
   "outputs": [
    {
     "data": {
      "text/html": [
       "<div>\n",
       "<style scoped>\n",
       "    .dataframe tbody tr th:only-of-type {\n",
       "        vertical-align: middle;\n",
       "    }\n",
       "\n",
       "    .dataframe tbody tr th {\n",
       "        vertical-align: top;\n",
       "    }\n",
       "\n",
       "    .dataframe thead th {\n",
       "        text-align: right;\n",
       "    }\n",
       "</style>\n",
       "<table border=\"1\" class=\"dataframe\">\n",
       "  <thead>\n",
       "    <tr style=\"text-align: right;\">\n",
       "      <th></th>\n",
       "      <th>INDU</th>\n",
       "      <th>HLTH</th>\n",
       "      <th>INFT</th>\n",
       "      <th>TCOM</th>\n",
       "      <th>DSCR</th>\n",
       "      <th>FINA</th>\n",
       "      <th>MATS</th>\n",
       "      <th>REAL</th>\n",
       "      <th>STPL</th>\n",
       "      <th>ENER</th>\n",
       "    </tr>\n",
       "    <tr>\n",
       "      <th>TICKER</th>\n",
       "      <th></th>\n",
       "      <th></th>\n",
       "      <th></th>\n",
       "      <th></th>\n",
       "      <th></th>\n",
       "      <th></th>\n",
       "      <th></th>\n",
       "      <th></th>\n",
       "      <th></th>\n",
       "      <th></th>\n",
       "    </tr>\n",
       "  </thead>\n",
       "  <tbody>\n",
       "    <tr>\n",
       "      <th>MMM</th>\n",
       "      <td>1.0</td>\n",
       "      <td>0.0</td>\n",
       "      <td>0.0</td>\n",
       "      <td>0.0</td>\n",
       "      <td>0.0</td>\n",
       "      <td>0.0</td>\n",
       "      <td>0.0</td>\n",
       "      <td>0.0</td>\n",
       "      <td>0.0</td>\n",
       "      <td>0.0</td>\n",
       "    </tr>\n",
       "    <tr>\n",
       "      <th>ABT</th>\n",
       "      <td>0.0</td>\n",
       "      <td>1.0</td>\n",
       "      <td>0.0</td>\n",
       "      <td>0.0</td>\n",
       "      <td>0.0</td>\n",
       "      <td>0.0</td>\n",
       "      <td>0.0</td>\n",
       "      <td>0.0</td>\n",
       "      <td>0.0</td>\n",
       "      <td>0.0</td>\n",
       "    </tr>\n",
       "    <tr>\n",
       "      <th>ABBV</th>\n",
       "      <td>0.0</td>\n",
       "      <td>1.0</td>\n",
       "      <td>0.0</td>\n",
       "      <td>0.0</td>\n",
       "      <td>0.0</td>\n",
       "      <td>0.0</td>\n",
       "      <td>0.0</td>\n",
       "      <td>0.0</td>\n",
       "      <td>0.0</td>\n",
       "      <td>0.0</td>\n",
       "    </tr>\n",
       "    <tr>\n",
       "      <th>ABMD</th>\n",
       "      <td>0.0</td>\n",
       "      <td>1.0</td>\n",
       "      <td>0.0</td>\n",
       "      <td>0.0</td>\n",
       "      <td>0.0</td>\n",
       "      <td>0.0</td>\n",
       "      <td>0.0</td>\n",
       "      <td>0.0</td>\n",
       "      <td>0.0</td>\n",
       "      <td>0.0</td>\n",
       "    </tr>\n",
       "    <tr>\n",
       "      <th>ACN</th>\n",
       "      <td>0.0</td>\n",
       "      <td>0.0</td>\n",
       "      <td>1.0</td>\n",
       "      <td>0.0</td>\n",
       "      <td>0.0</td>\n",
       "      <td>0.0</td>\n",
       "      <td>0.0</td>\n",
       "      <td>0.0</td>\n",
       "      <td>0.0</td>\n",
       "      <td>0.0</td>\n",
       "    </tr>\n",
       "    <tr>\n",
       "      <th>...</th>\n",
       "      <td>...</td>\n",
       "      <td>...</td>\n",
       "      <td>...</td>\n",
       "      <td>...</td>\n",
       "      <td>...</td>\n",
       "      <td>...</td>\n",
       "      <td>...</td>\n",
       "      <td>...</td>\n",
       "      <td>...</td>\n",
       "      <td>...</td>\n",
       "    </tr>\n",
       "    <tr>\n",
       "      <th>XYL</th>\n",
       "      <td>1.0</td>\n",
       "      <td>0.0</td>\n",
       "      <td>0.0</td>\n",
       "      <td>0.0</td>\n",
       "      <td>0.0</td>\n",
       "      <td>0.0</td>\n",
       "      <td>0.0</td>\n",
       "      <td>0.0</td>\n",
       "      <td>0.0</td>\n",
       "      <td>0.0</td>\n",
       "    </tr>\n",
       "    <tr>\n",
       "      <th>YUM</th>\n",
       "      <td>0.0</td>\n",
       "      <td>0.0</td>\n",
       "      <td>0.0</td>\n",
       "      <td>0.0</td>\n",
       "      <td>1.0</td>\n",
       "      <td>0.0</td>\n",
       "      <td>0.0</td>\n",
       "      <td>0.0</td>\n",
       "      <td>0.0</td>\n",
       "      <td>0.0</td>\n",
       "    </tr>\n",
       "    <tr>\n",
       "      <th>ZBH</th>\n",
       "      <td>0.0</td>\n",
       "      <td>1.0</td>\n",
       "      <td>0.0</td>\n",
       "      <td>0.0</td>\n",
       "      <td>0.0</td>\n",
       "      <td>0.0</td>\n",
       "      <td>0.0</td>\n",
       "      <td>0.0</td>\n",
       "      <td>0.0</td>\n",
       "      <td>0.0</td>\n",
       "    </tr>\n",
       "    <tr>\n",
       "      <th>ZION</th>\n",
       "      <td>0.0</td>\n",
       "      <td>0.0</td>\n",
       "      <td>0.0</td>\n",
       "      <td>0.0</td>\n",
       "      <td>0.0</td>\n",
       "      <td>1.0</td>\n",
       "      <td>0.0</td>\n",
       "      <td>0.0</td>\n",
       "      <td>0.0</td>\n",
       "      <td>0.0</td>\n",
       "    </tr>\n",
       "    <tr>\n",
       "      <th>ZTS</th>\n",
       "      <td>0.0</td>\n",
       "      <td>1.0</td>\n",
       "      <td>0.0</td>\n",
       "      <td>0.0</td>\n",
       "      <td>0.0</td>\n",
       "      <td>0.0</td>\n",
       "      <td>0.0</td>\n",
       "      <td>0.0</td>\n",
       "      <td>0.0</td>\n",
       "      <td>0.0</td>\n",
       "    </tr>\n",
       "  </tbody>\n",
       "</table>\n",
       "<p>505 rows × 10 columns</p>\n",
       "</div>"
      ],
      "text/plain": [
       "        INDU  HLTH  INFT  TCOM  DSCR  FINA  MATS  REAL  STPL  ENER\n",
       "TICKER                                                            \n",
       "MMM      1.0   0.0   0.0   0.0   0.0   0.0   0.0   0.0   0.0   0.0\n",
       "ABT      0.0   1.0   0.0   0.0   0.0   0.0   0.0   0.0   0.0   0.0\n",
       "ABBV     0.0   1.0   0.0   0.0   0.0   0.0   0.0   0.0   0.0   0.0\n",
       "ABMD     0.0   1.0   0.0   0.0   0.0   0.0   0.0   0.0   0.0   0.0\n",
       "ACN      0.0   0.0   1.0   0.0   0.0   0.0   0.0   0.0   0.0   0.0\n",
       "...      ...   ...   ...   ...   ...   ...   ...   ...   ...   ...\n",
       "XYL      1.0   0.0   0.0   0.0   0.0   0.0   0.0   0.0   0.0   0.0\n",
       "YUM      0.0   0.0   0.0   0.0   1.0   0.0   0.0   0.0   0.0   0.0\n",
       "ZBH      0.0   1.0   0.0   0.0   0.0   0.0   0.0   0.0   0.0   0.0\n",
       "ZION     0.0   0.0   0.0   0.0   0.0   1.0   0.0   0.0   0.0   0.0\n",
       "ZTS      0.0   1.0   0.0   0.0   0.0   0.0   0.0   0.0   0.0   0.0\n",
       "\n",
       "[505 rows x 10 columns]"
      ]
     },
     "execution_count": 17,
     "metadata": {},
     "output_type": "execute_result"
    }
   ],
   "source": [
    "sec_factor = sec_frame.drop(labels=None,axis=1, index=None, columns='UTIL', inplace=False)\n",
    "sec_factor"
   ]
  },
  {
   "cell_type": "code",
   "execution_count": 18,
   "metadata": {
    "scrolled": true
   },
   "outputs": [
    {
     "data": {
      "text/html": [
       "<div>\n",
       "<style scoped>\n",
       "    .dataframe tbody tr th:only-of-type {\n",
       "        vertical-align: middle;\n",
       "    }\n",
       "\n",
       "    .dataframe tbody tr th {\n",
       "        vertical-align: top;\n",
       "    }\n",
       "\n",
       "    .dataframe thead th {\n",
       "        text-align: right;\n",
       "    }\n",
       "</style>\n",
       "<table border=\"1\" class=\"dataframe\">\n",
       "  <thead>\n",
       "    <tr style=\"text-align: right;\">\n",
       "      <th></th>\n",
       "      <th>INDU</th>\n",
       "      <th>HLTH</th>\n",
       "      <th>INFT</th>\n",
       "      <th>TCOM</th>\n",
       "      <th>DSCR</th>\n",
       "      <th>UTIL</th>\n",
       "      <th>FINA</th>\n",
       "      <th>MATS</th>\n",
       "      <th>REAL</th>\n",
       "      <th>STPL</th>\n",
       "      <th>ENER</th>\n",
       "      <th>lgmc</th>\n",
       "    </tr>\n",
       "    <tr>\n",
       "      <th>TICKER</th>\n",
       "      <th></th>\n",
       "      <th></th>\n",
       "      <th></th>\n",
       "      <th></th>\n",
       "      <th></th>\n",
       "      <th></th>\n",
       "      <th></th>\n",
       "      <th></th>\n",
       "      <th></th>\n",
       "      <th></th>\n",
       "      <th></th>\n",
       "      <th></th>\n",
       "    </tr>\n",
       "  </thead>\n",
       "  <tbody>\n",
       "    <tr>\n",
       "      <th>MMM</th>\n",
       "      <td>1.0</td>\n",
       "      <td>0.0</td>\n",
       "      <td>0.0</td>\n",
       "      <td>0.0</td>\n",
       "      <td>0.0</td>\n",
       "      <td>0.0</td>\n",
       "      <td>0.0</td>\n",
       "      <td>0.0</td>\n",
       "      <td>0.0</td>\n",
       "      <td>0.0</td>\n",
       "      <td>0.0</td>\n",
       "      <td>11.616826</td>\n",
       "    </tr>\n",
       "    <tr>\n",
       "      <th>ABT</th>\n",
       "      <td>0.0</td>\n",
       "      <td>1.0</td>\n",
       "      <td>0.0</td>\n",
       "      <td>0.0</td>\n",
       "      <td>0.0</td>\n",
       "      <td>0.0</td>\n",
       "      <td>0.0</td>\n",
       "      <td>0.0</td>\n",
       "      <td>0.0</td>\n",
       "      <td>0.0</td>\n",
       "      <td>0.0</td>\n",
       "      <td>11.752226</td>\n",
       "    </tr>\n",
       "    <tr>\n",
       "      <th>ABBV</th>\n",
       "      <td>0.0</td>\n",
       "      <td>1.0</td>\n",
       "      <td>0.0</td>\n",
       "      <td>0.0</td>\n",
       "      <td>0.0</td>\n",
       "      <td>0.0</td>\n",
       "      <td>0.0</td>\n",
       "      <td>0.0</td>\n",
       "      <td>0.0</td>\n",
       "      <td>0.0</td>\n",
       "      <td>0.0</td>\n",
       "      <td>11.839881</td>\n",
       "    </tr>\n",
       "    <tr>\n",
       "      <th>ABMD</th>\n",
       "      <td>0.0</td>\n",
       "      <td>1.0</td>\n",
       "      <td>0.0</td>\n",
       "      <td>0.0</td>\n",
       "      <td>0.0</td>\n",
       "      <td>0.0</td>\n",
       "      <td>0.0</td>\n",
       "      <td>0.0</td>\n",
       "      <td>0.0</td>\n",
       "      <td>0.0</td>\n",
       "      <td>0.0</td>\n",
       "      <td>9.591513</td>\n",
       "    </tr>\n",
       "    <tr>\n",
       "      <th>ACN</th>\n",
       "      <td>0.0</td>\n",
       "      <td>0.0</td>\n",
       "      <td>1.0</td>\n",
       "      <td>0.0</td>\n",
       "      <td>0.0</td>\n",
       "      <td>0.0</td>\n",
       "      <td>0.0</td>\n",
       "      <td>0.0</td>\n",
       "      <td>0.0</td>\n",
       "      <td>0.0</td>\n",
       "      <td>0.0</td>\n",
       "      <td>11.406309</td>\n",
       "    </tr>\n",
       "    <tr>\n",
       "      <th>...</th>\n",
       "      <td>...</td>\n",
       "      <td>...</td>\n",
       "      <td>...</td>\n",
       "      <td>...</td>\n",
       "      <td>...</td>\n",
       "      <td>...</td>\n",
       "      <td>...</td>\n",
       "      <td>...</td>\n",
       "      <td>...</td>\n",
       "      <td>...</td>\n",
       "      <td>...</td>\n",
       "      <td>...</td>\n",
       "    </tr>\n",
       "    <tr>\n",
       "      <th>XYL</th>\n",
       "      <td>1.0</td>\n",
       "      <td>0.0</td>\n",
       "      <td>0.0</td>\n",
       "      <td>0.0</td>\n",
       "      <td>0.0</td>\n",
       "      <td>0.0</td>\n",
       "      <td>0.0</td>\n",
       "      <td>0.0</td>\n",
       "      <td>0.0</td>\n",
       "      <td>0.0</td>\n",
       "      <td>0.0</td>\n",
       "      <td>9.391912</td>\n",
       "    </tr>\n",
       "    <tr>\n",
       "      <th>YUM</th>\n",
       "      <td>0.0</td>\n",
       "      <td>0.0</td>\n",
       "      <td>0.0</td>\n",
       "      <td>0.0</td>\n",
       "      <td>1.0</td>\n",
       "      <td>0.0</td>\n",
       "      <td>0.0</td>\n",
       "      <td>0.0</td>\n",
       "      <td>0.0</td>\n",
       "      <td>0.0</td>\n",
       "      <td>0.0</td>\n",
       "      <td>10.264896</td>\n",
       "    </tr>\n",
       "    <tr>\n",
       "      <th>ZBH</th>\n",
       "      <td>0.0</td>\n",
       "      <td>1.0</td>\n",
       "      <td>0.0</td>\n",
       "      <td>0.0</td>\n",
       "      <td>0.0</td>\n",
       "      <td>0.0</td>\n",
       "      <td>0.0</td>\n",
       "      <td>0.0</td>\n",
       "      <td>0.0</td>\n",
       "      <td>0.0</td>\n",
       "      <td>0.0</td>\n",
       "      <td>9.959679</td>\n",
       "    </tr>\n",
       "    <tr>\n",
       "      <th>ZION</th>\n",
       "      <td>0.0</td>\n",
       "      <td>0.0</td>\n",
       "      <td>0.0</td>\n",
       "      <td>0.0</td>\n",
       "      <td>0.0</td>\n",
       "      <td>0.0</td>\n",
       "      <td>1.0</td>\n",
       "      <td>0.0</td>\n",
       "      <td>0.0</td>\n",
       "      <td>0.0</td>\n",
       "      <td>0.0</td>\n",
       "      <td>8.965718</td>\n",
       "    </tr>\n",
       "    <tr>\n",
       "      <th>ZTS</th>\n",
       "      <td>0.0</td>\n",
       "      <td>1.0</td>\n",
       "      <td>0.0</td>\n",
       "      <td>0.0</td>\n",
       "      <td>0.0</td>\n",
       "      <td>0.0</td>\n",
       "      <td>0.0</td>\n",
       "      <td>0.0</td>\n",
       "      <td>0.0</td>\n",
       "      <td>0.0</td>\n",
       "      <td>0.0</td>\n",
       "      <td>10.623715</td>\n",
       "    </tr>\n",
       "  </tbody>\n",
       "</table>\n",
       "<p>505 rows × 12 columns</p>\n",
       "</div>"
      ],
      "text/plain": [
       "        INDU  HLTH  INFT  TCOM  DSCR  UTIL  FINA  MATS  REAL  STPL  ENER  \\\n",
       "TICKER                                                                     \n",
       "MMM      1.0   0.0   0.0   0.0   0.0   0.0   0.0   0.0   0.0   0.0   0.0   \n",
       "ABT      0.0   1.0   0.0   0.0   0.0   0.0   0.0   0.0   0.0   0.0   0.0   \n",
       "ABBV     0.0   1.0   0.0   0.0   0.0   0.0   0.0   0.0   0.0   0.0   0.0   \n",
       "ABMD     0.0   1.0   0.0   0.0   0.0   0.0   0.0   0.0   0.0   0.0   0.0   \n",
       "ACN      0.0   0.0   1.0   0.0   0.0   0.0   0.0   0.0   0.0   0.0   0.0   \n",
       "...      ...   ...   ...   ...   ...   ...   ...   ...   ...   ...   ...   \n",
       "XYL      1.0   0.0   0.0   0.0   0.0   0.0   0.0   0.0   0.0   0.0   0.0   \n",
       "YUM      0.0   0.0   0.0   0.0   1.0   0.0   0.0   0.0   0.0   0.0   0.0   \n",
       "ZBH      0.0   1.0   0.0   0.0   0.0   0.0   0.0   0.0   0.0   0.0   0.0   \n",
       "ZION     0.0   0.0   0.0   0.0   0.0   0.0   1.0   0.0   0.0   0.0   0.0   \n",
       "ZTS      0.0   1.0   0.0   0.0   0.0   0.0   0.0   0.0   0.0   0.0   0.0   \n",
       "\n",
       "             lgmc  \n",
       "TICKER             \n",
       "MMM     11.616826  \n",
       "ABT     11.752226  \n",
       "ABBV    11.839881  \n",
       "ABMD     9.591513  \n",
       "ACN     11.406309  \n",
       "...           ...  \n",
       "XYL      9.391912  \n",
       "YUM     10.264896  \n",
       "ZBH      9.959679  \n",
       "ZION     8.965718  \n",
       "ZTS     10.623715  \n",
       "\n",
       "[505 rows x 12 columns]"
      ]
     },
     "execution_count": 18,
     "metadata": {},
     "output_type": "execute_result"
    }
   ],
   "source": [
    "lgmc_frame = pd.DataFrame(logmc, index = ticker)\n",
    "lgmc_frame.columns = ['lgmc']\n",
    "mc_sec = pd.merge(sec_frame, lgmc_frame, left_index=True, right_index=True, how='left')\n",
    "mc_sec"
   ]
  },
  {
   "cell_type": "code",
   "execution_count": 19,
   "metadata": {},
   "outputs": [
    {
     "data": {
      "text/plain": [
       "9.887828138254545"
      ]
     },
     "execution_count": 19,
     "metadata": {},
     "output_type": "execute_result"
    }
   ],
   "source": [
    "#test the demand...\n",
    "test = mc_sec.iloc[:,-1][mc_sec['INDU'] == 1]\n",
    "test.mean()"
   ]
  },
  {
   "cell_type": "code",
   "execution_count": 20,
   "metadata": {},
   "outputs": [],
   "source": [
    "#def statistics_cap(sectorname):\n",
    "mean_cap = []\n",
    "vol_cap = []\n",
    "for i in x:\n",
    "    feature_data = mc_sec.iloc[:,-1][mc_sec[i] == 1]\n",
    "    mean = feature_data.mean()\n",
    "    vol = feature_data.std()\n",
    "    mean_cap.append(mean)\n",
    "    vol_cap.append(vol)  "
   ]
  },
  {
   "cell_type": "code",
   "execution_count": 21,
   "metadata": {},
   "outputs": [],
   "source": [
    "z_score = np.zeros([505,1])\n",
    "for i in range(0,505):\n",
    "    for j in range(0,11):\n",
    "        if mc_sec.iloc[i,j] == 1:\n",
    "            z_score[i] = (mc_sec.lgmc[i] - mean_cap[j])/vol_cap[j]"
   ]
  },
  {
   "cell_type": "code",
   "execution_count": 22,
   "metadata": {},
   "outputs": [],
   "source": [
    "z_frame = pd.DataFrame(z_score, index = ticker)\n",
    "z_frame.columns = ['z_score']\n",
    "z_sec = pd.merge(mc_sec, z_frame, left_index=True, right_index=True, how='left')"
   ]
  },
  {
   "cell_type": "code",
   "execution_count": 23,
   "metadata": {},
   "outputs": [],
   "source": [
    "z_sec = z_sec.drop('UTIL', axis=1)"
   ]
  },
  {
   "cell_type": "code",
   "execution_count": 24,
   "metadata": {},
   "outputs": [
    {
     "data": {
      "text/html": [
       "<div>\n",
       "<style scoped>\n",
       "    .dataframe tbody tr th:only-of-type {\n",
       "        vertical-align: middle;\n",
       "    }\n",
       "\n",
       "    .dataframe tbody tr th {\n",
       "        vertical-align: top;\n",
       "    }\n",
       "\n",
       "    .dataframe thead th {\n",
       "        text-align: right;\n",
       "    }\n",
       "</style>\n",
       "<table border=\"1\" class=\"dataframe\">\n",
       "  <thead>\n",
       "    <tr style=\"text-align: right;\">\n",
       "      <th></th>\n",
       "      <th>INDU</th>\n",
       "      <th>HLTH</th>\n",
       "      <th>INFT</th>\n",
       "      <th>TCOM</th>\n",
       "      <th>DSCR</th>\n",
       "      <th>FINA</th>\n",
       "      <th>MATS</th>\n",
       "      <th>REAL</th>\n",
       "      <th>STPL</th>\n",
       "      <th>ENER</th>\n",
       "      <th>lgmc</th>\n",
       "      <th>z_score</th>\n",
       "    </tr>\n",
       "    <tr>\n",
       "      <th>TICKER</th>\n",
       "      <th></th>\n",
       "      <th></th>\n",
       "      <th></th>\n",
       "      <th></th>\n",
       "      <th></th>\n",
       "      <th></th>\n",
       "      <th></th>\n",
       "      <th></th>\n",
       "      <th></th>\n",
       "      <th></th>\n",
       "      <th></th>\n",
       "      <th></th>\n",
       "    </tr>\n",
       "  </thead>\n",
       "  <tbody>\n",
       "    <tr>\n",
       "      <th>MMM</th>\n",
       "      <td>1.0</td>\n",
       "      <td>0.0</td>\n",
       "      <td>0.0</td>\n",
       "      <td>0.0</td>\n",
       "      <td>0.0</td>\n",
       "      <td>0.0</td>\n",
       "      <td>0.0</td>\n",
       "      <td>0.0</td>\n",
       "      <td>0.0</td>\n",
       "      <td>0.0</td>\n",
       "      <td>11.616826</td>\n",
       "      <td>1.977538</td>\n",
       "    </tr>\n",
       "    <tr>\n",
       "      <th>ABT</th>\n",
       "      <td>0.0</td>\n",
       "      <td>1.0</td>\n",
       "      <td>0.0</td>\n",
       "      <td>0.0</td>\n",
       "      <td>0.0</td>\n",
       "      <td>0.0</td>\n",
       "      <td>0.0</td>\n",
       "      <td>0.0</td>\n",
       "      <td>0.0</td>\n",
       "      <td>0.0</td>\n",
       "      <td>11.752226</td>\n",
       "      <td>1.350510</td>\n",
       "    </tr>\n",
       "    <tr>\n",
       "      <th>ABBV</th>\n",
       "      <td>0.0</td>\n",
       "      <td>1.0</td>\n",
       "      <td>0.0</td>\n",
       "      <td>0.0</td>\n",
       "      <td>0.0</td>\n",
       "      <td>0.0</td>\n",
       "      <td>0.0</td>\n",
       "      <td>0.0</td>\n",
       "      <td>0.0</td>\n",
       "      <td>0.0</td>\n",
       "      <td>11.839881</td>\n",
       "      <td>1.436935</td>\n",
       "    </tr>\n",
       "    <tr>\n",
       "      <th>ABMD</th>\n",
       "      <td>0.0</td>\n",
       "      <td>1.0</td>\n",
       "      <td>0.0</td>\n",
       "      <td>0.0</td>\n",
       "      <td>0.0</td>\n",
       "      <td>0.0</td>\n",
       "      <td>0.0</td>\n",
       "      <td>0.0</td>\n",
       "      <td>0.0</td>\n",
       "      <td>0.0</td>\n",
       "      <td>9.591513</td>\n",
       "      <td>-0.779869</td>\n",
       "    </tr>\n",
       "    <tr>\n",
       "      <th>ACN</th>\n",
       "      <td>0.0</td>\n",
       "      <td>0.0</td>\n",
       "      <td>1.0</td>\n",
       "      <td>0.0</td>\n",
       "      <td>0.0</td>\n",
       "      <td>0.0</td>\n",
       "      <td>0.0</td>\n",
       "      <td>0.0</td>\n",
       "      <td>0.0</td>\n",
       "      <td>0.0</td>\n",
       "      <td>11.406309</td>\n",
       "      <td>1.038986</td>\n",
       "    </tr>\n",
       "    <tr>\n",
       "      <th>...</th>\n",
       "      <td>...</td>\n",
       "      <td>...</td>\n",
       "      <td>...</td>\n",
       "      <td>...</td>\n",
       "      <td>...</td>\n",
       "      <td>...</td>\n",
       "      <td>...</td>\n",
       "      <td>...</td>\n",
       "      <td>...</td>\n",
       "      <td>...</td>\n",
       "      <td>...</td>\n",
       "      <td>...</td>\n",
       "    </tr>\n",
       "    <tr>\n",
       "      <th>XYL</th>\n",
       "      <td>1.0</td>\n",
       "      <td>0.0</td>\n",
       "      <td>0.0</td>\n",
       "      <td>0.0</td>\n",
       "      <td>0.0</td>\n",
       "      <td>0.0</td>\n",
       "      <td>0.0</td>\n",
       "      <td>0.0</td>\n",
       "      <td>0.0</td>\n",
       "      <td>0.0</td>\n",
       "      <td>9.391912</td>\n",
       "      <td>-0.567203</td>\n",
       "    </tr>\n",
       "    <tr>\n",
       "      <th>YUM</th>\n",
       "      <td>0.0</td>\n",
       "      <td>0.0</td>\n",
       "      <td>0.0</td>\n",
       "      <td>0.0</td>\n",
       "      <td>1.0</td>\n",
       "      <td>0.0</td>\n",
       "      <td>0.0</td>\n",
       "      <td>0.0</td>\n",
       "      <td>0.0</td>\n",
       "      <td>0.0</td>\n",
       "      <td>10.264896</td>\n",
       "      <td>0.586831</td>\n",
       "    </tr>\n",
       "    <tr>\n",
       "      <th>ZBH</th>\n",
       "      <td>0.0</td>\n",
       "      <td>1.0</td>\n",
       "      <td>0.0</td>\n",
       "      <td>0.0</td>\n",
       "      <td>0.0</td>\n",
       "      <td>0.0</td>\n",
       "      <td>0.0</td>\n",
       "      <td>0.0</td>\n",
       "      <td>0.0</td>\n",
       "      <td>0.0</td>\n",
       "      <td>9.959679</td>\n",
       "      <td>-0.416871</td>\n",
       "    </tr>\n",
       "    <tr>\n",
       "      <th>ZION</th>\n",
       "      <td>0.0</td>\n",
       "      <td>0.0</td>\n",
       "      <td>0.0</td>\n",
       "      <td>0.0</td>\n",
       "      <td>0.0</td>\n",
       "      <td>1.0</td>\n",
       "      <td>0.0</td>\n",
       "      <td>0.0</td>\n",
       "      <td>0.0</td>\n",
       "      <td>0.0</td>\n",
       "      <td>8.965718</td>\n",
       "      <td>-1.093636</td>\n",
       "    </tr>\n",
       "    <tr>\n",
       "      <th>ZTS</th>\n",
       "      <td>0.0</td>\n",
       "      <td>1.0</td>\n",
       "      <td>0.0</td>\n",
       "      <td>0.0</td>\n",
       "      <td>0.0</td>\n",
       "      <td>0.0</td>\n",
       "      <td>0.0</td>\n",
       "      <td>0.0</td>\n",
       "      <td>0.0</td>\n",
       "      <td>0.0</td>\n",
       "      <td>10.623715</td>\n",
       "      <td>0.237842</td>\n",
       "    </tr>\n",
       "  </tbody>\n",
       "</table>\n",
       "<p>505 rows × 12 columns</p>\n",
       "</div>"
      ],
      "text/plain": [
       "        INDU  HLTH  INFT  TCOM  DSCR  FINA  MATS  REAL  STPL  ENER       lgmc  \\\n",
       "TICKER                                                                          \n",
       "MMM      1.0   0.0   0.0   0.0   0.0   0.0   0.0   0.0   0.0   0.0  11.616826   \n",
       "ABT      0.0   1.0   0.0   0.0   0.0   0.0   0.0   0.0   0.0   0.0  11.752226   \n",
       "ABBV     0.0   1.0   0.0   0.0   0.0   0.0   0.0   0.0   0.0   0.0  11.839881   \n",
       "ABMD     0.0   1.0   0.0   0.0   0.0   0.0   0.0   0.0   0.0   0.0   9.591513   \n",
       "ACN      0.0   0.0   1.0   0.0   0.0   0.0   0.0   0.0   0.0   0.0  11.406309   \n",
       "...      ...   ...   ...   ...   ...   ...   ...   ...   ...   ...        ...   \n",
       "XYL      1.0   0.0   0.0   0.0   0.0   0.0   0.0   0.0   0.0   0.0   9.391912   \n",
       "YUM      0.0   0.0   0.0   0.0   1.0   0.0   0.0   0.0   0.0   0.0  10.264896   \n",
       "ZBH      0.0   1.0   0.0   0.0   0.0   0.0   0.0   0.0   0.0   0.0   9.959679   \n",
       "ZION     0.0   0.0   0.0   0.0   0.0   1.0   0.0   0.0   0.0   0.0   8.965718   \n",
       "ZTS      0.0   1.0   0.0   0.0   0.0   0.0   0.0   0.0   0.0   0.0  10.623715   \n",
       "\n",
       "         z_score  \n",
       "TICKER            \n",
       "MMM     1.977538  \n",
       "ABT     1.350510  \n",
       "ABBV    1.436935  \n",
       "ABMD   -0.779869  \n",
       "ACN     1.038986  \n",
       "...          ...  \n",
       "XYL    -0.567203  \n",
       "YUM     0.586831  \n",
       "ZBH    -0.416871  \n",
       "ZION   -1.093636  \n",
       "ZTS     0.237842  \n",
       "\n",
       "[505 rows x 12 columns]"
      ]
     },
     "execution_count": 24,
     "metadata": {},
     "output_type": "execute_result"
    }
   ],
   "source": [
    "z_sec"
   ]
  },
  {
   "cell_type": "code",
   "execution_count": 25,
   "metadata": {},
   "outputs": [],
   "source": [
    "mreturn = stock.iloc[:,3:]"
   ]
  },
  {
   "cell_type": "code",
   "execution_count": 26,
   "metadata": {},
   "outputs": [
    {
     "data": {
      "text/html": [
       "<div>\n",
       "<style scoped>\n",
       "    .dataframe tbody tr th:only-of-type {\n",
       "        vertical-align: middle;\n",
       "    }\n",
       "\n",
       "    .dataframe tbody tr th {\n",
       "        vertical-align: top;\n",
       "    }\n",
       "\n",
       "    .dataframe thead th {\n",
       "        text-align: right;\n",
       "    }\n",
       "</style>\n",
       "<table border=\"1\" class=\"dataframe\">\n",
       "  <thead>\n",
       "    <tr style=\"text-align: right;\">\n",
       "      <th></th>\n",
       "      <th>0</th>\n",
       "      <th>1</th>\n",
       "      <th>2</th>\n",
       "      <th>3</th>\n",
       "      <th>4</th>\n",
       "      <th>5</th>\n",
       "      <th>6</th>\n",
       "      <th>7</th>\n",
       "      <th>8</th>\n",
       "      <th>9</th>\n",
       "      <th>...</th>\n",
       "      <th>495</th>\n",
       "      <th>496</th>\n",
       "      <th>497</th>\n",
       "      <th>498</th>\n",
       "      <th>499</th>\n",
       "      <th>500</th>\n",
       "      <th>501</th>\n",
       "      <th>502</th>\n",
       "      <th>503</th>\n",
       "      <th>504</th>\n",
       "    </tr>\n",
       "  </thead>\n",
       "  <tbody>\n",
       "    <tr>\n",
       "      <th>0</th>\n",
       "      <td>-1.945100</td>\n",
       "      <td>12.112976</td>\n",
       "      <td>NaN</td>\n",
       "      <td>-19.423240</td>\n",
       "      <td>NaN</td>\n",
       "      <td>-13.577718</td>\n",
       "      <td>-20.234087</td>\n",
       "      <td>NaN</td>\n",
       "      <td>-36.816609</td>\n",
       "      <td>-11.033682</td>\n",
       "      <td>...</td>\n",
       "      <td>-2.816904</td>\n",
       "      <td>NaN</td>\n",
       "      <td>-4.077114</td>\n",
       "      <td>-16.614480</td>\n",
       "      <td>-3.006790</td>\n",
       "      <td>NaN</td>\n",
       "      <td>4.214608</td>\n",
       "      <td>NaN</td>\n",
       "      <td>-0.932129</td>\n",
       "      <td>NaN</td>\n",
       "    </tr>\n",
       "    <tr>\n",
       "      <th>1</th>\n",
       "      <td>-6.446533</td>\n",
       "      <td>-7.258951</td>\n",
       "      <td>NaN</td>\n",
       "      <td>-1.315789</td>\n",
       "      <td>-0.401070</td>\n",
       "      <td>9.226306</td>\n",
       "      <td>-10.349165</td>\n",
       "      <td>NaN</td>\n",
       "      <td>-25.794085</td>\n",
       "      <td>-13.524804</td>\n",
       "      <td>...</td>\n",
       "      <td>9.043619</td>\n",
       "      <td>NaN</td>\n",
       "      <td>1.707327</td>\n",
       "      <td>15.288163</td>\n",
       "      <td>-2.400000</td>\n",
       "      <td>NaN</td>\n",
       "      <td>-6.842003</td>\n",
       "      <td>-4.895105</td>\n",
       "      <td>-1.698511</td>\n",
       "      <td>NaN</td>\n",
       "    </tr>\n",
       "    <tr>\n",
       "      <th>2</th>\n",
       "      <td>-5.475902</td>\n",
       "      <td>4.326061</td>\n",
       "      <td>NaN</td>\n",
       "      <td>-6.826667</td>\n",
       "      <td>-14.429530</td>\n",
       "      <td>-26.532794</td>\n",
       "      <td>-28.616782</td>\n",
       "      <td>NaN</td>\n",
       "      <td>-39.852399</td>\n",
       "      <td>-61.292271</td>\n",
       "      <td>...</td>\n",
       "      <td>24.348706</td>\n",
       "      <td>NaN</td>\n",
       "      <td>4.106134</td>\n",
       "      <td>-15.760939</td>\n",
       "      <td>-39.728484</td>\n",
       "      <td>NaN</td>\n",
       "      <td>-7.977550</td>\n",
       "      <td>2.022059</td>\n",
       "      <td>-6.287271</td>\n",
       "      <td>NaN</td>\n",
       "    </tr>\n",
       "    <tr>\n",
       "      <th>3</th>\n",
       "      <td>6.077282</td>\n",
       "      <td>2.599966</td>\n",
       "      <td>NaN</td>\n",
       "      <td>24.441900</td>\n",
       "      <td>37.803922</td>\n",
       "      <td>32.808711</td>\n",
       "      <td>10.091781</td>\n",
       "      <td>NaN</td>\n",
       "      <td>20.736196</td>\n",
       "      <td>8.034321</td>\n",
       "      <td>...</td>\n",
       "      <td>-0.427533</td>\n",
       "      <td>NaN</td>\n",
       "      <td>0.461629</td>\n",
       "      <td>-9.677419</td>\n",
       "      <td>29.281768</td>\n",
       "      <td>NaN</td>\n",
       "      <td>28.990256</td>\n",
       "      <td>11.387387</td>\n",
       "      <td>-10.696854</td>\n",
       "      <td>NaN</td>\n",
       "    </tr>\n",
       "    <tr>\n",
       "      <th>4</th>\n",
       "      <td>10.339559</td>\n",
       "      <td>3.812730</td>\n",
       "      <td>NaN</td>\n",
       "      <td>-12.741490</td>\n",
       "      <td>28.628344</td>\n",
       "      <td>3.113693</td>\n",
       "      <td>21.515301</td>\n",
       "      <td>NaN</td>\n",
       "      <td>37.804878</td>\n",
       "      <td>19.277978</td>\n",
       "      <td>...</td>\n",
       "      <td>1.674522</td>\n",
       "      <td>NaN</td>\n",
       "      <td>-3.429815</td>\n",
       "      <td>20.000215</td>\n",
       "      <td>18.704799</td>\n",
       "      <td>NaN</td>\n",
       "      <td>-6.206153</td>\n",
       "      <td>4.367519</td>\n",
       "      <td>1.164570</td>\n",
       "      <td>NaN</td>\n",
       "    </tr>\n",
       "    <tr>\n",
       "      <th>...</th>\n",
       "      <td>...</td>\n",
       "      <td>...</td>\n",
       "      <td>...</td>\n",
       "      <td>...</td>\n",
       "      <td>...</td>\n",
       "      <td>...</td>\n",
       "      <td>...</td>\n",
       "      <td>...</td>\n",
       "      <td>...</td>\n",
       "      <td>...</td>\n",
       "      <td>...</td>\n",
       "      <td>...</td>\n",
       "      <td>...</td>\n",
       "      <td>...</td>\n",
       "      <td>...</td>\n",
       "      <td>...</td>\n",
       "      <td>...</td>\n",
       "      <td>...</td>\n",
       "      <td>...</td>\n",
       "      <td>...</td>\n",
       "      <td>...</td>\n",
       "    </tr>\n",
       "    <tr>\n",
       "      <th>205</th>\n",
       "      <td>0.006810</td>\n",
       "      <td>1.983455</td>\n",
       "      <td>4.065904</td>\n",
       "      <td>14.681409</td>\n",
       "      <td>6.113071</td>\n",
       "      <td>-1.797917</td>\n",
       "      <td>7.695744</td>\n",
       "      <td>16.144448</td>\n",
       "      <td>37.315876</td>\n",
       "      <td>1.714948</td>\n",
       "      <td>...</td>\n",
       "      <td>-7.621376</td>\n",
       "      <td>-10.573686</td>\n",
       "      <td>2.539527</td>\n",
       "      <td>7.277686</td>\n",
       "      <td>8.521669</td>\n",
       "      <td>-0.578087</td>\n",
       "      <td>10.055781</td>\n",
       "      <td>-1.505699</td>\n",
       "      <td>3.662039</td>\n",
       "      <td>4.764175</td>\n",
       "    </tr>\n",
       "    <tr>\n",
       "      <th>206</th>\n",
       "      <td>-0.099670</td>\n",
       "      <td>9.754681</td>\n",
       "      <td>-1.458604</td>\n",
       "      <td>10.617837</td>\n",
       "      <td>0.668382</td>\n",
       "      <td>15.381530</td>\n",
       "      <td>2.443937</td>\n",
       "      <td>2.657670</td>\n",
       "      <td>22.725467</td>\n",
       "      <td>4.011875</td>\n",
       "      <td>...</td>\n",
       "      <td>-3.890365</td>\n",
       "      <td>-14.345417</td>\n",
       "      <td>-0.977626</td>\n",
       "      <td>-2.256999</td>\n",
       "      <td>3.006522</td>\n",
       "      <td>5.216744</td>\n",
       "      <td>4.626532</td>\n",
       "      <td>6.538274</td>\n",
       "      <td>-5.892335</td>\n",
       "      <td>1.059554</td>\n",
       "    </tr>\n",
       "    <tr>\n",
       "      <th>207</th>\n",
       "      <td>-9.705245</td>\n",
       "      <td>-5.645529</td>\n",
       "      <td>-16.817462</td>\n",
       "      <td>-24.135631</td>\n",
       "      <td>-6.540393</td>\n",
       "      <td>-16.997247</td>\n",
       "      <td>-8.960915</td>\n",
       "      <td>-5.091117</td>\n",
       "      <td>-41.048883</td>\n",
       "      <td>5.071835</td>\n",
       "      <td>...</td>\n",
       "      <td>1.575161</td>\n",
       "      <td>-20.824818</td>\n",
       "      <td>3.812789</td>\n",
       "      <td>3.298736</td>\n",
       "      <td>6.486203</td>\n",
       "      <td>-17.628674</td>\n",
       "      <td>-0.549981</td>\n",
       "      <td>-13.600042</td>\n",
       "      <td>-6.181357</td>\n",
       "      <td>-1.539947</td>\n",
       "    </tr>\n",
       "    <tr>\n",
       "      <th>208</th>\n",
       "      <td>10.030197</td>\n",
       "      <td>7.412211</td>\n",
       "      <td>21.091854</td>\n",
       "      <td>-2.497069</td>\n",
       "      <td>4.377624</td>\n",
       "      <td>-27.762551</td>\n",
       "      <td>2.087400</td>\n",
       "      <td>11.235446</td>\n",
       "      <td>16.968699</td>\n",
       "      <td>6.241066</td>\n",
       "      <td>...</td>\n",
       "      <td>11.378861</td>\n",
       "      <td>9.555415</td>\n",
       "      <td>7.018958</td>\n",
       "      <td>-3.408566</td>\n",
       "      <td>8.783834</td>\n",
       "      <td>11.283937</td>\n",
       "      <td>2.423112</td>\n",
       "      <td>3.019571</td>\n",
       "      <td>4.055791</td>\n",
       "      <td>4.272029</td>\n",
       "    </tr>\n",
       "    <tr>\n",
       "      <th>209</th>\n",
       "      <td>-8.358958</td>\n",
       "      <td>-2.322711</td>\n",
       "      <td>-2.206395</td>\n",
       "      <td>-2.296501</td>\n",
       "      <td>-14.290059</td>\n",
       "      <td>-6.635818</td>\n",
       "      <td>-9.825016</td>\n",
       "      <td>-11.360224</td>\n",
       "      <td>-13.333333</td>\n",
       "      <td>-6.649549</td>\n",
       "      <td>...</td>\n",
       "      <td>-4.381490</td>\n",
       "      <td>-9.588670</td>\n",
       "      <td>-5.343231</td>\n",
       "      <td>-25.663481</td>\n",
       "      <td>-7.904418</td>\n",
       "      <td>-8.577682</td>\n",
       "      <td>-0.325260</td>\n",
       "      <td>-11.156387</td>\n",
       "      <td>-16.276212</td>\n",
       "      <td>-8.873969</td>\n",
       "    </tr>\n",
       "  </tbody>\n",
       "</table>\n",
       "<p>210 rows × 505 columns</p>\n",
       "</div>"
      ],
      "text/plain": [
       "           0          1          2          3          4          5    \\\n",
       "0    -1.945100  12.112976        NaN -19.423240        NaN -13.577718   \n",
       "1    -6.446533  -7.258951        NaN  -1.315789  -0.401070   9.226306   \n",
       "2    -5.475902   4.326061        NaN  -6.826667 -14.429530 -26.532794   \n",
       "3     6.077282   2.599966        NaN  24.441900  37.803922  32.808711   \n",
       "4    10.339559   3.812730        NaN -12.741490  28.628344   3.113693   \n",
       "..         ...        ...        ...        ...        ...        ...   \n",
       "205   0.006810   1.983455   4.065904  14.681409   6.113071  -1.797917   \n",
       "206  -0.099670   9.754681  -1.458604  10.617837   0.668382  15.381530   \n",
       "207  -9.705245  -5.645529 -16.817462 -24.135631  -6.540393 -16.997247   \n",
       "208  10.030197   7.412211  21.091854  -2.497069   4.377624 -27.762551   \n",
       "209  -8.358958  -2.322711  -2.206395  -2.296501 -14.290059  -6.635818   \n",
       "\n",
       "           6          7          8          9    ...        495        496  \\\n",
       "0   -20.234087        NaN -36.816609 -11.033682  ...  -2.816904        NaN   \n",
       "1   -10.349165        NaN -25.794085 -13.524804  ...   9.043619        NaN   \n",
       "2   -28.616782        NaN -39.852399 -61.292271  ...  24.348706        NaN   \n",
       "3    10.091781        NaN  20.736196   8.034321  ...  -0.427533        NaN   \n",
       "4    21.515301        NaN  37.804878  19.277978  ...   1.674522        NaN   \n",
       "..         ...        ...        ...        ...  ...        ...        ...   \n",
       "205   7.695744  16.144448  37.315876   1.714948  ...  -7.621376 -10.573686   \n",
       "206   2.443937   2.657670  22.725467   4.011875  ...  -3.890365 -14.345417   \n",
       "207  -8.960915  -5.091117 -41.048883   5.071835  ...   1.575161 -20.824818   \n",
       "208   2.087400  11.235446  16.968699   6.241066  ...  11.378861   9.555415   \n",
       "209  -9.825016 -11.360224 -13.333333  -6.649549  ...  -4.381490  -9.588670   \n",
       "\n",
       "          497        498        499        500        501        502  \\\n",
       "0   -4.077114 -16.614480  -3.006790        NaN   4.214608        NaN   \n",
       "1    1.707327  15.288163  -2.400000        NaN  -6.842003  -4.895105   \n",
       "2    4.106134 -15.760939 -39.728484        NaN  -7.977550   2.022059   \n",
       "3    0.461629  -9.677419  29.281768        NaN  28.990256  11.387387   \n",
       "4   -3.429815  20.000215  18.704799        NaN  -6.206153   4.367519   \n",
       "..        ...        ...        ...        ...        ...        ...   \n",
       "205  2.539527   7.277686   8.521669  -0.578087  10.055781  -1.505699   \n",
       "206 -0.977626  -2.256999   3.006522   5.216744   4.626532   6.538274   \n",
       "207  3.812789   3.298736   6.486203 -17.628674  -0.549981 -13.600042   \n",
       "208  7.018958  -3.408566   8.783834  11.283937   2.423112   3.019571   \n",
       "209 -5.343231 -25.663481  -7.904418  -8.577682  -0.325260 -11.156387   \n",
       "\n",
       "           503       504  \n",
       "0    -0.932129       NaN  \n",
       "1    -1.698511       NaN  \n",
       "2    -6.287271       NaN  \n",
       "3   -10.696854       NaN  \n",
       "4     1.164570       NaN  \n",
       "..         ...       ...  \n",
       "205   3.662039  4.764175  \n",
       "206  -5.892335  1.059554  \n",
       "207  -6.181357 -1.539947  \n",
       "208   4.055791  4.272029  \n",
       "209 -16.276212 -8.873969  \n",
       "\n",
       "[210 rows x 505 columns]"
      ]
     },
     "execution_count": 26,
     "metadata": {},
     "output_type": "execute_result"
    }
   ],
   "source": [
    "stock_mr = mreturn.iloc[:,:].transpose().values\n",
    "stock_return = pd.DataFrame(stock_mr)\n",
    "stock_return"
   ]
  },
  {
   "cell_type": "code",
   "execution_count": 27,
   "metadata": {},
   "outputs": [],
   "source": [
    "# stock_return = constant + mkt_return*beta1 + usd_return*beta2\n",
    "#            +sec_factor*(beta3~beta12) + z_score*beta13"
   ]
  },
  {
   "cell_type": "code",
   "execution_count": 28,
   "metadata": {},
   "outputs": [],
   "source": [
    "import statsmodels.api as sm"
   ]
  },
  {
   "cell_type": "code",
   "execution_count": 29,
   "metadata": {
    "scrolled": true
   },
   "outputs": [],
   "source": [
    "data1 = D_SP.to_numpy()\n",
    "data2 = sm.add_constant(data1)"
   ]
  },
  {
   "cell_type": "code",
   "execution_count": 30,
   "metadata": {},
   "outputs": [
    {
     "data": {
      "text/plain": [
       "array([[ 0.89727922,  0.13705929],\n",
       "       [ 0.50103115, -0.09682999],\n",
       "       [ 1.45009589, -0.55690148],\n",
       "       ...,\n",
       "       [ 0.72111827, -0.50389316],\n",
       "       [ 1.13626781, -0.08487808],\n",
       "       [ 0.97013304,  0.50179335]])"
      ]
     },
     "execution_count": 30,
     "metadata": {},
     "output_type": "execute_result"
    }
   ],
   "source": [
    "beta = np.zeros([505,2])\n",
    "for i in range(0,505):\n",
    "    Y = stock_return.iloc[:,i]\n",
    "    m = sm.OLS(Y,data2,missing = 'drop').fit()\n",
    "    beta[i,0] = m.params[1]\n",
    "    beta[i,1] = m.params[2]\n",
    "beta"
   ]
  },
  {
   "cell_type": "code",
   "execution_count": 31,
   "metadata": {},
   "outputs": [],
   "source": [
    "beta_frame = pd.DataFrame(beta, index = ticker, columns=['beta1','beta2'])"
   ]
  },
  {
   "cell_type": "code",
   "execution_count": 32,
   "metadata": {},
   "outputs": [],
   "source": [
    "all_data = pd.merge(beta_frame, z_sec, left_index=True, right_index=True, how='left')"
   ]
  },
  {
   "cell_type": "code",
   "execution_count": 33,
   "metadata": {},
   "outputs": [
    {
     "data": {
      "text/html": [
       "<div>\n",
       "<style scoped>\n",
       "    .dataframe tbody tr th:only-of-type {\n",
       "        vertical-align: middle;\n",
       "    }\n",
       "\n",
       "    .dataframe tbody tr th {\n",
       "        vertical-align: top;\n",
       "    }\n",
       "\n",
       "    .dataframe thead th {\n",
       "        text-align: right;\n",
       "    }\n",
       "</style>\n",
       "<table border=\"1\" class=\"dataframe\">\n",
       "  <thead>\n",
       "    <tr style=\"text-align: right;\">\n",
       "      <th></th>\n",
       "      <th>beta1</th>\n",
       "      <th>beta2</th>\n",
       "      <th>INDU</th>\n",
       "      <th>HLTH</th>\n",
       "      <th>INFT</th>\n",
       "      <th>TCOM</th>\n",
       "      <th>DSCR</th>\n",
       "      <th>FINA</th>\n",
       "      <th>MATS</th>\n",
       "      <th>REAL</th>\n",
       "      <th>STPL</th>\n",
       "      <th>ENER</th>\n",
       "      <th>z_score</th>\n",
       "    </tr>\n",
       "    <tr>\n",
       "      <th>TICKER</th>\n",
       "      <th></th>\n",
       "      <th></th>\n",
       "      <th></th>\n",
       "      <th></th>\n",
       "      <th></th>\n",
       "      <th></th>\n",
       "      <th></th>\n",
       "      <th></th>\n",
       "      <th></th>\n",
       "      <th></th>\n",
       "      <th></th>\n",
       "      <th></th>\n",
       "      <th></th>\n",
       "    </tr>\n",
       "  </thead>\n",
       "  <tbody>\n",
       "    <tr>\n",
       "      <th>MMM</th>\n",
       "      <td>0.897279</td>\n",
       "      <td>0.137059</td>\n",
       "      <td>1.0</td>\n",
       "      <td>0.0</td>\n",
       "      <td>0.0</td>\n",
       "      <td>0.0</td>\n",
       "      <td>0.0</td>\n",
       "      <td>0.0</td>\n",
       "      <td>0.0</td>\n",
       "      <td>0.0</td>\n",
       "      <td>0.0</td>\n",
       "      <td>0.0</td>\n",
       "      <td>1.977538</td>\n",
       "    </tr>\n",
       "    <tr>\n",
       "      <th>ABT</th>\n",
       "      <td>0.501031</td>\n",
       "      <td>-0.096830</td>\n",
       "      <td>0.0</td>\n",
       "      <td>1.0</td>\n",
       "      <td>0.0</td>\n",
       "      <td>0.0</td>\n",
       "      <td>0.0</td>\n",
       "      <td>0.0</td>\n",
       "      <td>0.0</td>\n",
       "      <td>0.0</td>\n",
       "      <td>0.0</td>\n",
       "      <td>0.0</td>\n",
       "      <td>1.350510</td>\n",
       "    </tr>\n",
       "    <tr>\n",
       "      <th>ABBV</th>\n",
       "      <td>1.450096</td>\n",
       "      <td>-0.556901</td>\n",
       "      <td>0.0</td>\n",
       "      <td>1.0</td>\n",
       "      <td>0.0</td>\n",
       "      <td>0.0</td>\n",
       "      <td>0.0</td>\n",
       "      <td>0.0</td>\n",
       "      <td>0.0</td>\n",
       "      <td>0.0</td>\n",
       "      <td>0.0</td>\n",
       "      <td>0.0</td>\n",
       "      <td>1.436935</td>\n",
       "    </tr>\n",
       "    <tr>\n",
       "      <th>ABMD</th>\n",
       "      <td>1.263956</td>\n",
       "      <td>0.059849</td>\n",
       "      <td>0.0</td>\n",
       "      <td>1.0</td>\n",
       "      <td>0.0</td>\n",
       "      <td>0.0</td>\n",
       "      <td>0.0</td>\n",
       "      <td>0.0</td>\n",
       "      <td>0.0</td>\n",
       "      <td>0.0</td>\n",
       "      <td>0.0</td>\n",
       "      <td>0.0</td>\n",
       "      <td>-0.779869</td>\n",
       "    </tr>\n",
       "    <tr>\n",
       "      <th>ACN</th>\n",
       "      <td>1.152855</td>\n",
       "      <td>0.193686</td>\n",
       "      <td>0.0</td>\n",
       "      <td>0.0</td>\n",
       "      <td>1.0</td>\n",
       "      <td>0.0</td>\n",
       "      <td>0.0</td>\n",
       "      <td>0.0</td>\n",
       "      <td>0.0</td>\n",
       "      <td>0.0</td>\n",
       "      <td>0.0</td>\n",
       "      <td>0.0</td>\n",
       "      <td>1.038986</td>\n",
       "    </tr>\n",
       "    <tr>\n",
       "      <th>...</th>\n",
       "      <td>...</td>\n",
       "      <td>...</td>\n",
       "      <td>...</td>\n",
       "      <td>...</td>\n",
       "      <td>...</td>\n",
       "      <td>...</td>\n",
       "      <td>...</td>\n",
       "      <td>...</td>\n",
       "      <td>...</td>\n",
       "      <td>...</td>\n",
       "      <td>...</td>\n",
       "      <td>...</td>\n",
       "      <td>...</td>\n",
       "    </tr>\n",
       "    <tr>\n",
       "      <th>XYL</th>\n",
       "      <td>1.037699</td>\n",
       "      <td>-0.747278</td>\n",
       "      <td>1.0</td>\n",
       "      <td>0.0</td>\n",
       "      <td>0.0</td>\n",
       "      <td>0.0</td>\n",
       "      <td>0.0</td>\n",
       "      <td>0.0</td>\n",
       "      <td>0.0</td>\n",
       "      <td>0.0</td>\n",
       "      <td>0.0</td>\n",
       "      <td>0.0</td>\n",
       "      <td>-0.567203</td>\n",
       "    </tr>\n",
       "    <tr>\n",
       "      <th>YUM</th>\n",
       "      <td>0.657877</td>\n",
       "      <td>-0.258958</td>\n",
       "      <td>0.0</td>\n",
       "      <td>0.0</td>\n",
       "      <td>0.0</td>\n",
       "      <td>0.0</td>\n",
       "      <td>1.0</td>\n",
       "      <td>0.0</td>\n",
       "      <td>0.0</td>\n",
       "      <td>0.0</td>\n",
       "      <td>0.0</td>\n",
       "      <td>0.0</td>\n",
       "      <td>0.586831</td>\n",
       "    </tr>\n",
       "    <tr>\n",
       "      <th>ZBH</th>\n",
       "      <td>0.721118</td>\n",
       "      <td>-0.503893</td>\n",
       "      <td>0.0</td>\n",
       "      <td>1.0</td>\n",
       "      <td>0.0</td>\n",
       "      <td>0.0</td>\n",
       "      <td>0.0</td>\n",
       "      <td>0.0</td>\n",
       "      <td>0.0</td>\n",
       "      <td>0.0</td>\n",
       "      <td>0.0</td>\n",
       "      <td>0.0</td>\n",
       "      <td>-0.416871</td>\n",
       "    </tr>\n",
       "    <tr>\n",
       "      <th>ZION</th>\n",
       "      <td>1.136268</td>\n",
       "      <td>-0.084878</td>\n",
       "      <td>0.0</td>\n",
       "      <td>0.0</td>\n",
       "      <td>0.0</td>\n",
       "      <td>0.0</td>\n",
       "      <td>0.0</td>\n",
       "      <td>1.0</td>\n",
       "      <td>0.0</td>\n",
       "      <td>0.0</td>\n",
       "      <td>0.0</td>\n",
       "      <td>0.0</td>\n",
       "      <td>-1.093636</td>\n",
       "    </tr>\n",
       "    <tr>\n",
       "      <th>ZTS</th>\n",
       "      <td>0.970133</td>\n",
       "      <td>0.501793</td>\n",
       "      <td>0.0</td>\n",
       "      <td>1.0</td>\n",
       "      <td>0.0</td>\n",
       "      <td>0.0</td>\n",
       "      <td>0.0</td>\n",
       "      <td>0.0</td>\n",
       "      <td>0.0</td>\n",
       "      <td>0.0</td>\n",
       "      <td>0.0</td>\n",
       "      <td>0.0</td>\n",
       "      <td>0.237842</td>\n",
       "    </tr>\n",
       "  </tbody>\n",
       "</table>\n",
       "<p>505 rows × 13 columns</p>\n",
       "</div>"
      ],
      "text/plain": [
       "           beta1     beta2  INDU  HLTH  INFT  TCOM  DSCR  FINA  MATS  REAL  \\\n",
       "TICKER                                                                       \n",
       "MMM     0.897279  0.137059   1.0   0.0   0.0   0.0   0.0   0.0   0.0   0.0   \n",
       "ABT     0.501031 -0.096830   0.0   1.0   0.0   0.0   0.0   0.0   0.0   0.0   \n",
       "ABBV    1.450096 -0.556901   0.0   1.0   0.0   0.0   0.0   0.0   0.0   0.0   \n",
       "ABMD    1.263956  0.059849   0.0   1.0   0.0   0.0   0.0   0.0   0.0   0.0   \n",
       "ACN     1.152855  0.193686   0.0   0.0   1.0   0.0   0.0   0.0   0.0   0.0   \n",
       "...          ...       ...   ...   ...   ...   ...   ...   ...   ...   ...   \n",
       "XYL     1.037699 -0.747278   1.0   0.0   0.0   0.0   0.0   0.0   0.0   0.0   \n",
       "YUM     0.657877 -0.258958   0.0   0.0   0.0   0.0   1.0   0.0   0.0   0.0   \n",
       "ZBH     0.721118 -0.503893   0.0   1.0   0.0   0.0   0.0   0.0   0.0   0.0   \n",
       "ZION    1.136268 -0.084878   0.0   0.0   0.0   0.0   0.0   1.0   0.0   0.0   \n",
       "ZTS     0.970133  0.501793   0.0   1.0   0.0   0.0   0.0   0.0   0.0   0.0   \n",
       "\n",
       "        STPL  ENER   z_score  \n",
       "TICKER                        \n",
       "MMM      0.0   0.0  1.977538  \n",
       "ABT      0.0   0.0  1.350510  \n",
       "ABBV     0.0   0.0  1.436935  \n",
       "ABMD     0.0   0.0 -0.779869  \n",
       "ACN      0.0   0.0  1.038986  \n",
       "...      ...   ...       ...  \n",
       "XYL      0.0   0.0 -0.567203  \n",
       "YUM      0.0   0.0  0.586831  \n",
       "ZBH      0.0   0.0 -0.416871  \n",
       "ZION     0.0   0.0 -1.093636  \n",
       "ZTS      0.0   0.0  0.237842  \n",
       "\n",
       "[505 rows x 13 columns]"
      ]
     },
     "execution_count": 33,
     "metadata": {},
     "output_type": "execute_result"
    }
   ],
   "source": [
    "all_data = all_data.drop('lgmc',axis=1)\n",
    "all_data"
   ]
  },
  {
   "cell_type": "code",
   "execution_count": 34,
   "metadata": {
    "scrolled": true
   },
   "outputs": [],
   "source": [
    "Y1 = stock_mr\n",
    "data3 = all_data.values\n",
    "X1 = sm.add_constant(data3)"
   ]
  },
  {
   "cell_type": "code",
   "execution_count": 35,
   "metadata": {},
   "outputs": [
    {
     "data": {
      "text/plain": [
       "(505, 14)"
      ]
     },
     "execution_count": 35,
     "metadata": {},
     "output_type": "execute_result"
    }
   ],
   "source": [
    "X1.shape"
   ]
  },
  {
   "cell_type": "code",
   "execution_count": 36,
   "metadata": {},
   "outputs": [],
   "source": [
    "factor_return = np.zeros([210,14])\n",
    "for i in range(0,210):\n",
    "    for j in range(0,14):\n",
    "        Y11 = Y1[i]\n",
    "        X11 = X1\n",
    "        n = sm.OLS(Y11,X1,missing = 'drop').fit()\n",
    "        factor_return[i,j] = n.params[j]"
   ]
  },
  {
   "cell_type": "code",
   "execution_count": null,
   "metadata": {},
   "outputs": [],
   "source": [
    "#  calculate historical factor monthly returns for the following factors based on Arbitrage Pricing Theory"
   ]
  },
  {
   "cell_type": "code",
   "execution_count": 37,
   "metadata": {},
   "outputs": [
    {
     "data": {
      "text/plain": [
       "array([[  0.63347893,  -6.86285728,   1.14889942, ...,   6.4748542 ,\n",
       "          5.31545158,  -0.94741375],\n",
       "       [  4.24767744,  -6.53110722,  -3.81494125, ...,   0.5861965 ,\n",
       "         -3.38138787,  -0.93846446],\n",
       "       [  2.40236004, -20.77960007,  -4.42704275, ...,   6.04239303,\n",
       "          4.08740578,  -0.14960713],\n",
       "       ...,\n",
       "       [  5.75378061,  -7.03079982,   3.36258877, ...,  -0.9762139 ,\n",
       "        -10.51525155,   0.48634149],\n",
       "       [  3.1498338 ,   0.49019469,   1.69933723, ...,  -2.04001118,\n",
       "         -7.98362516,   0.58367353],\n",
       "       [ -2.34129296,  -3.17679038,   0.48735719, ...,  -6.06136948,\n",
       "         -8.85612179,   1.49874591]])"
      ]
     },
     "execution_count": 37,
     "metadata": {},
     "output_type": "execute_result"
    }
   ],
   "source": [
    "factor_return   # the factor_return matrix "
   ]
  },
  {
   "cell_type": "code",
   "execution_count": 38,
   "metadata": {},
   "outputs": [
    {
     "data": {
      "text/plain": [
       "(210, 14)"
      ]
     },
     "execution_count": 38,
     "metadata": {},
     "output_type": "execute_result"
    }
   ],
   "source": [
    "factor_return.shape"
   ]
  },
  {
   "cell_type": "code",
   "execution_count": null,
   "metadata": {},
   "outputs": [],
   "source": [
    "# check for each factor their historical returns are significant or not (based on T-stat)."
   ]
  },
  {
   "cell_type": "code",
   "execution_count": 39,
   "metadata": {},
   "outputs": [],
   "source": [
    "import scipy as scipy\n",
    "from scipy import stats"
   ]
  },
  {
   "cell_type": "code",
   "execution_count": 40,
   "metadata": {},
   "outputs": [
    {
     "data": {
      "text/plain": [
       "Ttest_1sampResult(statistic=2.740538900468859, pvalue=0.006664726304594911)"
      ]
     },
     "execution_count": 40,
     "metadata": {},
     "output_type": "execute_result"
    }
   ],
   "source": [
    "a = factor_return[:,0]\n",
    "t_test = scipy.stats.ttest_1samp(a, 0, axis=0)\n",
    "t_test"
   ]
  },
  {
   "cell_type": "code",
   "execution_count": 41,
   "metadata": {},
   "outputs": [],
   "source": [
    "t_stat = np.zeros([14,2])\n",
    "for i in range(0,14):\n",
    "    a = factor_return[:,i]\n",
    "    t_test = scipy.stats.ttest_1samp(a, 0, axis=0)\n",
    "    t_stat[i,0] = t_test[0]\n",
    "    t_stat[i,1] = t_test[1]"
   ]
  },
  {
   "cell_type": "code",
   "execution_count": 42,
   "metadata": {},
   "outputs": [
    {
     "data": {
      "text/plain": [
       "array([[ 2.7405389 ,  0.00666473],\n",
       "       [ 0.61238486,  0.54094885],\n",
       "       [ 0.03022911,  0.97591318],\n",
       "       [ 0.69370497,  0.48863751],\n",
       "       [ 1.43657911,  0.15233284],\n",
       "       [ 1.06625056,  0.28754055],\n",
       "       [ 0.31314537,  0.75448249],\n",
       "       [ 0.90989262,  0.36392727],\n",
       "       [-0.46128547,  0.64507351],\n",
       "       [ 0.84389424,  0.39969337],\n",
       "       [ 1.1615769 ,  0.24673222],\n",
       "       [ 0.52976137,  0.5968397 ],\n",
       "       [ 0.41966536,  0.675161  ],\n",
       "       [ 0.82920847,  0.40793248]])"
      ]
     },
     "execution_count": 42,
     "metadata": {},
     "output_type": "execute_result"
    }
   ],
   "source": [
    "t_stat"
   ]
  },
  {
   "cell_type": "code",
   "execution_count": null,
   "metadata": {},
   "outputs": [],
   "source": [
    "# using the last month in the back-test, i.e., 12/31/2018, show that:"
   ]
  },
  {
   "cell_type": "code",
   "execution_count": null,
   "metadata": {},
   "outputs": [],
   "source": [
    "# all factor portfolios are long-short neutral portfolio, i.e., the total weights sum to 0. "
   ]
  },
  {
   "cell_type": "code",
   "execution_count": 43,
   "metadata": {},
   "outputs": [
    {
     "data": {
      "text/plain": [
       "(505, 14)"
      ]
     },
     "execution_count": 43,
     "metadata": {},
     "output_type": "execute_result"
    }
   ],
   "source": [
    "all_beta = X1\n",
    "all_beta.shape"
   ]
  },
  {
   "cell_type": "code",
   "execution_count": 44,
   "metadata": {},
   "outputs": [],
   "source": [
    "# = np.linalg.inv(all_beta)\n",
    "trans = all_beta.T"
   ]
  },
  {
   "cell_type": "code",
   "execution_count": 45,
   "metadata": {},
   "outputs": [
    {
     "data": {
      "text/plain": [
       "0      -8.358958\n",
       "1      -2.322711\n",
       "2      -2.206395\n",
       "3      -2.296501\n",
       "4     -14.290059\n",
       "         ...    \n",
       "500    -8.577682\n",
       "501    -0.325260\n",
       "502   -11.156387\n",
       "503   -16.276212\n",
       "504    -8.873969\n",
       "Name: 2018-12-31 00:00:00, Length: 505, dtype: float64"
      ]
     },
     "execution_count": 45,
     "metadata": {},
     "output_type": "execute_result"
    }
   ],
   "source": [
    "xt = stock.iloc[:,-1]\n",
    "xt"
   ]
  },
  {
   "cell_type": "code",
   "execution_count": 46,
   "metadata": {},
   "outputs": [],
   "source": [
    "element = np.dot(np.linalg.inv(np.dot(trans,all_beta)),trans)"
   ]
  },
  {
   "cell_type": "code",
   "execution_count": 47,
   "metadata": {},
   "outputs": [],
   "source": [
    "weight = []\n",
    "for i in range(0,14):\n",
    "    sum_weight = sum(element[i])\n",
    "    weight.append(sum_weight)"
   ]
  },
  {
   "cell_type": "code",
   "execution_count": 48,
   "metadata": {},
   "outputs": [
    {
     "data": {
      "text/plain": [
       "[1.0000000000000089,\n",
       " 1.1752751549742868e-16,\n",
       " 4.119968255444917e-16,\n",
       " -4.853756285783106e-15,\n",
       " -4.373237882937531e-15,\n",
       " -5.583641188300348e-15,\n",
       " -2.4507305906862342e-15,\n",
       " -2.9032765774816838e-15,\n",
       " -3.603020659603828e-15,\n",
       " -1.893233833594188e-15,\n",
       " -1.4925127106435454e-15,\n",
       " -1.233794967234192e-15,\n",
       " -1.844011054963346e-15,\n",
       " 2.5326962749261384e-16]"
      ]
     },
     "execution_count": 48,
     "metadata": {},
     "output_type": "execute_result"
    }
   ],
   "source": [
    "weight"
   ]
  },
  {
   "cell_type": "code",
   "execution_count": 49,
   "metadata": {},
   "outputs": [
    {
     "data": {
      "text/plain": [
       "array([ 1.,  0.,  0., -0., -0., -0., -0., -0., -0., -0., -0., -0., -0.,\n",
       "        0.])"
      ]
     },
     "execution_count": 49,
     "metadata": {},
     "output_type": "execute_result"
    }
   ],
   "source": [
    "np.around(weight, decimals=4, out=None)"
   ]
  },
  {
   "cell_type": "code",
   "execution_count": 50,
   "metadata": {},
   "outputs": [],
   "source": [
    "# except for free_risk asset, \n",
    "# all factor portfolios are long-short neutral portfolio"
   ]
  },
  {
   "cell_type": "code",
   "execution_count": null,
   "metadata": {},
   "outputs": [],
   "source": [
    "# for any factor portfolio, it has unit exposure to its own factor, but zero exposure to all other factors in the model. "
   ]
  },
  {
   "cell_type": "code",
   "execution_count": 51,
   "metadata": {},
   "outputs": [],
   "source": [
    "array_beta = np.dot(element,all_beta)"
   ]
  },
  {
   "cell_type": "code",
   "execution_count": 52,
   "metadata": {},
   "outputs": [
    {
     "data": {
      "text/plain": [
       "(14, 14)"
      ]
     },
     "execution_count": 52,
     "metadata": {},
     "output_type": "execute_result"
    }
   ],
   "source": [
    "array_beta.shape"
   ]
  },
  {
   "cell_type": "code",
   "execution_count": 53,
   "metadata": {},
   "outputs": [
    {
     "data": {
      "text/plain": [
       "array([[ 1.,  0.,  0.,  0.,  0.,  0.,  0.,  0.,  0.,  0.,  0.,  0.,  0.,\n",
       "        -0.],\n",
       "       [ 0.,  1., -0., -0., -0., -0., -0., -0., -0., -0., -0., -0., -0.,\n",
       "         0.],\n",
       "       [ 0.,  0.,  1., -0., -0.,  0.,  0.,  0.,  0., -0.,  0., -0.,  0.,\n",
       "        -0.],\n",
       "       [-0., -0., -0.,  1., -0., -0., -0., -0., -0.,  0., -0., -0., -0.,\n",
       "         0.],\n",
       "       [-0., -0., -0., -0.,  1., -0., -0., -0., -0., -0., -0., -0., -0.,\n",
       "         0.],\n",
       "       [-0., -0., -0., -0., -0.,  1., -0., -0., -0., -0., -0., -0., -0.,\n",
       "         0.],\n",
       "       [-0., -0., -0.,  0., -0., -0.,  1., -0., -0.,  0.,  0.,  0.,  0.,\n",
       "         0.],\n",
       "       [-0., -0., -0.,  0., -0., -0.,  0.,  1., -0.,  0.,  0.,  0.,  0.,\n",
       "         0.],\n",
       "       [-0., -0., -0.,  0., -0., -0., -0., -0.,  1.,  0., -0., -0., -0.,\n",
       "         0.],\n",
       "       [-0., -0., -0.,  0., -0., -0., -0.,  0., -0.,  1., -0., -0.,  0.,\n",
       "         0.],\n",
       "       [-0., -0., -0.,  0., -0., -0., -0., -0., -0.,  0.,  1., -0.,  0.,\n",
       "         0.],\n",
       "       [-0., -0., -0.,  0., -0., -0.,  0., -0., -0.,  0., -0.,  1.,  0.,\n",
       "         0.],\n",
       "       [-0., -0., -0., -0., -0., -0., -0.,  0., -0.,  0., -0., -0.,  1.,\n",
       "         0.],\n",
       "       [ 0.,  0., -0.,  0.,  0.,  0.,  0.,  0.,  0., -0.,  0.,  0.,  0.,\n",
       "         1.]])"
      ]
     },
     "execution_count": 53,
     "metadata": {},
     "output_type": "execute_result"
    }
   ],
   "source": [
    "np.around(array_beta, decimals=4, out=None)"
   ]
  },
  {
   "cell_type": "code",
   "execution_count": 54,
   "metadata": {},
   "outputs": [],
   "source": [
    "# the array shows that for any factor portfolio, \n",
    "#it has unit exposure to its own factor, but zero exposure to all other factors in the model. "
   ]
  },
  {
   "cell_type": "code",
   "execution_count": null,
   "metadata": {},
   "outputs": [],
   "source": [
    "# use black-litterman model to find the new portfolio expected return :"
   ]
  },
  {
   "cell_type": "code",
   "execution_count": 55,
   "metadata": {},
   "outputs": [],
   "source": [
    "tau = 0.05"
   ]
  },
  {
   "cell_type": "code",
   "execution_count": 56,
   "metadata": {},
   "outputs": [
    {
     "data": {
      "text/plain": [
       "8.333333333333332"
      ]
     },
     "execution_count": 56,
     "metadata": {},
     "output_type": "execute_result"
    }
   ],
   "source": [
    "month_var = 10*10*(1/12)\n",
    "month_var"
   ]
  },
  {
   "cell_type": "code",
   "execution_count": 57,
   "metadata": {},
   "outputs": [
    {
     "data": {
      "text/plain": [
       "array([ 0.209,  0.411,  0.327,  0.097,  0.311, -0.16 ,  0.261,  0.363,\n",
       "        0.132,  0.174])"
      ]
     },
     "execution_count": 57,
     "metadata": {},
     "output_type": "execute_result"
    }
   ],
   "source": [
    "mean_all = np.mean(factor_return, axis=0)\n",
    "ret_sec = np.around(mean_all[3:13], decimals=3, out=None) \n",
    "ret_sec\n",
    "#INDU HLTH INFT TCOM DSCR FINA MATS REAL STPL ENER"
   ]
  },
  {
   "cell_type": "code",
   "execution_count": 58,
   "metadata": {},
   "outputs": [],
   "source": [
    "Pi = ret_sec"
   ]
  },
  {
   "cell_type": "code",
   "execution_count": 59,
   "metadata": {},
   "outputs": [
    {
     "data": {
      "text/plain": [
       "array([[19.02114378, 13.4234903 , 13.72532806, 13.48221255, 17.59947258,\n",
       "        17.21228829, 16.62323413,  9.20190977, 12.18445164, 13.18732194],\n",
       "       [13.4234903 , 17.15926942, 12.88310397, 12.57150873, 13.98530558,\n",
       "        14.55142226, 12.39714826,  9.24429851, 11.04895721,  8.96523111],\n",
       "       [13.72532806, 12.88310397, 19.76850914, 14.62916081, 14.07562608,\n",
       "        12.70689713, 14.43177831,  6.26767459, 10.35169808, 13.09362227],\n",
       "       [13.48221255, 12.57150873, 14.62916081, 20.26570407, 15.55063706,\n",
       "        14.19811771, 14.4470043 ,  7.09055879, 12.20769875, 13.248884  ],\n",
       "       [17.59947258, 13.98530558, 14.07562608, 15.55063706, 24.47573702,\n",
       "        18.23645574, 16.3435205 , 12.62768624, 13.87049292, 10.20387358],\n",
       "       [17.21228829, 14.55142226, 12.70689713, 14.19811771, 18.23645574,\n",
       "        25.33435414, 15.92056146, 11.4615958 , 13.25909458, 10.83499992],\n",
       "       [16.62323413, 12.39714826, 14.43177831, 14.4470043 , 16.3435205 ,\n",
       "        15.92056146, 20.0406239 ,  8.08468741, 11.18295126, 15.2698861 ],\n",
       "       [ 9.20190977,  9.24429851,  6.26767459,  7.09055879, 12.62768624,\n",
       "        11.4615958 ,  8.08468741, 20.55844739,  7.97799017,  2.25138393],\n",
       "       [12.18445164, 11.04895721, 10.35169808, 12.20769875, 13.87049292,\n",
       "        13.25909458, 11.18295126,  7.97799017, 12.95838377,  7.64024148],\n",
       "       [13.18732194,  8.96523111, 13.09362227, 13.248884  , 10.20387358,\n",
       "        10.83499992, 15.2698861 ,  2.25138393,  7.64024148, 36.20882241]])"
      ]
     },
     "execution_count": 59,
     "metadata": {},
     "output_type": "execute_result"
    }
   ],
   "source": [
    "sigma = np.cov(factor_return[:,3:13].T)\n",
    "sigma"
   ]
  },
  {
   "cell_type": "code",
   "execution_count": 60,
   "metadata": {},
   "outputs": [],
   "source": [
    "#without active views, given Pi (from 1) and Sigma (from 2), \n",
    "#locate the optimal portfolio of the 10 sectors which has the \n",
    "#highest expected return and at the same time its annualized \n",
    "#volatility no greater than 10%. "
   ]
  },
  {
   "cell_type": "code",
   "execution_count": 61,
   "metadata": {},
   "outputs": [],
   "source": [
    "import scipy.optimize as so\n",
    "from scipy.optimize import minimize"
   ]
  },
  {
   "cell_type": "code",
   "execution_count": 62,
   "metadata": {},
   "outputs": [],
   "source": [
    "def statistics(weights):\n",
    "    weights1 = np.array(weights)\n",
    "    port_ret = np.dot(weights1.T,ret_sec)\n",
    "    port_var = np.dot(weights1.T, np.dot(sigma, weights1))\n",
    "    return np.array([port_ret,port_var])"
   ]
  },
  {
   "cell_type": "code",
   "execution_count": 63,
   "metadata": {},
   "outputs": [],
   "source": [
    "def min_negareturn(weights):\n",
    "    return -statistics(weights)[0]"
   ]
  },
  {
   "cell_type": "code",
   "execution_count": 64,
   "metadata": {},
   "outputs": [],
   "source": [
    "cons1=({'type': 'ineq', 'fun': lambda x: -statistics(x)[1] + month_var})"
   ]
  },
  {
   "cell_type": "code",
   "execution_count": 65,
   "metadata": {},
   "outputs": [],
   "source": [
    "opt1 = so.minimize(min_negareturn,10*[1./10,],method='SLSQP', constraints=cons1)\n",
    "#bounds=bnds, "
   ]
  },
  {
   "cell_type": "code",
   "execution_count": null,
   "metadata": {},
   "outputs": [],
   "source": [
    "# run the optimization to find the market portfolio's return "
   ]
  },
  {
   "cell_type": "code",
   "execution_count": 66,
   "metadata": {},
   "outputs": [
    {
     "data": {
      "text/plain": [
       "array([-0.0775,  0.6425,  0.1167, -0.3168,  0.266 , -0.7314,  0.2678,\n",
       "        0.2189, -0.0537,  0.0379])"
      ]
     },
     "execution_count": 66,
     "metadata": {},
     "output_type": "execute_result"
    }
   ],
   "source": [
    "old = np.around(opt1.x, decimals=4, out=None)\n",
    "old"
   ]
  },
  {
   "cell_type": "code",
   "execution_count": 67,
   "metadata": {},
   "outputs": [],
   "source": [
    "#INDU HLTH INFT TCOM DSCR FINA MATS REAL STPL ENER"
   ]
  },
  {
   "cell_type": "code",
   "execution_count": null,
   "metadata": {},
   "outputs": [],
   "source": [
    "# add three views into portfolio:"
   ]
  },
  {
   "cell_type": "code",
   "execution_count": 68,
   "metadata": {},
   "outputs": [],
   "source": [
    "view1 = np.zeros(10)\n",
    "view1[9]=1"
   ]
  },
  {
   "cell_type": "code",
   "execution_count": 69,
   "metadata": {},
   "outputs": [],
   "source": [
    "# active view1 return is 0.2%"
   ]
  },
  {
   "cell_type": "code",
   "execution_count": 70,
   "metadata": {},
   "outputs": [
    {
     "data": {
      "text/plain": [
       "array([-1.,  0.,  0.,  0.,  0.,  1.,  0.,  0.,  0.,  0.])"
      ]
     },
     "execution_count": 70,
     "metadata": {},
     "output_type": "execute_result"
    }
   ],
   "source": [
    "view2 = np.zeros(10)\n",
    "view2[5]=1\n",
    "view2[0]=-1\n",
    "view2"
   ]
  },
  {
   "cell_type": "code",
   "execution_count": 71,
   "metadata": {},
   "outputs": [],
   "source": [
    "# active view2 return is 0.05%"
   ]
  },
  {
   "cell_type": "code",
   "execution_count": 72,
   "metadata": {},
   "outputs": [],
   "source": [
    "#portion1 = ret_sec[2]/(ret_sec[1]+ret_sec[2])\n",
    "#portion2 = ret_sec[7]/(ret_sec[8]+ret_sec[7])"
   ]
  },
  {
   "cell_type": "code",
   "execution_count": 73,
   "metadata": {},
   "outputs": [],
   "source": [
    "view3 = np.zeros(10)\n",
    "view3[2] = 0.5\n",
    "view3[1] = 0.5\n",
    "view3[7] = -0.5\n",
    "view3[8] = -0.5"
   ]
  },
  {
   "cell_type": "code",
   "execution_count": 74,
   "metadata": {},
   "outputs": [
    {
     "data": {
      "text/plain": [
       "array([ 0. ,  0.5,  0.5,  0. ,  0. ,  0. ,  0. , -0.5, -0.5,  0. ])"
      ]
     },
     "execution_count": 74,
     "metadata": {},
     "output_type": "execute_result"
    }
   ],
   "source": [
    "view3"
   ]
  },
  {
   "cell_type": "code",
   "execution_count": 75,
   "metadata": {},
   "outputs": [],
   "source": [
    "# active view3 return is 0.3%"
   ]
  },
  {
   "cell_type": "code",
   "execution_count": 76,
   "metadata": {},
   "outputs": [
    {
     "data": {
      "text/plain": [
       "array([[0.2 ],\n",
       "       [0.05],\n",
       "       [0.3 ]])"
      ]
     },
     "execution_count": 76,
     "metadata": {},
     "output_type": "execute_result"
    }
   ],
   "source": [
    "act_return = np.array([[0.2],[0.05],[0.3]])\n",
    "act_return"
   ]
  },
  {
   "cell_type": "code",
   "execution_count": 77,
   "metadata": {},
   "outputs": [],
   "source": [
    "def omega(view):\n",
    "    omega = tau*(np.dot(np.dot(view,sigma), view.T))\n",
    "    return omega"
   ]
  },
  {
   "cell_type": "code",
   "execution_count": 78,
   "metadata": {},
   "outputs": [],
   "source": [
    "omega_array = np.zeros([3,3])\n",
    "view = [view1,view2,view3]"
   ]
  },
  {
   "cell_type": "code",
   "execution_count": 79,
   "metadata": {},
   "outputs": [
    {
     "data": {
      "text/plain": [
       "array([[ 0. ,  0. ,  0. ,  0. ,  0. ,  0. ,  0. ,  0. ,  0. ,  1. ],\n",
       "       [-1. ,  0. ,  0. ,  0. ,  0. ,  1. ,  0. ,  0. ,  0. ,  0. ],\n",
       "       [ 0. ,  0.5,  0.5,  0. ,  0. ,  0. ,  0. , -0.5, -0.5,  0. ]])"
      ]
     },
     "execution_count": 79,
     "metadata": {},
     "output_type": "execute_result"
    }
   ],
   "source": [
    "p = np.concatenate((view1,view2,view3),axis=0)\n",
    "P = p.reshape(3,10)\n",
    "P"
   ]
  },
  {
   "cell_type": "code",
   "execution_count": 80,
   "metadata": {},
   "outputs": [
    {
     "data": {
      "text/plain": [
       "array([[0.2 ],\n",
       "       [0.05],\n",
       "       [0.3 ]])"
      ]
     },
     "execution_count": 80,
     "metadata": {},
     "output_type": "execute_result"
    }
   ],
   "source": [
    "Q =  act_return\n",
    "Q"
   ]
  },
  {
   "cell_type": "code",
   "execution_count": 81,
   "metadata": {},
   "outputs": [
    {
     "data": {
      "text/plain": [
       "1.810441120693"
      ]
     },
     "execution_count": 81,
     "metadata": {},
     "output_type": "execute_result"
    }
   ],
   "source": [
    "omega(view[0])"
   ]
  },
  {
   "cell_type": "code",
   "execution_count": 82,
   "metadata": {},
   "outputs": [],
   "source": [
    "for i in range(0,3):\n",
    "    omega_array[i,i] = omega(view[i])"
   ]
  },
  {
   "cell_type": "code",
   "execution_count": 83,
   "metadata": {},
   "outputs": [
    {
     "data": {
      "text/plain": [
       "array([[1.81044112, 0.        , 0.        ],\n",
       "       [0.        , 0.49654607, 0.        ],\n",
       "       [0.        , 0.        , 0.47926927]])"
      ]
     },
     "execution_count": 83,
     "metadata": {},
     "output_type": "execute_result"
    }
   ],
   "source": [
    "omega_array"
   ]
  },
  {
   "cell_type": "code",
   "execution_count": 84,
   "metadata": {},
   "outputs": [
    {
     "data": {
      "text/plain": [
       "array([[0.55235157, 0.        , 0.        ],\n",
       "       [0.        , 2.01391183, 0.        ],\n",
       "       [0.        , 0.        , 2.08650976]])"
      ]
     },
     "execution_count": 84,
     "metadata": {},
     "output_type": "execute_result"
    }
   ],
   "source": [
    "np.linalg.inv(omega_array)"
   ]
  },
  {
   "cell_type": "code",
   "execution_count": 85,
   "metadata": {},
   "outputs": [],
   "source": [
    "C = tau*sigma\n",
    "x1 = np.dot(np.dot(P.T,np.linalg.inv(omega_array)),P)\n",
    "x2 = np.linalg.inv(C)\n",
    "H = x1+x2"
   ]
  },
  {
   "cell_type": "code",
   "execution_count": 86,
   "metadata": {},
   "outputs": [],
   "source": [
    "y = np.dot(np.linalg.inv(C),Pi).reshape(-1,1)\n",
    "z = np.dot(np.dot(P.T,np.linalg.inv(omega_array)), Q)\n",
    "x = z+y"
   ]
  },
  {
   "cell_type": "code",
   "execution_count": 87,
   "metadata": {},
   "outputs": [],
   "source": [
    "x = y+z"
   ]
  },
  {
   "cell_type": "code",
   "execution_count": 88,
   "metadata": {},
   "outputs": [
    {
     "data": {
      "text/plain": [
       "array([[0.20306014],\n",
       "       [0.49128393],\n",
       "       [0.39553896],\n",
       "       [0.15854739],\n",
       "       [0.33514042],\n",
       "       [0.03443175],\n",
       "       [0.28970436],\n",
       "       [0.34065788],\n",
       "       [0.15930972],\n",
       "       [0.19492637]])"
      ]
     },
     "execution_count": 88,
     "metadata": {},
     "output_type": "execute_result"
    }
   ],
   "source": [
    "nu = np.dot(np.linalg.inv(H),x)\n",
    "nu"
   ]
  },
  {
   "cell_type": "code",
   "execution_count": 89,
   "metadata": {},
   "outputs": [
    {
     "data": {
      "text/plain": [
       "array([ 0.209,  0.411,  0.327,  0.097,  0.311, -0.16 ,  0.261,  0.363,\n",
       "        0.132,  0.174])"
      ]
     },
     "execution_count": 89,
     "metadata": {},
     "output_type": "execute_result"
    }
   ],
   "source": [
    "Pi"
   ]
  },
  {
   "cell_type": "code",
   "execution_count": 90,
   "metadata": {},
   "outputs": [
    {
     "data": {
      "text/plain": [
       "array([[19.83975771, 13.99893367, 14.25929364, 14.02651491, 18.38994766,\n",
       "        17.9994606 , 17.30343841,  9.6791279 , 12.73014605, 13.49955693],\n",
       "       [13.99893367, 17.90860421, 13.37013324, 13.08073992, 14.61801106,\n",
       "        15.17056066, 12.89497642,  9.75855627, 11.55295329,  9.15992955],\n",
       "       [14.25929364, 13.37013324, 20.51037898, 15.18848345, 14.68873406,\n",
       "        13.23912861, 14.96902782,  6.68521562, 10.80803068, 13.36442591],\n",
       "       [14.02651491, 13.08073992, 15.18848345, 21.13149968, 16.23207487,\n",
       "        14.77677431, 15.01073554,  7.46914481, 12.74684138, 13.56024353],\n",
       "       [18.38994766, 14.61801106, 14.68873406, 16.23207487, 25.62526578,\n",
       "        19.05122255, 17.05366754, 13.23738427, 14.5069479 , 10.46190127],\n",
       "       [17.9994606 , 15.17056066, 13.23912861, 14.77677431, 19.05122255,\n",
       "        26.3360404 , 16.60032986, 11.98485753, 13.83738431, 11.12337607],\n",
       "       [17.30343841, 12.89497642, 14.96902782, 15.01073554, 17.05366754,\n",
       "        16.60032986, 20.86494629,  8.51011924, 11.66434715, 15.63123234],\n",
       "       [ 9.6791279 ,  9.75855627,  6.68521562,  7.46914481, 13.23738427,\n",
       "        11.98485753,  8.51011924, 21.45407507,  8.35166746,  2.36667343],\n",
       "       [12.73014605, 11.55295329, 10.80803068, 12.74684138, 14.5069479 ,\n",
       "        13.83738431, 11.66434715,  8.35166746, 13.56131016,  7.83769025],\n",
       "       [13.49955693,  9.15992955, 13.36442591, 13.56024353, 10.46190127,\n",
       "        11.12337607, 15.63123234,  2.36667343,  7.83769025, 37.08697839]])"
      ]
     },
     "execution_count": 90,
     "metadata": {},
     "output_type": "execute_result"
    }
   ],
   "source": [
    "up_cov = np.linalg.inv(H)+sigma\n",
    "up_cov"
   ]
  },
  {
   "cell_type": "code",
   "execution_count": 91,
   "metadata": {},
   "outputs": [],
   "source": [
    "sector_name = ['INDU', 'HLTH', 'INFT', 'TCOM', 'DSCR', 'FINA', 'MATS', 'REAL', 'STPL', 'ENER']"
   ]
  },
  {
   "cell_type": "code",
   "execution_count": 92,
   "metadata": {},
   "outputs": [],
   "source": [
    "compare = pd.DataFrame(Pi, index = sector_name, columns = ['Pi'] )"
   ]
  },
  {
   "cell_type": "code",
   "execution_count": 93,
   "metadata": {},
   "outputs": [],
   "source": [
    "compare['BL'] = nu"
   ]
  },
  {
   "cell_type": "code",
   "execution_count": 94,
   "metadata": {},
   "outputs": [
    {
     "data": {
      "text/html": [
       "<div>\n",
       "<style scoped>\n",
       "    .dataframe tbody tr th:only-of-type {\n",
       "        vertical-align: middle;\n",
       "    }\n",
       "\n",
       "    .dataframe tbody tr th {\n",
       "        vertical-align: top;\n",
       "    }\n",
       "\n",
       "    .dataframe thead th {\n",
       "        text-align: right;\n",
       "    }\n",
       "</style>\n",
       "<table border=\"1\" class=\"dataframe\">\n",
       "  <thead>\n",
       "    <tr style=\"text-align: right;\">\n",
       "      <th></th>\n",
       "      <th>Pi</th>\n",
       "      <th>BL</th>\n",
       "    </tr>\n",
       "  </thead>\n",
       "  <tbody>\n",
       "    <tr>\n",
       "      <th>INDU</th>\n",
       "      <td>0.209</td>\n",
       "      <td>0.203060</td>\n",
       "    </tr>\n",
       "    <tr>\n",
       "      <th>HLTH</th>\n",
       "      <td>0.411</td>\n",
       "      <td>0.491284</td>\n",
       "    </tr>\n",
       "    <tr>\n",
       "      <th>INFT</th>\n",
       "      <td>0.327</td>\n",
       "      <td>0.395539</td>\n",
       "    </tr>\n",
       "    <tr>\n",
       "      <th>TCOM</th>\n",
       "      <td>0.097</td>\n",
       "      <td>0.158547</td>\n",
       "    </tr>\n",
       "    <tr>\n",
       "      <th>DSCR</th>\n",
       "      <td>0.311</td>\n",
       "      <td>0.335140</td>\n",
       "    </tr>\n",
       "    <tr>\n",
       "      <th>FINA</th>\n",
       "      <td>-0.160</td>\n",
       "      <td>0.034432</td>\n",
       "    </tr>\n",
       "    <tr>\n",
       "      <th>MATS</th>\n",
       "      <td>0.261</td>\n",
       "      <td>0.289704</td>\n",
       "    </tr>\n",
       "    <tr>\n",
       "      <th>REAL</th>\n",
       "      <td>0.363</td>\n",
       "      <td>0.340658</td>\n",
       "    </tr>\n",
       "    <tr>\n",
       "      <th>STPL</th>\n",
       "      <td>0.132</td>\n",
       "      <td>0.159310</td>\n",
       "    </tr>\n",
       "    <tr>\n",
       "      <th>ENER</th>\n",
       "      <td>0.174</td>\n",
       "      <td>0.194926</td>\n",
       "    </tr>\n",
       "  </tbody>\n",
       "</table>\n",
       "</div>"
      ],
      "text/plain": [
       "         Pi        BL\n",
       "INDU  0.209  0.203060\n",
       "HLTH  0.411  0.491284\n",
       "INFT  0.327  0.395539\n",
       "TCOM  0.097  0.158547\n",
       "DSCR  0.311  0.335140\n",
       "FINA -0.160  0.034432\n",
       "MATS  0.261  0.289704\n",
       "REAL  0.363  0.340658\n",
       "STPL  0.132  0.159310\n",
       "ENER  0.174  0.194926"
      ]
     },
     "execution_count": 94,
     "metadata": {},
     "output_type": "execute_result"
    }
   ],
   "source": [
    "compare"
   ]
  },
  {
   "cell_type": "code",
   "execution_count": 95,
   "metadata": {},
   "outputs": [],
   "source": [
    "def statistics(weights):\n",
    "    weights1 = np.array(weights)\n",
    "    port_ret = np.dot(weights1.T,nu)\n",
    "    port_var = np.dot(weights1.T, np.dot(up_cov, weights1))\n",
    "    return np.array([port_ret,port_var])"
   ]
  },
  {
   "cell_type": "code",
   "execution_count": 96,
   "metadata": {},
   "outputs": [],
   "source": [
    "def min_negareturn(weights):\n",
    "    return -statistics(weights)[0]"
   ]
  },
  {
   "cell_type": "code",
   "execution_count": 97,
   "metadata": {},
   "outputs": [],
   "source": [
    "cons2=({'type': 'ineq', 'fun': lambda x: -statistics(x)[1] + month_var})\n",
    "opt2 = so.minimize(min_negareturn,10*[1./10,],method='SLSQP', constraints=cons2)"
   ]
  },
  {
   "cell_type": "code",
   "execution_count": 98,
   "metadata": {},
   "outputs": [],
   "source": [
    "new = np.around(opt2.x,decimals = 4)"
   ]
  },
  {
   "cell_type": "code",
   "execution_count": 99,
   "metadata": {},
   "outputs": [],
   "source": [
    "compare_weight = pd.DataFrame(old, index = sector_name, columns = ['old'] )\n",
    "compare_weight['new'] = new"
   ]
  },
  {
   "cell_type": "code",
   "execution_count": 100,
   "metadata": {},
   "outputs": [
    {
     "data": {
      "text/html": [
       "<div>\n",
       "<style scoped>\n",
       "    .dataframe tbody tr th:only-of-type {\n",
       "        vertical-align: middle;\n",
       "    }\n",
       "\n",
       "    .dataframe tbody tr th {\n",
       "        vertical-align: top;\n",
       "    }\n",
       "\n",
       "    .dataframe thead th {\n",
       "        text-align: right;\n",
       "    }\n",
       "</style>\n",
       "<table border=\"1\" class=\"dataframe\">\n",
       "  <thead>\n",
       "    <tr style=\"text-align: right;\">\n",
       "      <th></th>\n",
       "      <th>old</th>\n",
       "      <th>new</th>\n",
       "    </tr>\n",
       "  </thead>\n",
       "  <tbody>\n",
       "    <tr>\n",
       "      <th>INDU</th>\n",
       "      <td>-0.0775</td>\n",
       "      <td>-0.4068</td>\n",
       "    </tr>\n",
       "    <tr>\n",
       "      <th>HLTH</th>\n",
       "      <td>0.6425</td>\n",
       "      <td>0.7809</td>\n",
       "    </tr>\n",
       "    <tr>\n",
       "      <th>INFT</th>\n",
       "      <td>0.1167</td>\n",
       "      <td>0.2124</td>\n",
       "    </tr>\n",
       "    <tr>\n",
       "      <th>TCOM</th>\n",
       "      <td>-0.3168</td>\n",
       "      <td>-0.3425</td>\n",
       "    </tr>\n",
       "    <tr>\n",
       "      <th>DSCR</th>\n",
       "      <td>0.2660</td>\n",
       "      <td>0.2876</td>\n",
       "    </tr>\n",
       "    <tr>\n",
       "      <th>FINA</th>\n",
       "      <td>-0.7314</td>\n",
       "      <td>-0.4679</td>\n",
       "    </tr>\n",
       "    <tr>\n",
       "      <th>MATS</th>\n",
       "      <td>0.2678</td>\n",
       "      <td>0.2896</td>\n",
       "    </tr>\n",
       "    <tr>\n",
       "      <th>REAL</th>\n",
       "      <td>0.2189</td>\n",
       "      <td>0.1505</td>\n",
       "    </tr>\n",
       "    <tr>\n",
       "      <th>STPL</th>\n",
       "      <td>-0.0537</td>\n",
       "      <td>-0.1443</td>\n",
       "    </tr>\n",
       "    <tr>\n",
       "      <th>ENER</th>\n",
       "      <td>0.0379</td>\n",
       "      <td>0.0443</td>\n",
       "    </tr>\n",
       "  </tbody>\n",
       "</table>\n",
       "</div>"
      ],
      "text/plain": [
       "         old     new\n",
       "INDU -0.0775 -0.4068\n",
       "HLTH  0.6425  0.7809\n",
       "INFT  0.1167  0.2124\n",
       "TCOM -0.3168 -0.3425\n",
       "DSCR  0.2660  0.2876\n",
       "FINA -0.7314 -0.4679\n",
       "MATS  0.2678  0.2896\n",
       "REAL  0.2189  0.1505\n",
       "STPL -0.0537 -0.1443\n",
       "ENER  0.0379  0.0443"
      ]
     },
     "execution_count": 100,
     "metadata": {},
     "output_type": "execute_result"
    }
   ],
   "source": [
    "compare_weight"
   ]
  }
 ],
 "metadata": {
  "kernelspec": {
   "display_name": "Python 3",
   "language": "python",
   "name": "python3"
  },
  "language_info": {
   "codemirror_mode": {
    "name": "ipython",
    "version": 3
   },
   "file_extension": ".py",
   "mimetype": "text/x-python",
   "name": "python",
   "nbconvert_exporter": "python",
   "pygments_lexer": "ipython3",
   "version": "3.6.8"
  }
 },
 "nbformat": 4,
 "nbformat_minor": 2
}

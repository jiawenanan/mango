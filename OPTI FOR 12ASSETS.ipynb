{
 "cells": [
  {
   "cell_type": "markdown",
   "metadata": {},
   "source": [
    "# Problem 1"
   ]
  },
  {
   "cell_type": "code",
   "execution_count": 1,
   "metadata": {},
   "outputs": [],
   "source": [
    "import numpy as np\n",
    "import pandas as pd\n",
    "import matplotlib.pyplot as plt"
   ]
  },
  {
   "cell_type": "code",
   "execution_count": 2,
   "metadata": {},
   "outputs": [
    {
     "data": {
      "text/html": [
       "<div>\n",
       "<style scoped>\n",
       "    .dataframe tbody tr th:only-of-type {\n",
       "        vertical-align: middle;\n",
       "    }\n",
       "\n",
       "    .dataframe tbody tr th {\n",
       "        vertical-align: top;\n",
       "    }\n",
       "\n",
       "    .dataframe thead th {\n",
       "        text-align: right;\n",
       "    }\n",
       "</style>\n",
       "<table border=\"1\" class=\"dataframe\">\n",
       "  <thead>\n",
       "    <tr style=\"text-align: right;\">\n",
       "      <th></th>\n",
       "      <th>Date</th>\n",
       "      <th>Price</th>\n",
       "      <th>Price.1</th>\n",
       "    </tr>\n",
       "  </thead>\n",
       "  <tbody>\n",
       "    <tr>\n",
       "      <td>0</td>\n",
       "      <td>1999-01-15</td>\n",
       "      <td>29.24</td>\n",
       "      <td>124.38</td>\n",
       "    </tr>\n",
       "    <tr>\n",
       "      <td>1</td>\n",
       "      <td>1999-01-19</td>\n",
       "      <td>29.24</td>\n",
       "      <td>125.19</td>\n",
       "    </tr>\n",
       "    <tr>\n",
       "      <td>2</td>\n",
       "      <td>1999-01-20</td>\n",
       "      <td>28.60</td>\n",
       "      <td>126.19</td>\n",
       "    </tr>\n",
       "    <tr>\n",
       "      <td>3</td>\n",
       "      <td>1999-01-21</td>\n",
       "      <td>30.92</td>\n",
       "      <td>122.84</td>\n",
       "    </tr>\n",
       "    <tr>\n",
       "      <td>4</td>\n",
       "      <td>1999-01-22</td>\n",
       "      <td>31.95</td>\n",
       "      <td>122.56</td>\n",
       "    </tr>\n",
       "  </tbody>\n",
       "</table>\n",
       "</div>"
      ],
      "text/plain": [
       "        Date  Price  Price.1\n",
       "0 1999-01-15  29.24   124.38\n",
       "1 1999-01-19  29.24   125.19\n",
       "2 1999-01-20  28.60   126.19\n",
       "3 1999-01-21  30.92   122.84\n",
       "4 1999-01-22  31.95   122.56"
      ]
     },
     "execution_count": 2,
     "metadata": {},
     "output_type": "execute_result"
    }
   ],
   "source": [
    "df = pd.read_csv(\"~/Desktop/HW1_PR1.csv\",parse_dates=['Date'])\n",
    "df[:5]"
   ]
  },
  {
   "cell_type": "code",
   "execution_count": 3,
   "metadata": {},
   "outputs": [],
   "source": [
    "import datetime\n",
    "from datetime import datetime, date"
   ]
  },
  {
   "cell_type": "code",
   "execution_count": 4,
   "metadata": {},
   "outputs": [
    {
     "data": {
      "text/html": [
       "<div>\n",
       "<style scoped>\n",
       "    .dataframe tbody tr th:only-of-type {\n",
       "        vertical-align: middle;\n",
       "    }\n",
       "\n",
       "    .dataframe tbody tr th {\n",
       "        vertical-align: top;\n",
       "    }\n",
       "\n",
       "    .dataframe thead th {\n",
       "        text-align: right;\n",
       "    }\n",
       "</style>\n",
       "<table border=\"1\" class=\"dataframe\">\n",
       "  <thead>\n",
       "    <tr style=\"text-align: right;\">\n",
       "      <th></th>\n",
       "      <th>Price</th>\n",
       "      <th>Price.1</th>\n",
       "    </tr>\n",
       "  </thead>\n",
       "  <tbody>\n",
       "    <tr>\n",
       "      <td>0</td>\n",
       "      <td>29.24</td>\n",
       "      <td>124.38</td>\n",
       "    </tr>\n",
       "    <tr>\n",
       "      <td>1</td>\n",
       "      <td>29.24</td>\n",
       "      <td>125.19</td>\n",
       "    </tr>\n",
       "    <tr>\n",
       "      <td>2</td>\n",
       "      <td>28.60</td>\n",
       "      <td>126.19</td>\n",
       "    </tr>\n",
       "    <tr>\n",
       "      <td>3</td>\n",
       "      <td>30.92</td>\n",
       "      <td>122.84</td>\n",
       "    </tr>\n",
       "    <tr>\n",
       "      <td>4</td>\n",
       "      <td>31.95</td>\n",
       "      <td>122.56</td>\n",
       "    </tr>\n",
       "  </tbody>\n",
       "</table>\n",
       "</div>"
      ],
      "text/plain": [
       "   Price  Price.1\n",
       "0  29.24   124.38\n",
       "1  29.24   125.19\n",
       "2  28.60   126.19\n",
       "3  30.92   122.84\n",
       "4  31.95   122.56"
      ]
     },
     "execution_count": 4,
     "metadata": {},
     "output_type": "execute_result"
    }
   ],
   "source": [
    "Date_col = df.pop('Date')\n",
    "df[:5]"
   ]
  },
  {
   "cell_type": "code",
   "execution_count": 5,
   "metadata": {},
   "outputs": [
    {
     "data": {
      "text/html": [
       "<div>\n",
       "<style scoped>\n",
       "    .dataframe tbody tr th:only-of-type {\n",
       "        vertical-align: middle;\n",
       "    }\n",
       "\n",
       "    .dataframe tbody tr th {\n",
       "        vertical-align: top;\n",
       "    }\n",
       "\n",
       "    .dataframe thead th {\n",
       "        text-align: right;\n",
       "    }\n",
       "</style>\n",
       "<table border=\"1\" class=\"dataframe\">\n",
       "  <thead>\n",
       "    <tr style=\"text-align: right;\">\n",
       "      <th></th>\n",
       "      <th>Price</th>\n",
       "      <th>Price.1</th>\n",
       "    </tr>\n",
       "    <tr>\n",
       "      <th>Date</th>\n",
       "      <th></th>\n",
       "      <th></th>\n",
       "    </tr>\n",
       "  </thead>\n",
       "  <tbody>\n",
       "    <tr>\n",
       "      <td>1999-01-15</td>\n",
       "      <td>29.24</td>\n",
       "      <td>124.38</td>\n",
       "    </tr>\n",
       "    <tr>\n",
       "      <td>1999-01-19</td>\n",
       "      <td>29.24</td>\n",
       "      <td>125.19</td>\n",
       "    </tr>\n",
       "    <tr>\n",
       "      <td>1999-01-20</td>\n",
       "      <td>28.60</td>\n",
       "      <td>126.19</td>\n",
       "    </tr>\n",
       "    <tr>\n",
       "      <td>1999-01-21</td>\n",
       "      <td>30.92</td>\n",
       "      <td>122.84</td>\n",
       "    </tr>\n",
       "    <tr>\n",
       "      <td>1999-01-22</td>\n",
       "      <td>31.95</td>\n",
       "      <td>122.56</td>\n",
       "    </tr>\n",
       "  </tbody>\n",
       "</table>\n",
       "</div>"
      ],
      "text/plain": [
       "            Price  Price.1\n",
       "Date                      \n",
       "1999-01-15  29.24   124.38\n",
       "1999-01-19  29.24   125.19\n",
       "1999-01-20  28.60   126.19\n",
       "1999-01-21  30.92   122.84\n",
       "1999-01-22  31.95   122.56"
      ]
     },
     "execution_count": 5,
     "metadata": {},
     "output_type": "execute_result"
    }
   ],
   "source": [
    "data=df.copy()\n",
    "data.index=Date_col\n",
    "data[:5]"
   ]
  },
  {
   "cell_type": "code",
   "execution_count": 6,
   "metadata": {},
   "outputs": [
    {
     "data": {
      "text/html": [
       "<div>\n",
       "<style scoped>\n",
       "    .dataframe tbody tr th:only-of-type {\n",
       "        vertical-align: middle;\n",
       "    }\n",
       "\n",
       "    .dataframe tbody tr th {\n",
       "        vertical-align: top;\n",
       "    }\n",
       "\n",
       "    .dataframe thead th {\n",
       "        text-align: right;\n",
       "    }\n",
       "</style>\n",
       "<table border=\"1\" class=\"dataframe\">\n",
       "  <thead>\n",
       "    <tr style=\"text-align: right;\">\n",
       "      <th></th>\n",
       "      <th>Price</th>\n",
       "      <th>Price.1</th>\n",
       "    </tr>\n",
       "    <tr>\n",
       "      <th>Date</th>\n",
       "      <th></th>\n",
       "      <th></th>\n",
       "    </tr>\n",
       "  </thead>\n",
       "  <tbody>\n",
       "    <tr>\n",
       "      <td>1999-01-15</td>\n",
       "      <td>NaN</td>\n",
       "      <td>NaN</td>\n",
       "    </tr>\n",
       "    <tr>\n",
       "      <td>1999-01-19</td>\n",
       "      <td>0.000000</td>\n",
       "      <td>0.006512</td>\n",
       "    </tr>\n",
       "    <tr>\n",
       "      <td>1999-01-20</td>\n",
       "      <td>-0.021888</td>\n",
       "      <td>0.007988</td>\n",
       "    </tr>\n",
       "    <tr>\n",
       "      <td>1999-01-21</td>\n",
       "      <td>0.081119</td>\n",
       "      <td>-0.026547</td>\n",
       "    </tr>\n",
       "    <tr>\n",
       "      <td>1999-01-22</td>\n",
       "      <td>0.033312</td>\n",
       "      <td>-0.002279</td>\n",
       "    </tr>\n",
       "    <tr>\n",
       "      <td>...</td>\n",
       "      <td>...</td>\n",
       "      <td>...</td>\n",
       "    </tr>\n",
       "    <tr>\n",
       "      <td>2018-12-24</td>\n",
       "      <td>0.197941</td>\n",
       "      <td>-0.026423</td>\n",
       "    </tr>\n",
       "    <tr>\n",
       "      <td>2018-12-26</td>\n",
       "      <td>-0.156917</td>\n",
       "      <td>0.050525</td>\n",
       "    </tr>\n",
       "    <tr>\n",
       "      <td>2018-12-27</td>\n",
       "      <td>-0.014798</td>\n",
       "      <td>0.007677</td>\n",
       "    </tr>\n",
       "    <tr>\n",
       "      <td>2018-12-28</td>\n",
       "      <td>-0.054072</td>\n",
       "      <td>-0.001290</td>\n",
       "    </tr>\n",
       "    <tr>\n",
       "      <td>2018-12-31</td>\n",
       "      <td>-0.103035</td>\n",
       "      <td>0.008759</td>\n",
       "    </tr>\n",
       "  </tbody>\n",
       "</table>\n",
       "<p>5022 rows × 2 columns</p>\n",
       "</div>"
      ],
      "text/plain": [
       "               Price   Price.1\n",
       "Date                          \n",
       "1999-01-15       NaN       NaN\n",
       "1999-01-19  0.000000  0.006512\n",
       "1999-01-20 -0.021888  0.007988\n",
       "1999-01-21  0.081119 -0.026547\n",
       "1999-01-22  0.033312 -0.002279\n",
       "...              ...       ...\n",
       "2018-12-24  0.197941 -0.026423\n",
       "2018-12-26 -0.156917  0.050525\n",
       "2018-12-27 -0.014798  0.007677\n",
       "2018-12-28 -0.054072 -0.001290\n",
       "2018-12-31 -0.103035  0.008759\n",
       "\n",
       "[5022 rows x 2 columns]"
      ]
     },
     "execution_count": 6,
     "metadata": {},
     "output_type": "execute_result"
    }
   ],
   "source": [
    "df1=daily_returns = data.pct_change()\n",
    "df1"
   ]
  },
  {
   "cell_type": "code",
   "execution_count": 7,
   "metadata": {},
   "outputs": [],
   "source": [
    "#1. transform VIX daily price time series to daily return time series "
   ]
  },
  {
   "cell_type": "code",
   "execution_count": 8,
   "metadata": {},
   "outputs": [],
   "source": [
    "df1[:1]=0\n",
    "df2=df1"
   ]
  },
  {
   "cell_type": "code",
   "execution_count": 9,
   "metadata": {},
   "outputs": [],
   "source": [
    "#2. calculate the sample moments (mean,skewness, and kurtosis) \n",
    "#for the VIX daily returns"
   ]
  },
  {
   "cell_type": "code",
   "execution_count": 10,
   "metadata": {},
   "outputs": [],
   "source": [
    "from scipy.stats import kurtosis\n",
    "from scipy.stats import skew"
   ]
  },
  {
   "cell_type": "code",
   "execution_count": 11,
   "metadata": {},
   "outputs": [
    {
     "data": {
      "text/plain": [
       "19.286593192618948"
      ]
     },
     "execution_count": 11,
     "metadata": {},
     "output_type": "execute_result"
    }
   ],
   "source": [
    "kurtosis(df2.Price)"
   ]
  },
  {
   "cell_type": "code",
   "execution_count": 12,
   "metadata": {},
   "outputs": [
    {
     "data": {
      "text/plain": [
       "2.014400835173441"
      ]
     },
     "execution_count": 12,
     "metadata": {},
     "output_type": "execute_result"
    }
   ],
   "source": [
    "skew(df2.Price)"
   ]
  },
  {
   "cell_type": "code",
   "execution_count": 13,
   "metadata": {},
   "outputs": [
    {
     "data": {
      "text/plain": [
       "0.0023566671238566543"
      ]
     },
     "execution_count": 13,
     "metadata": {},
     "output_type": "execute_result"
    }
   ],
   "source": [
    "mean_daily_VIX=df2.Price.mean()\n",
    "mean_daily_VIX"
   ]
  },
  {
   "cell_type": "code",
   "execution_count": 14,
   "metadata": {},
   "outputs": [
    {
     "data": {
      "text/plain": [
       "5022"
      ]
     },
     "execution_count": 14,
     "metadata": {},
     "output_type": "execute_result"
    }
   ],
   "source": [
    "len(df2.Price)"
   ]
  },
  {
   "cell_type": "code",
   "execution_count": 15,
   "metadata": {},
   "outputs": [],
   "source": [
    "#3. test whether the VIX daily returns were normally distributed or not. "
   ]
  },
  {
   "cell_type": "code",
   "execution_count": 16,
   "metadata": {},
   "outputs": [],
   "source": [
    "#a.Q-Q plot"
   ]
  },
  {
   "cell_type": "code",
   "execution_count": 17,
   "metadata": {},
   "outputs": [],
   "source": [
    "mean=mean_daily_VIX\n",
    "stdev=df2.Price.std()\n",
    "norm=np.random.normal(mean,stdev,len(df1.Price))\n",
    "norm.sort()"
   ]
  },
  {
   "cell_type": "code",
   "execution_count": 18,
   "metadata": {},
   "outputs": [
    {
     "data": {
      "text/plain": [
       "Text(0.5,1,'normal q-q plot')"
      ]
     },
     "execution_count": 18,
     "metadata": {},
     "output_type": "execute_result"
    },
    {
     "data": {
      "image/png": "[encoded data removed]",
      "text/plain": [
       "<Figure size 432x288 with 1 Axes>"
      ]
     },
     "metadata": {
      "needs_background": "light"
     },
     "output_type": "display_data"
    }
   ],
   "source": [
    "import pylab \n",
    "import scipy.stats as stats\n",
    "x = (df2.Price-mean)/stdev\n",
    "stats.probplot(x,dist=\"norm\",plot=plt)\n",
    "plt.title(\"normal q-q plot\")"
   ]
  },
  {
   "cell_type": "code",
   "execution_count": 19,
   "metadata": {},
   "outputs": [],
   "source": [
    "#From the Q-Q plot, it seems that it is not subjected\n",
    "#to the normal disribution"
   ]
  },
  {
   "cell_type": "code",
   "execution_count": 20,
   "metadata": {},
   "outputs": [],
   "source": [
    "#b.histogram of VIX daily return"
   ]
  },
  {
   "cell_type": "code",
   "execution_count": 21,
   "metadata": {},
   "outputs": [
    {
     "data": {
      "text/plain": [
       "<matplotlib.axes._subplots.AxesSubplot at 0x1a1f3b3908>"
      ]
     },
     "execution_count": 21,
     "metadata": {},
     "output_type": "execute_result"
    },
    {
     "data": {
      "image/png": "[encoded data removed]",
      "text/plain": [
       "<Figure size 432x288 with 1 Axes>"
      ]
     },
     "metadata": {
      "needs_background": "light"
     },
     "output_type": "display_data"
    }
   ],
   "source": [
    "df2.Price.hist(bins=500)"
   ]
  },
  {
   "cell_type": "code",
   "execution_count": 22,
   "metadata": {
    "scrolled": false
   },
   "outputs": [
    {
     "name": "stderr",
     "output_type": "stream",
     "text": [
      "/Users/zhangxingpu/anaconda3/lib/python3.7/site-packages/scipy/stats/stats.py:1713: FutureWarning: Using a non-tuple sequence for multidimensional indexing is deprecated; use `arr[tuple(seq)]` instead of `arr[seq]`. In the future this will be interpreted as an array index, `arr[np.array(seq)]`, which will result either in an error or a different result.\n",
      "  return np.add.reduce(sorted[indexer] * weights, axis=axis) / sumval\n"
     ]
    },
    {
     "data": {
      "image/png": "[encoded data removed]",
      "text/plain": [
       "<Figure size 432x288 with 1 Axes>"
      ]
     },
     "metadata": {
      "needs_background": "light"
     },
     "output_type": "display_data"
    }
   ],
   "source": [
    "import seaborn as sns\n",
    "df1.Price.hist(bins=5000)\n",
    "x = np.random.normal(mean,stdev,50000)\n",
    "sns.distplot(x);"
   ]
  },
  {
   "cell_type": "code",
   "execution_count": 23,
   "metadata": {},
   "outputs": [],
   "source": [
    "#the histogram is not fited with the normal distribution of same mean and D"
   ]
  },
  {
   "cell_type": "code",
   "execution_count": 24,
   "metadata": {},
   "outputs": [],
   "source": [
    "#c.Jarque-Bera test "
   ]
  },
  {
   "cell_type": "code",
   "execution_count": 25,
   "metadata": {},
   "outputs": [
    {
     "data": {
      "text/plain": [
       "(81231.6702341713, 0.0)"
      ]
     },
     "execution_count": 25,
     "metadata": {},
     "output_type": "execute_result"
    }
   ],
   "source": [
    "import numpy as np\n",
    "from scipy import stats\n",
    "np.random.seed(987654321)\n",
    "stats.jarque_bera(df2.Price)"
   ]
  },
  {
   "cell_type": "code",
   "execution_count": 26,
   "metadata": {},
   "outputs": [],
   "source": [
    "#from the result of J-B test, we know that we need to reject\n",
    "#the null hypothesis:it is subjected to normal distribution.\n",
    "#So the daily return of VIX is not normally distributed."
   ]
  },
  {
   "cell_type": "markdown",
   "metadata": {},
   "source": [
    "\n",
    "# Problem 2"
   ]
  },
  {
   "cell_type": "code",
   "execution_count": 27,
   "metadata": {},
   "outputs": [],
   "source": [
    "#1.Calculate rolling 252-day annualied SPY return volatilities, \n",
    "#and plot the time series"
   ]
  },
  {
   "cell_type": "code",
   "execution_count": 28,
   "metadata": {},
   "outputs": [
    {
     "data": {
      "text/plain": [
       "Date\n",
       "1999-01-15    0.000000\n",
       "1999-01-19    0.006512\n",
       "1999-01-20    0.007988\n",
       "1999-01-21   -0.026547\n",
       "1999-01-22   -0.002279\n",
       "Name: Price.1, dtype: float64"
      ]
     },
     "execution_count": 28,
     "metadata": {},
     "output_type": "execute_result"
    }
   ],
   "source": [
    "Price_SPY=df2['Price.1']\n",
    "Price_SPY[:5]"
   ]
  },
  {
   "cell_type": "code",
   "execution_count": 29,
   "metadata": {},
   "outputs": [],
   "source": [
    "import numpy as np\n",
    "import pandas as pd\n",
    "import matplotlib.pyplot as plt\n",
    "import datetime\n",
    "from datetime import datetime, date\n",
    "Rol_vol=df2[\"Price.1\"].rolling(252).std()"
   ]
  },
  {
   "cell_type": "code",
   "execution_count": 30,
   "metadata": {},
   "outputs": [
    {
     "data": {
      "text/plain": [
       "Date\n",
       "2000-01-13    0.190986\n",
       "2000-01-14    0.191420\n",
       "2000-01-18    0.191525\n",
       "2000-01-19    0.191532\n",
       "2000-01-20    0.190254\n",
       "                ...   \n",
       "2018-12-24    0.162820\n",
       "2018-12-26    0.170620\n",
       "2018-12-27    0.170803\n",
       "2018-12-28    0.170804\n",
       "2018-12-31    0.171026\n",
       "Name: Price.1, Length: 4771, dtype: float64"
      ]
     },
     "execution_count": 30,
     "metadata": {},
     "output_type": "execute_result"
    }
   ],
   "source": [
    "Anul_vol=Rol_vol*(np.sqrt(252))\n",
    "Anul_vol[251:]"
   ]
  },
  {
   "cell_type": "code",
   "execution_count": 31,
   "metadata": {
    "scrolled": false
   },
   "outputs": [
    {
     "name": "stderr",
     "output_type": "stream",
     "text": [
      "/Users/zhangxingpu/anaconda3/lib/python3.7/site-packages/pandas/plotting/_matplotlib/converter.py:103: FutureWarning: Using an implicitly registered datetime converter for a matplotlib plotting method. The converter was registered by pandas on import. Future versions of pandas will require you to explicitly register matplotlib converters.\n",
      "\n",
      "To register the converters:\n",
      "\t>>> from pandas.plotting import register_matplotlib_converters\n",
      "\t>>> register_matplotlib_converters()\n",
      "  warnings.warn(msg, FutureWarning)\n"
     ]
    },
    {
     "data": {
      "text/plain": [
       "<matplotlib.legend.Legend at 0x1a1fc8c080>"
      ]
     },
     "execution_count": 31,
     "metadata": {},
     "output_type": "execute_result"
    },
    {
     "data": {
      "image/png": "[encoded data removed]",
      "text/plain": [
       "<Figure size 1080x720 with 1 Axes>"
      ]
     },
     "metadata": {
      "needs_background": "light"
     },
     "output_type": "display_data"
    }
   ],
   "source": [
    "plt.figure(figsize=(15,10))\n",
    "plt.grid(True)\n",
    "plt.plot(Anul_vol,label='Annulized 252 rolling volatility')\n",
    "plt.legend(loc=2)"
   ]
  },
  {
   "cell_type": "code",
   "execution_count": 32,
   "metadata": {},
   "outputs": [],
   "source": [
    "#2.Calculate rolling 252-day annualized SPY return semi-volatility (based on negative daily returns) , and plot the time series"
   ]
  },
  {
   "cell_type": "code",
   "execution_count": 33,
   "metadata": {},
   "outputs": [
    {
     "data": {
      "text/plain": [
       "Date\n",
       "2001-01-09   -0.002688\n",
       "2001-01-12   -0.001890\n",
       "2001-01-19   -0.005639\n",
       "2001-01-25   -0.002566\n",
       "2001-01-26   -0.001103\n",
       "                ...   \n",
       "2018-12-19   -0.014976\n",
       "2018-12-20   -0.016278\n",
       "2018-12-21   -0.026176\n",
       "2018-12-24   -0.026423\n",
       "2018-12-28   -0.001290\n",
       "Name: Price.1, Length: 2070, dtype: float64"
      ]
     },
     "execution_count": 33,
     "metadata": {},
     "output_type": "execute_result"
    }
   ],
   "source": [
    "Nega_Return=Price_SPY[(Price_SPY<0)]\n",
    "\n",
    "Nega_Return[251:]"
   ]
  },
  {
   "cell_type": "code",
   "execution_count": 34,
   "metadata": {},
   "outputs": [],
   "source": [
    "Rol_semi_vol=Nega_Return.rolling(252).std()"
   ]
  },
  {
   "cell_type": "code",
   "execution_count": 35,
   "metadata": {},
   "outputs": [
    {
     "data": {
      "text/plain": [
       "Date\n",
       "2001-01-09    0.131685\n",
       "2001-01-12    0.130935\n",
       "2001-01-19    0.130774\n",
       "2001-01-25    0.130989\n",
       "2001-01-26    0.131233\n",
       "                ...   \n",
       "2018-12-19    0.105361\n",
       "2018-12-20    0.105873\n",
       "2018-12-21    0.107886\n",
       "2018-12-24    0.109929\n",
       "2018-12-28    0.109988\n",
       "Name: Price.1, Length: 2070, dtype: float64"
      ]
     },
     "execution_count": 35,
     "metadata": {},
     "output_type": "execute_result"
    }
   ],
   "source": [
    "Anul_semi_vol=Rol_semi_vol*(np.sqrt(252))\n",
    "Anul_semi_vol[251:]"
   ]
  },
  {
   "cell_type": "code",
   "execution_count": 36,
   "metadata": {},
   "outputs": [
    {
     "data": {
      "text/plain": [
       "<matplotlib.legend.Legend at 0x1a1fd3a4e0>"
      ]
     },
     "execution_count": 36,
     "metadata": {},
     "output_type": "execute_result"
    },
    {
     "data": {
      "image/png": "[encoded data removed]",
      "text/plain": [
       "<Figure size 1080x720 with 1 Axes>"
      ]
     },
     "metadata": {
      "needs_background": "light"
     },
     "output_type": "display_data"
    }
   ],
   "source": [
    "plt.figure(figsize=(15,10))\n",
    "plt.grid(True)\n",
    "plt.plot(Anul_semi_vol,label='Annulized 252 rolling semi-volatility')\n",
    "plt.legend(loc=2)"
   ]
  },
  {
   "cell_type": "code",
   "execution_count": 37,
   "metadata": {},
   "outputs": [],
   "source": [
    "#3.Based on SPY daily returns in 2018\n",
    "#A). calculate its shortfall probability for a daily return less than -2%;"
   ]
  },
  {
   "cell_type": "code",
   "execution_count": 38,
   "metadata": {},
   "outputs": [
    {
     "data": {
      "text/plain": [
       "Date\n",
       "2018-01-02    0.007157\n",
       "2018-01-03    0.006325\n",
       "2018-01-04    0.004215\n",
       "2018-01-05    0.006664\n",
       "2018-01-08    0.001829\n",
       "                ...   \n",
       "2018-12-24   -0.026423\n",
       "2018-12-26    0.050525\n",
       "2018-12-27    0.007677\n",
       "2018-12-28   -0.001290\n",
       "2018-12-31    0.008759\n",
       "Name: Price.1, Length: 251, dtype: float64"
      ]
     },
     "execution_count": 38,
     "metadata": {},
     "output_type": "execute_result"
    }
   ],
   "source": [
    "data_2018=Price_SPY['2018']\n",
    "data_2018"
   ]
  },
  {
   "cell_type": "code",
   "execution_count": 39,
   "metadata": {},
   "outputs": [
    {
     "data": {
      "text/plain": [
       "251"
      ]
     },
     "execution_count": 39,
     "metadata": {},
     "output_type": "execute_result"
    }
   ],
   "source": [
    "a=len(data_2018)\n",
    "a"
   ]
  },
  {
   "cell_type": "code",
   "execution_count": 40,
   "metadata": {},
   "outputs": [
    {
     "data": {
      "text/plain": [
       "14"
      ]
     },
     "execution_count": 40,
     "metadata": {},
     "output_type": "execute_result"
    }
   ],
   "source": [
    "b=len(data_2018[(data_2018<-0.02)])\n",
    "b"
   ]
  },
  {
   "cell_type": "code",
   "execution_count": 41,
   "metadata": {},
   "outputs": [
    {
     "data": {
      "text/plain": [
       "0.055776892430278883"
      ]
     },
     "execution_count": 41,
     "metadata": {},
     "output_type": "execute_result"
    }
   ],
   "source": [
    "SF_Prob=b/a\n",
    "SF_Prob"
   ]
  },
  {
   "cell_type": "code",
   "execution_count": 42,
   "metadata": {},
   "outputs": [],
   "source": [
    "# B). Value at Risk at 95% for daily"
   ]
  },
  {
   "cell_type": "code",
   "execution_count": 43,
   "metadata": {},
   "outputs": [],
   "source": [
    "from tabulate import tabulate"
   ]
  },
  {
   "cell_type": "code",
   "execution_count": 44,
   "metadata": {},
   "outputs": [
    {
     "data": {
      "image/png": "[encoded data removed]",
      "text/plain": [
       "<Figure size 432x288 with 1 Axes>"
      ]
     },
     "metadata": {
      "needs_background": "light"
     },
     "output_type": "display_data"
    }
   ],
   "source": [
    "plt.hist(data_2018,bins=50)\n",
    "df['returns']=Price_SPY\n",
    "plt.xlabel('returns')\n",
    "plt.ylabel('frequency')\n",
    "plt.grid(True)\n",
    "plt.show()"
   ]
  },
  {
   "cell_type": "code",
   "execution_count": 45,
   "metadata": {},
   "outputs": [],
   "source": [
    "#df.sort_values(df2['Price.1'],inplace=True, ascending = True)\n",
    "#Var_95=df2['Price.1'].quantile(0.05)\n",
    "#Var_95"
   ]
  },
  {
   "cell_type": "code",
   "execution_count": 46,
   "metadata": {},
   "outputs": [
    {
     "data": {
      "text/plain": [
       "-0.02144958473986508"
      ]
     },
     "execution_count": 46,
     "metadata": {},
     "output_type": "execute_result"
    }
   ],
   "source": [
    "Var_95=np.percentile(data_2018,5)\n",
    "Var_95"
   ]
  },
  {
   "cell_type": "code",
   "execution_count": 47,
   "metadata": {},
   "outputs": [],
   "source": [
    "#C). CVaR-95% for daily return."
   ]
  },
  {
   "cell_type": "code",
   "execution_count": 48,
   "metadata": {},
   "outputs": [
    {
     "data": {
      "text/plain": [
       "Date\n",
       "2018-02-02   -0.021770\n",
       "2018-02-05   -0.041822\n",
       "2018-02-08   -0.037509\n",
       "2018-03-22   -0.024997\n",
       "2018-04-02   -0.021585\n",
       "2018-04-06   -0.022286\n",
       "2018-10-10   -0.031663\n",
       "2018-10-11   -0.022027\n",
       "2018-10-24   -0.030299\n",
       "2018-12-04   -0.032402\n",
       "2018-12-07   -0.023236\n",
       "2018-12-21   -0.026176\n",
       "2018-12-24   -0.026423\n",
       "Name: Price.1, dtype: float64"
      ]
     },
     "execution_count": 48,
     "metadata": {},
     "output_type": "execute_result"
    }
   ],
   "source": [
    "Last_5=data_2018[(data_2018<Var_95)]\n",
    "Last_5"
   ]
  },
  {
   "cell_type": "code",
   "execution_count": 49,
   "metadata": {},
   "outputs": [
    {
     "data": {
      "text/plain": [
       "-0.02786116034896852"
      ]
     },
     "execution_count": 49,
     "metadata": {},
     "output_type": "execute_result"
    }
   ],
   "source": [
    "Last_5.mean()"
   ]
  },
  {
   "cell_type": "code",
   "execution_count": 50,
   "metadata": {},
   "outputs": [],
   "source": [
    "#4. Calculate drawdowns for the SPY price times series, plot the drawdown time series, and locate the maximum drawdown for the whole period"
   ]
  },
  {
   "cell_type": "code",
   "execution_count": 51,
   "metadata": {},
   "outputs": [],
   "source": [
    "Price_spy=df['Price.1']"
   ]
  },
  {
   "cell_type": "code",
   "execution_count": 52,
   "metadata": {},
   "outputs": [],
   "source": [
    "from pandas_datareader import data, wb"
   ]
  },
  {
   "cell_type": "code",
   "execution_count": 53,
   "metadata": {
    "scrolled": false
   },
   "outputs": [
    {
     "data": {
      "text/plain": [
       "<matplotlib.legend.Legend at 0x1a2275f898>"
      ]
     },
     "execution_count": 53,
     "metadata": {},
     "output_type": "execute_result"
    },
    {
     "data": {
      "image/png": "[encoded data removed]",
      "text/plain": [
       "<Figure size 1080x720 with 1 Axes>"
      ]
     },
     "metadata": {
      "needs_background": "light"
     },
     "output_type": "display_data"
    }
   ],
   "source": [
    "Roll_Max=Price_spy.cummax()\n",
    "Daily_Drawdown=(Price_spy/Roll_Max)-1\n",
    "plt.figure(figsize=(15,10))\n",
    "plt.grid(True)\n",
    "plt.plot(Daily_Drawdown,label='SPY Daily Drawdown')\n",
    "plt.legend(loc=2)"
   ]
  },
  {
   "cell_type": "code",
   "execution_count": 54,
   "metadata": {
    "scrolled": true
   },
   "outputs": [
    {
     "data": {
      "text/plain": [
       "0       0.000000\n",
       "1       0.000000\n",
       "2       0.000000\n",
       "3      -0.026547\n",
       "4      -0.028766\n",
       "          ...   \n",
       "5017   -0.564737\n",
       "5018   -0.564737\n",
       "5019   -0.564737\n",
       "5020   -0.564737\n",
       "5021   -0.564737\n",
       "Name: Price.1, Length: 5022, dtype: float64"
      ]
     },
     "execution_count": 54,
     "metadata": {},
     "output_type": "execute_result"
    }
   ],
   "source": [
    "Max_Daily_Drawdown=Daily_Drawdown.cummin()\n",
    "Max_Daily_Drawdown"
   ]
  },
  {
   "cell_type": "code",
   "execution_count": 55,
   "metadata": {},
   "outputs": [
    {
     "data": {
      "text/plain": [
       "2550   -0.564737\n",
       "2551   -0.564737\n",
       "2552   -0.564737\n",
       "2553   -0.564737\n",
       "2554   -0.564737\n",
       "          ...   \n",
       "5017   -0.564737\n",
       "5018   -0.564737\n",
       "5019   -0.564737\n",
       "5020   -0.564737\n",
       "5021   -0.564737\n",
       "Name: Price.1, Length: 2472, dtype: float64"
      ]
     },
     "execution_count": 55,
     "metadata": {},
     "output_type": "execute_result"
    }
   ],
   "source": [
    "Value=Max_Daily_Drawdown.min()\n",
    "Max_Daily_Drawdown[(Max_Daily_Drawdown==Value)]"
   ]
  },
  {
   "cell_type": "code",
   "execution_count": 56,
   "metadata": {},
   "outputs": [],
   "source": [
    "#The maximum drawdown appeared on 9th, March"
   ]
  },
  {
   "cell_type": "markdown",
   "metadata": {},
   "source": [
    "# Problem 3"
   ]
  },
  {
   "cell_type": "code",
   "execution_count": 58,
   "metadata": {
    "scrolled": true
   },
   "outputs": [
    {
     "data": {
      "text/html": [
       "<div>\n",
       "<style scoped>\n",
       "    .dataframe tbody tr th:only-of-type {\n",
       "        vertical-align: middle;\n",
       "    }\n",
       "\n",
       "    .dataframe tbody tr th {\n",
       "        vertical-align: top;\n",
       "    }\n",
       "\n",
       "    .dataframe thead th {\n",
       "        text-align: right;\n",
       "    }\n",
       "</style>\n",
       "<table border=\"1\" class=\"dataframe\">\n",
       "  <thead>\n",
       "    <tr style=\"text-align: right;\">\n",
       "      <th></th>\n",
       "      <th>Period Ending</th>\n",
       "      <th>Bloomberg Barclays - U.S. TIPS Index</th>\n",
       "      <th>Bloomberg Barclays - U.S. Aggregate Index</th>\n",
       "      <th>BofA Merrill Lynch - U.S. High Yield Index</th>\n",
       "      <th>FTSE - Non U.S. Govt Bond Index ($)</th>\n",
       "      <th>Russell - 1000 Growth Index</th>\n",
       "      <th>Russell - 1000 Value Index</th>\n",
       "      <th>Russell - 2000 Growth Index</th>\n",
       "      <th>Russell - 2000 Value Index</th>\n",
       "      <th>MSCI - EAFE Index ($Net)</th>\n",
       "      <th>MSCI - Emerging Markets Index ($ Net)</th>\n",
       "      <th>S&amp;P - GSCI Total Index</th>\n",
       "      <th>MSCI - U.S. REIT Index</th>\n",
       "    </tr>\n",
       "  </thead>\n",
       "  <tbody>\n",
       "    <tr>\n",
       "      <td>0</td>\n",
       "      <td>1999-01-31</td>\n",
       "      <td>1.16</td>\n",
       "      <td>0.71</td>\n",
       "      <td>1.35</td>\n",
       "      <td>-1.57</td>\n",
       "      <td>5.87</td>\n",
       "      <td>0.80</td>\n",
       "      <td>4.50</td>\n",
       "      <td>-2.27</td>\n",
       "      <td>-0.30</td>\n",
       "      <td>-1.51</td>\n",
       "      <td>0.44</td>\n",
       "      <td>-2.69</td>\n",
       "    </tr>\n",
       "    <tr>\n",
       "      <td>1</td>\n",
       "      <td>1999-02-28</td>\n",
       "      <td>-0.70</td>\n",
       "      <td>-1.75</td>\n",
       "      <td>-0.68</td>\n",
       "      <td>-3.51</td>\n",
       "      <td>-4.57</td>\n",
       "      <td>-1.41</td>\n",
       "      <td>-9.15</td>\n",
       "      <td>-6.83</td>\n",
       "      <td>-2.38</td>\n",
       "      <td>0.96</td>\n",
       "      <td>-4.60</td>\n",
       "      <td>-1.64</td>\n",
       "    </tr>\n",
       "    <tr>\n",
       "      <td>2</td>\n",
       "      <td>1999-03-31</td>\n",
       "      <td>-0.01</td>\n",
       "      <td>0.55</td>\n",
       "      <td>1.16</td>\n",
       "      <td>0.19</td>\n",
       "      <td>5.27</td>\n",
       "      <td>2.07</td>\n",
       "      <td>3.56</td>\n",
       "      <td>-0.82</td>\n",
       "      <td>4.17</td>\n",
       "      <td>13.21</td>\n",
       "      <td>16.88</td>\n",
       "      <td>-0.55</td>\n",
       "    </tr>\n",
       "    <tr>\n",
       "      <td>3</td>\n",
       "      <td>1999-04-30</td>\n",
       "      <td>0.66</td>\n",
       "      <td>0.32</td>\n",
       "      <td>1.83</td>\n",
       "      <td>-0.15</td>\n",
       "      <td>0.13</td>\n",
       "      <td>9.34</td>\n",
       "      <td>8.83</td>\n",
       "      <td>9.13</td>\n",
       "      <td>4.05</td>\n",
       "      <td>12.37</td>\n",
       "      <td>4.13</td>\n",
       "      <td>9.67</td>\n",
       "    </tr>\n",
       "    <tr>\n",
       "      <td>4</td>\n",
       "      <td>1999-05-31</td>\n",
       "      <td>0.69</td>\n",
       "      <td>-0.88</td>\n",
       "      <td>-0.92</td>\n",
       "      <td>-2.02</td>\n",
       "      <td>-3.07</td>\n",
       "      <td>-1.10</td>\n",
       "      <td>0.16</td>\n",
       "      <td>3.07</td>\n",
       "      <td>-5.15</td>\n",
       "      <td>-0.58</td>\n",
       "      <td>-5.46</td>\n",
       "      <td>2.12</td>\n",
       "    </tr>\n",
       "  </tbody>\n",
       "</table>\n",
       "</div>"
      ],
      "text/plain": [
       "  Period Ending  Bloomberg Barclays - U.S. TIPS Index  \\\n",
       "0    1999-01-31                                  1.16   \n",
       "1    1999-02-28                                 -0.70   \n",
       "2    1999-03-31                                 -0.01   \n",
       "3    1999-04-30                                  0.66   \n",
       "4    1999-05-31                                  0.69   \n",
       "\n",
       "   Bloomberg Barclays - U.S. Aggregate Index  \\\n",
       "0                                       0.71   \n",
       "1                                      -1.75   \n",
       "2                                       0.55   \n",
       "3                                       0.32   \n",
       "4                                      -0.88   \n",
       "\n",
       "   BofA Merrill Lynch - U.S. High Yield Index  \\\n",
       "0                                        1.35   \n",
       "1                                       -0.68   \n",
       "2                                        1.16   \n",
       "3                                        1.83   \n",
       "4                                       -0.92   \n",
       "\n",
       "   FTSE - Non U.S. Govt Bond Index ($)  Russell - 1000 Growth Index  \\\n",
       "0                                -1.57                         5.87   \n",
       "1                                -3.51                        -4.57   \n",
       "2                                 0.19                         5.27   \n",
       "3                                -0.15                         0.13   \n",
       "4                                -2.02                        -3.07   \n",
       "\n",
       "   Russell - 1000 Value Index  Russell - 2000 Growth Index  \\\n",
       "0                        0.80                         4.50   \n",
       "1                       -1.41                        -9.15   \n",
       "2                        2.07                         3.56   \n",
       "3                        9.34                         8.83   \n",
       "4                       -1.10                         0.16   \n",
       "\n",
       "   Russell - 2000 Value Index  MSCI - EAFE Index ($Net)  \\\n",
       "0                       -2.27                     -0.30   \n",
       "1                       -6.83                     -2.38   \n",
       "2                       -0.82                      4.17   \n",
       "3                        9.13                      4.05   \n",
       "4                        3.07                     -5.15   \n",
       "\n",
       "   MSCI - Emerging Markets Index ($ Net)  S&P - GSCI Total Index  \\\n",
       "0                                  -1.51                    0.44   \n",
       "1                                   0.96                   -4.60   \n",
       "2                                  13.21                   16.88   \n",
       "3                                  12.37                    4.13   \n",
       "4                                  -0.58                   -5.46   \n",
       "\n",
       "   MSCI - U.S. REIT Index  \n",
       "0                   -2.69  \n",
       "1                   -1.64  \n",
       "2                   -0.55  \n",
       "3                    9.67  \n",
       "4                    2.12  "
      ]
     },
     "execution_count": 58,
     "metadata": {},
     "output_type": "execute_result"
    }
   ],
   "source": [
    "df3 = pd.read_csv(\"~/Desktop/599HW1PR3.csv\",parse_dates=['Period Ending'])\n",
    "df3[:5]"
   ]
  },
  {
   "cell_type": "code",
   "execution_count": 59,
   "metadata": {},
   "outputs": [
    {
     "data": {
      "text/html": [
       "<div>\n",
       "<style scoped>\n",
       "    .dataframe tbody tr th:only-of-type {\n",
       "        vertical-align: middle;\n",
       "    }\n",
       "\n",
       "    .dataframe tbody tr th {\n",
       "        vertical-align: top;\n",
       "    }\n",
       "\n",
       "    .dataframe thead th {\n",
       "        text-align: right;\n",
       "    }\n",
       "</style>\n",
       "<table border=\"1\" class=\"dataframe\">\n",
       "  <thead>\n",
       "    <tr style=\"text-align: right;\">\n",
       "      <th></th>\n",
       "      <th>Bloomberg Barclays - U.S. TIPS Index</th>\n",
       "      <th>Bloomberg Barclays - U.S. Aggregate Index</th>\n",
       "      <th>BofA Merrill Lynch - U.S. High Yield Index</th>\n",
       "      <th>FTSE - Non U.S. Govt Bond Index ($)</th>\n",
       "      <th>Russell - 1000 Growth Index</th>\n",
       "      <th>Russell - 1000 Value Index</th>\n",
       "      <th>Russell - 2000 Growth Index</th>\n",
       "      <th>Russell - 2000 Value Index</th>\n",
       "      <th>MSCI - EAFE Index ($Net)</th>\n",
       "      <th>MSCI - Emerging Markets Index ($ Net)</th>\n",
       "      <th>S&amp;P - GSCI Total Index</th>\n",
       "      <th>MSCI - U.S. REIT Index</th>\n",
       "    </tr>\n",
       "  </thead>\n",
       "  <tbody>\n",
       "    <tr>\n",
       "      <td>0</td>\n",
       "      <td>1.16</td>\n",
       "      <td>0.71</td>\n",
       "      <td>1.35</td>\n",
       "      <td>-1.57</td>\n",
       "      <td>5.87</td>\n",
       "      <td>0.80</td>\n",
       "      <td>4.50</td>\n",
       "      <td>-2.27</td>\n",
       "      <td>-0.30</td>\n",
       "      <td>-1.51</td>\n",
       "      <td>0.44</td>\n",
       "      <td>-2.69</td>\n",
       "    </tr>\n",
       "    <tr>\n",
       "      <td>1</td>\n",
       "      <td>-0.70</td>\n",
       "      <td>-1.75</td>\n",
       "      <td>-0.68</td>\n",
       "      <td>-3.51</td>\n",
       "      <td>-4.57</td>\n",
       "      <td>-1.41</td>\n",
       "      <td>-9.15</td>\n",
       "      <td>-6.83</td>\n",
       "      <td>-2.38</td>\n",
       "      <td>0.96</td>\n",
       "      <td>-4.60</td>\n",
       "      <td>-1.64</td>\n",
       "    </tr>\n",
       "    <tr>\n",
       "      <td>2</td>\n",
       "      <td>-0.01</td>\n",
       "      <td>0.55</td>\n",
       "      <td>1.16</td>\n",
       "      <td>0.19</td>\n",
       "      <td>5.27</td>\n",
       "      <td>2.07</td>\n",
       "      <td>3.56</td>\n",
       "      <td>-0.82</td>\n",
       "      <td>4.17</td>\n",
       "      <td>13.21</td>\n",
       "      <td>16.88</td>\n",
       "      <td>-0.55</td>\n",
       "    </tr>\n",
       "    <tr>\n",
       "      <td>3</td>\n",
       "      <td>0.66</td>\n",
       "      <td>0.32</td>\n",
       "      <td>1.83</td>\n",
       "      <td>-0.15</td>\n",
       "      <td>0.13</td>\n",
       "      <td>9.34</td>\n",
       "      <td>8.83</td>\n",
       "      <td>9.13</td>\n",
       "      <td>4.05</td>\n",
       "      <td>12.37</td>\n",
       "      <td>4.13</td>\n",
       "      <td>9.67</td>\n",
       "    </tr>\n",
       "    <tr>\n",
       "      <td>4</td>\n",
       "      <td>0.69</td>\n",
       "      <td>-0.88</td>\n",
       "      <td>-0.92</td>\n",
       "      <td>-2.02</td>\n",
       "      <td>-3.07</td>\n",
       "      <td>-1.10</td>\n",
       "      <td>0.16</td>\n",
       "      <td>3.07</td>\n",
       "      <td>-5.15</td>\n",
       "      <td>-0.58</td>\n",
       "      <td>-5.46</td>\n",
       "      <td>2.12</td>\n",
       "    </tr>\n",
       "  </tbody>\n",
       "</table>\n",
       "</div>"
      ],
      "text/plain": [
       "   Bloomberg Barclays - U.S. TIPS Index  \\\n",
       "0                                  1.16   \n",
       "1                                 -0.70   \n",
       "2                                 -0.01   \n",
       "3                                  0.66   \n",
       "4                                  0.69   \n",
       "\n",
       "   Bloomberg Barclays - U.S. Aggregate Index  \\\n",
       "0                                       0.71   \n",
       "1                                      -1.75   \n",
       "2                                       0.55   \n",
       "3                                       0.32   \n",
       "4                                      -0.88   \n",
       "\n",
       "   BofA Merrill Lynch - U.S. High Yield Index  \\\n",
       "0                                        1.35   \n",
       "1                                       -0.68   \n",
       "2                                        1.16   \n",
       "3                                        1.83   \n",
       "4                                       -0.92   \n",
       "\n",
       "   FTSE - Non U.S. Govt Bond Index ($)  Russell - 1000 Growth Index  \\\n",
       "0                                -1.57                         5.87   \n",
       "1                                -3.51                        -4.57   \n",
       "2                                 0.19                         5.27   \n",
       "3                                -0.15                         0.13   \n",
       "4                                -2.02                        -3.07   \n",
       "\n",
       "   Russell - 1000 Value Index  Russell - 2000 Growth Index  \\\n",
       "0                        0.80                         4.50   \n",
       "1                       -1.41                        -9.15   \n",
       "2                        2.07                         3.56   \n",
       "3                        9.34                         8.83   \n",
       "4                       -1.10                         0.16   \n",
       "\n",
       "   Russell - 2000 Value Index  MSCI - EAFE Index ($Net)  \\\n",
       "0                       -2.27                     -0.30   \n",
       "1                       -6.83                     -2.38   \n",
       "2                       -0.82                      4.17   \n",
       "3                        9.13                      4.05   \n",
       "4                        3.07                     -5.15   \n",
       "\n",
       "   MSCI - Emerging Markets Index ($ Net)  S&P - GSCI Total Index  \\\n",
       "0                                  -1.51                    0.44   \n",
       "1                                   0.96                   -4.60   \n",
       "2                                  13.21                   16.88   \n",
       "3                                  12.37                    4.13   \n",
       "4                                  -0.58                   -5.46   \n",
       "\n",
       "   MSCI - U.S. REIT Index  \n",
       "0                   -2.69  \n",
       "1                   -1.64  \n",
       "2                   -0.55  \n",
       "3                    9.67  \n",
       "4                    2.12  "
      ]
     },
     "execution_count": 59,
     "metadata": {},
     "output_type": "execute_result"
    }
   ],
   "source": [
    "Date_col1 = df3.pop('Period Ending')\n",
    "df3[:5]"
   ]
  },
  {
   "cell_type": "code",
   "execution_count": 60,
   "metadata": {
    "scrolled": false
   },
   "outputs": [
    {
     "data": {
      "text/html": [
       "<div>\n",
       "<style scoped>\n",
       "    .dataframe tbody tr th:only-of-type {\n",
       "        vertical-align: middle;\n",
       "    }\n",
       "\n",
       "    .dataframe tbody tr th {\n",
       "        vertical-align: top;\n",
       "    }\n",
       "\n",
       "    .dataframe thead th {\n",
       "        text-align: right;\n",
       "    }\n",
       "</style>\n",
       "<table border=\"1\" class=\"dataframe\">\n",
       "  <thead>\n",
       "    <tr style=\"text-align: right;\">\n",
       "      <th></th>\n",
       "      <th>Bloomberg Barclays - U.S. TIPS Index</th>\n",
       "      <th>Bloomberg Barclays - U.S. Aggregate Index</th>\n",
       "      <th>BofA Merrill Lynch - U.S. High Yield Index</th>\n",
       "      <th>FTSE - Non U.S. Govt Bond Index ($)</th>\n",
       "      <th>Russell - 1000 Growth Index</th>\n",
       "      <th>Russell - 1000 Value Index</th>\n",
       "      <th>Russell - 2000 Growth Index</th>\n",
       "      <th>Russell - 2000 Value Index</th>\n",
       "      <th>MSCI - EAFE Index ($Net)</th>\n",
       "      <th>MSCI - Emerging Markets Index ($ Net)</th>\n",
       "      <th>S&amp;P - GSCI Total Index</th>\n",
       "      <th>MSCI - U.S. REIT Index</th>\n",
       "    </tr>\n",
       "    <tr>\n",
       "      <th>Period Ending</th>\n",
       "      <th></th>\n",
       "      <th></th>\n",
       "      <th></th>\n",
       "      <th></th>\n",
       "      <th></th>\n",
       "      <th></th>\n",
       "      <th></th>\n",
       "      <th></th>\n",
       "      <th></th>\n",
       "      <th></th>\n",
       "      <th></th>\n",
       "      <th></th>\n",
       "    </tr>\n",
       "  </thead>\n",
       "  <tbody>\n",
       "    <tr>\n",
       "      <td>1999-01-31</td>\n",
       "      <td>1.16</td>\n",
       "      <td>0.71</td>\n",
       "      <td>1.35</td>\n",
       "      <td>-1.57</td>\n",
       "      <td>5.87</td>\n",
       "      <td>0.80</td>\n",
       "      <td>4.50</td>\n",
       "      <td>-2.27</td>\n",
       "      <td>-0.30</td>\n",
       "      <td>-1.51</td>\n",
       "      <td>0.44</td>\n",
       "      <td>-2.69</td>\n",
       "    </tr>\n",
       "    <tr>\n",
       "      <td>1999-02-28</td>\n",
       "      <td>-0.70</td>\n",
       "      <td>-1.75</td>\n",
       "      <td>-0.68</td>\n",
       "      <td>-3.51</td>\n",
       "      <td>-4.57</td>\n",
       "      <td>-1.41</td>\n",
       "      <td>-9.15</td>\n",
       "      <td>-6.83</td>\n",
       "      <td>-2.38</td>\n",
       "      <td>0.96</td>\n",
       "      <td>-4.60</td>\n",
       "      <td>-1.64</td>\n",
       "    </tr>\n",
       "    <tr>\n",
       "      <td>1999-03-31</td>\n",
       "      <td>-0.01</td>\n",
       "      <td>0.55</td>\n",
       "      <td>1.16</td>\n",
       "      <td>0.19</td>\n",
       "      <td>5.27</td>\n",
       "      <td>2.07</td>\n",
       "      <td>3.56</td>\n",
       "      <td>-0.82</td>\n",
       "      <td>4.17</td>\n",
       "      <td>13.21</td>\n",
       "      <td>16.88</td>\n",
       "      <td>-0.55</td>\n",
       "    </tr>\n",
       "    <tr>\n",
       "      <td>1999-04-30</td>\n",
       "      <td>0.66</td>\n",
       "      <td>0.32</td>\n",
       "      <td>1.83</td>\n",
       "      <td>-0.15</td>\n",
       "      <td>0.13</td>\n",
       "      <td>9.34</td>\n",
       "      <td>8.83</td>\n",
       "      <td>9.13</td>\n",
       "      <td>4.05</td>\n",
       "      <td>12.37</td>\n",
       "      <td>4.13</td>\n",
       "      <td>9.67</td>\n",
       "    </tr>\n",
       "    <tr>\n",
       "      <td>1999-05-31</td>\n",
       "      <td>0.69</td>\n",
       "      <td>-0.88</td>\n",
       "      <td>-0.92</td>\n",
       "      <td>-2.02</td>\n",
       "      <td>-3.07</td>\n",
       "      <td>-1.10</td>\n",
       "      <td>0.16</td>\n",
       "      <td>3.07</td>\n",
       "      <td>-5.15</td>\n",
       "      <td>-0.58</td>\n",
       "      <td>-5.46</td>\n",
       "      <td>2.12</td>\n",
       "    </tr>\n",
       "  </tbody>\n",
       "</table>\n",
       "</div>"
      ],
      "text/plain": [
       "               Bloomberg Barclays - U.S. TIPS Index  \\\n",
       "Period Ending                                         \n",
       "1999-01-31                                     1.16   \n",
       "1999-02-28                                    -0.70   \n",
       "1999-03-31                                    -0.01   \n",
       "1999-04-30                                     0.66   \n",
       "1999-05-31                                     0.69   \n",
       "\n",
       "               Bloomberg Barclays - U.S. Aggregate Index  \\\n",
       "Period Ending                                              \n",
       "1999-01-31                                          0.71   \n",
       "1999-02-28                                         -1.75   \n",
       "1999-03-31                                          0.55   \n",
       "1999-04-30                                          0.32   \n",
       "1999-05-31                                         -0.88   \n",
       "\n",
       "               BofA Merrill Lynch - U.S. High Yield Index  \\\n",
       "Period Ending                                               \n",
       "1999-01-31                                           1.35   \n",
       "1999-02-28                                          -0.68   \n",
       "1999-03-31                                           1.16   \n",
       "1999-04-30                                           1.83   \n",
       "1999-05-31                                          -0.92   \n",
       "\n",
       "               FTSE - Non U.S. Govt Bond Index ($)  \\\n",
       "Period Ending                                        \n",
       "1999-01-31                                   -1.57   \n",
       "1999-02-28                                   -3.51   \n",
       "1999-03-31                                    0.19   \n",
       "1999-04-30                                   -0.15   \n",
       "1999-05-31                                   -2.02   \n",
       "\n",
       "               Russell - 1000 Growth Index  Russell - 1000 Value Index  \\\n",
       "Period Ending                                                            \n",
       "1999-01-31                            5.87                        0.80   \n",
       "1999-02-28                           -4.57                       -1.41   \n",
       "1999-03-31                            5.27                        2.07   \n",
       "1999-04-30                            0.13                        9.34   \n",
       "1999-05-31                           -3.07                       -1.10   \n",
       "\n",
       "               Russell - 2000 Growth Index  Russell - 2000 Value Index  \\\n",
       "Period Ending                                                            \n",
       "1999-01-31                            4.50                       -2.27   \n",
       "1999-02-28                           -9.15                       -6.83   \n",
       "1999-03-31                            3.56                       -0.82   \n",
       "1999-04-30                            8.83                        9.13   \n",
       "1999-05-31                            0.16                        3.07   \n",
       "\n",
       "               MSCI - EAFE Index ($Net)  \\\n",
       "Period Ending                             \n",
       "1999-01-31                        -0.30   \n",
       "1999-02-28                        -2.38   \n",
       "1999-03-31                         4.17   \n",
       "1999-04-30                         4.05   \n",
       "1999-05-31                        -5.15   \n",
       "\n",
       "               MSCI - Emerging Markets Index ($ Net)  S&P - GSCI Total Index  \\\n",
       "Period Ending                                                                  \n",
       "1999-01-31                                     -1.51                    0.44   \n",
       "1999-02-28                                      0.96                   -4.60   \n",
       "1999-03-31                                     13.21                   16.88   \n",
       "1999-04-30                                     12.37                    4.13   \n",
       "1999-05-31                                     -0.58                   -5.46   \n",
       "\n",
       "               MSCI - U.S. REIT Index  \n",
       "Period Ending                          \n",
       "1999-01-31                      -2.69  \n",
       "1999-02-28                      -1.64  \n",
       "1999-03-31                      -0.55  \n",
       "1999-04-30                       9.67  \n",
       "1999-05-31                       2.12  "
      ]
     },
     "execution_count": 60,
     "metadata": {},
     "output_type": "execute_result"
    }
   ],
   "source": [
    "data1=df3.copy()\n",
    "data1.index=Date_col1\n",
    "data1[:5]"
   ]
  },
  {
   "cell_type": "code",
   "execution_count": 61,
   "metadata": {},
   "outputs": [
    {
     "data": {
      "text/plain": [
       "Index(['Bloomberg Barclays - U.S. TIPS Index',\n",
       "       'Bloomberg Barclays - U.S. Aggregate Index',\n",
       "       'BofA Merrill Lynch - U.S. High Yield Index',\n",
       "       'FTSE - Non U.S. Govt Bond Index ($)', 'Russell - 1000 Growth Index',\n",
       "       'Russell - 1000 Value Index', 'Russell - 2000 Growth Index',\n",
       "       'Russell - 2000 Value Index', 'MSCI - EAFE Index ($Net)',\n",
       "       'MSCI - Emerging Markets Index ($ Net)', 'S&P - GSCI Total Index',\n",
       "       'MSCI - U.S. REIT Index'],\n",
       "      dtype='object')"
      ]
     },
     "execution_count": 61,
     "metadata": {},
     "output_type": "execute_result"
    }
   ],
   "source": [
    "data1.columns"
   ]
  },
  {
   "cell_type": "code",
   "execution_count": 62,
   "metadata": {},
   "outputs": [],
   "source": [
    "selected=['Bloomberg Barclays - U.S. TIPS Index',\n",
    "       'Bloomberg Barclays - U.S. Aggregate Index',\n",
    "       'BofA Merrill Lynch - U.S. High Yield Index',\n",
    "       'FTSE - Non U.S. Govt Bond Index ($)', 'Russell - 1000 Growth Index',\n",
    "       'Russell - 1000 Value Index', 'Russell - 2000 Growth Index',\n",
    "       'Russell - 2000 Value Index', 'MSCI - EAFE Index ($Net)',\n",
    "       'MSCI - Emerging Markets Index ($ Net)', 'S&P - GSCI Total Index',\n",
    "       'MSCI - U.S. REIT Index']"
   ]
  },
  {
   "cell_type": "code",
   "execution_count": 63,
   "metadata": {},
   "outputs": [
    {
     "data": {
      "text/html": [
       "<div>\n",
       "<style scoped>\n",
       "    .dataframe tbody tr th:only-of-type {\n",
       "        vertical-align: middle;\n",
       "    }\n",
       "\n",
       "    .dataframe tbody tr th {\n",
       "        vertical-align: top;\n",
       "    }\n",
       "\n",
       "    .dataframe thead th {\n",
       "        text-align: right;\n",
       "    }\n",
       "</style>\n",
       "<table border=\"1\" class=\"dataframe\">\n",
       "  <thead>\n",
       "    <tr style=\"text-align: right;\">\n",
       "      <th></th>\n",
       "      <th>Bloomberg Barclays - U.S. TIPS Index</th>\n",
       "      <th>Bloomberg Barclays - U.S. Aggregate Index</th>\n",
       "      <th>BofA Merrill Lynch - U.S. High Yield Index</th>\n",
       "      <th>FTSE - Non U.S. Govt Bond Index ($)</th>\n",
       "      <th>Russell - 1000 Growth Index</th>\n",
       "      <th>Russell - 1000 Value Index</th>\n",
       "      <th>Russell - 2000 Growth Index</th>\n",
       "      <th>Russell - 2000 Value Index</th>\n",
       "      <th>MSCI - EAFE Index ($Net)</th>\n",
       "      <th>MSCI - Emerging Markets Index ($ Net)</th>\n",
       "      <th>S&amp;P - GSCI Total Index</th>\n",
       "      <th>MSCI - U.S. REIT Index</th>\n",
       "    </tr>\n",
       "    <tr>\n",
       "      <th>Period Ending</th>\n",
       "      <th></th>\n",
       "      <th></th>\n",
       "      <th></th>\n",
       "      <th></th>\n",
       "      <th></th>\n",
       "      <th></th>\n",
       "      <th></th>\n",
       "      <th></th>\n",
       "      <th></th>\n",
       "      <th></th>\n",
       "      <th></th>\n",
       "      <th></th>\n",
       "    </tr>\n",
       "  </thead>\n",
       "  <tbody>\n",
       "    <tr>\n",
       "      <td>1999-01-31</td>\n",
       "      <td>1.011600</td>\n",
       "      <td>1.007100</td>\n",
       "      <td>1.013500</td>\n",
       "      <td>0.984300</td>\n",
       "      <td>1.058700</td>\n",
       "      <td>1.008000</td>\n",
       "      <td>1.045000</td>\n",
       "      <td>0.977300</td>\n",
       "      <td>0.997000</td>\n",
       "      <td>0.984900</td>\n",
       "      <td>1.004400</td>\n",
       "      <td>0.973100</td>\n",
       "    </tr>\n",
       "    <tr>\n",
       "      <td>1999-02-28</td>\n",
       "      <td>1.004519</td>\n",
       "      <td>0.989476</td>\n",
       "      <td>1.006608</td>\n",
       "      <td>0.949751</td>\n",
       "      <td>1.010317</td>\n",
       "      <td>0.993787</td>\n",
       "      <td>0.949382</td>\n",
       "      <td>0.910550</td>\n",
       "      <td>0.973271</td>\n",
       "      <td>0.994355</td>\n",
       "      <td>0.958198</td>\n",
       "      <td>0.957141</td>\n",
       "    </tr>\n",
       "    <tr>\n",
       "      <td>1999-03-31</td>\n",
       "      <td>1.004418</td>\n",
       "      <td>0.994918</td>\n",
       "      <td>1.018285</td>\n",
       "      <td>0.951556</td>\n",
       "      <td>1.063561</td>\n",
       "      <td>1.014359</td>\n",
       "      <td>0.983181</td>\n",
       "      <td>0.903084</td>\n",
       "      <td>1.013857</td>\n",
       "      <td>1.125709</td>\n",
       "      <td>1.119941</td>\n",
       "      <td>0.951877</td>\n",
       "    </tr>\n",
       "    <tr>\n",
       "      <td>1999-04-30</td>\n",
       "      <td>1.011048</td>\n",
       "      <td>0.998102</td>\n",
       "      <td>1.036919</td>\n",
       "      <td>0.950128</td>\n",
       "      <td>1.064944</td>\n",
       "      <td>1.109100</td>\n",
       "      <td>1.069995</td>\n",
       "      <td>0.985535</td>\n",
       "      <td>1.054918</td>\n",
       "      <td>1.264960</td>\n",
       "      <td>1.166195</td>\n",
       "      <td>1.043923</td>\n",
       "    </tr>\n",
       "    <tr>\n",
       "      <td>1999-05-31</td>\n",
       "      <td>1.018024</td>\n",
       "      <td>0.989318</td>\n",
       "      <td>1.027380</td>\n",
       "      <td>0.930936</td>\n",
       "      <td>1.032250</td>\n",
       "      <td>1.096900</td>\n",
       "      <td>1.071707</td>\n",
       "      <td>1.015791</td>\n",
       "      <td>1.000590</td>\n",
       "      <td>1.257623</td>\n",
       "      <td>1.102521</td>\n",
       "      <td>1.066055</td>\n",
       "    </tr>\n",
       "    <tr>\n",
       "      <td>...</td>\n",
       "      <td>...</td>\n",
       "      <td>...</td>\n",
       "      <td>...</td>\n",
       "      <td>...</td>\n",
       "      <td>...</td>\n",
       "      <td>...</td>\n",
       "      <td>...</td>\n",
       "      <td>...</td>\n",
       "      <td>...</td>\n",
       "      <td>...</td>\n",
       "      <td>...</td>\n",
       "      <td>...</td>\n",
       "    </tr>\n",
       "    <tr>\n",
       "      <td>2018-08-31</td>\n",
       "      <td>2.799440</td>\n",
       "      <td>2.412392</td>\n",
       "      <td>3.541150</td>\n",
       "      <td>1.949224</td>\n",
       "      <td>3.170921</td>\n",
       "      <td>3.731303</td>\n",
       "      <td>4.303526</td>\n",
       "      <td>6.129435</td>\n",
       "      <td>2.264884</td>\n",
       "      <td>5.572156</td>\n",
       "      <td>1.399275</td>\n",
       "      <td>6.948998</td>\n",
       "    </tr>\n",
       "    <tr>\n",
       "      <td>2018-09-30</td>\n",
       "      <td>2.770046</td>\n",
       "      <td>2.396952</td>\n",
       "      <td>3.560627</td>\n",
       "      <td>1.928367</td>\n",
       "      <td>3.188679</td>\n",
       "      <td>3.738765</td>\n",
       "      <td>4.202824</td>\n",
       "      <td>5.977425</td>\n",
       "      <td>2.284588</td>\n",
       "      <td>5.542623</td>\n",
       "      <td>1.454267</td>\n",
       "      <td>6.768324</td>\n",
       "    </tr>\n",
       "    <tr>\n",
       "      <td>2018-10-31</td>\n",
       "      <td>2.730435</td>\n",
       "      <td>2.378016</td>\n",
       "      <td>3.503657</td>\n",
       "      <td>1.900406</td>\n",
       "      <td>2.903611</td>\n",
       "      <td>3.545097</td>\n",
       "      <td>3.671167</td>\n",
       "      <td>5.442445</td>\n",
       "      <td>2.102735</td>\n",
       "      <td>5.059861</td>\n",
       "      <td>1.369337</td>\n",
       "      <td>6.568658</td>\n",
       "    </tr>\n",
       "    <tr>\n",
       "      <td>2018-11-30</td>\n",
       "      <td>2.743541</td>\n",
       "      <td>2.392284</td>\n",
       "      <td>3.471773</td>\n",
       "      <td>1.905157</td>\n",
       "      <td>2.934389</td>\n",
       "      <td>3.651096</td>\n",
       "      <td>3.728437</td>\n",
       "      <td>5.530069</td>\n",
       "      <td>2.100002</td>\n",
       "      <td>5.268327</td>\n",
       "      <td>1.214876</td>\n",
       "      <td>6.876728</td>\n",
       "    </tr>\n",
       "    <tr>\n",
       "      <td>2018-12-31</td>\n",
       "      <td>2.758630</td>\n",
       "      <td>2.436303</td>\n",
       "      <td>3.395742</td>\n",
       "      <td>1.953548</td>\n",
       "      <td>2.682031</td>\n",
       "      <td>3.300591</td>\n",
       "      <td>3.292955</td>\n",
       "      <td>4.861483</td>\n",
       "      <td>1.998152</td>\n",
       "      <td>5.128190</td>\n",
       "      <td>1.120723</td>\n",
       "      <td>6.314212</td>\n",
       "    </tr>\n",
       "  </tbody>\n",
       "</table>\n",
       "<p>240 rows × 12 columns</p>\n",
       "</div>"
      ],
      "text/plain": [
       "               Bloomberg Barclays - U.S. TIPS Index  \\\n",
       "Period Ending                                         \n",
       "1999-01-31                                 1.011600   \n",
       "1999-02-28                                 1.004519   \n",
       "1999-03-31                                 1.004418   \n",
       "1999-04-30                                 1.011048   \n",
       "1999-05-31                                 1.018024   \n",
       "...                                             ...   \n",
       "2018-08-31                                 2.799440   \n",
       "2018-09-30                                 2.770046   \n",
       "2018-10-31                                 2.730435   \n",
       "2018-11-30                                 2.743541   \n",
       "2018-12-31                                 2.758630   \n",
       "\n",
       "               Bloomberg Barclays - U.S. Aggregate Index  \\\n",
       "Period Ending                                              \n",
       "1999-01-31                                      1.007100   \n",
       "1999-02-28                                      0.989476   \n",
       "1999-03-31                                      0.994918   \n",
       "1999-04-30                                      0.998102   \n",
       "1999-05-31                                      0.989318   \n",
       "...                                                  ...   \n",
       "2018-08-31                                      2.412392   \n",
       "2018-09-30                                      2.396952   \n",
       "2018-10-31                                      2.378016   \n",
       "2018-11-30                                      2.392284   \n",
       "2018-12-31                                      2.436303   \n",
       "\n",
       "               BofA Merrill Lynch - U.S. High Yield Index  \\\n",
       "Period Ending                                               \n",
       "1999-01-31                                       1.013500   \n",
       "1999-02-28                                       1.006608   \n",
       "1999-03-31                                       1.018285   \n",
       "1999-04-30                                       1.036919   \n",
       "1999-05-31                                       1.027380   \n",
       "...                                                   ...   \n",
       "2018-08-31                                       3.541150   \n",
       "2018-09-30                                       3.560627   \n",
       "2018-10-31                                       3.503657   \n",
       "2018-11-30                                       3.471773   \n",
       "2018-12-31                                       3.395742   \n",
       "\n",
       "               FTSE - Non U.S. Govt Bond Index ($)  \\\n",
       "Period Ending                                        \n",
       "1999-01-31                                0.984300   \n",
       "1999-02-28                                0.949751   \n",
       "1999-03-31                                0.951556   \n",
       "1999-04-30                                0.950128   \n",
       "1999-05-31                                0.930936   \n",
       "...                                            ...   \n",
       "2018-08-31                                1.949224   \n",
       "2018-09-30                                1.928367   \n",
       "2018-10-31                                1.900406   \n",
       "2018-11-30                                1.905157   \n",
       "2018-12-31                                1.953548   \n",
       "\n",
       "               Russell - 1000 Growth Index  Russell - 1000 Value Index  \\\n",
       "Period Ending                                                            \n",
       "1999-01-31                        1.058700                    1.008000   \n",
       "1999-02-28                        1.010317                    0.993787   \n",
       "1999-03-31                        1.063561                    1.014359   \n",
       "1999-04-30                        1.064944                    1.109100   \n",
       "1999-05-31                        1.032250                    1.096900   \n",
       "...                                    ...                         ...   \n",
       "2018-08-31                        3.170921                    3.731303   \n",
       "2018-09-30                        3.188679                    3.738765   \n",
       "2018-10-31                        2.903611                    3.545097   \n",
       "2018-11-30                        2.934389                    3.651096   \n",
       "2018-12-31                        2.682031                    3.300591   \n",
       "\n",
       "               Russell - 2000 Growth Index  Russell - 2000 Value Index  \\\n",
       "Period Ending                                                            \n",
       "1999-01-31                        1.045000                    0.977300   \n",
       "1999-02-28                        0.949382                    0.910550   \n",
       "1999-03-31                        0.983181                    0.903084   \n",
       "1999-04-30                        1.069995                    0.985535   \n",
       "1999-05-31                        1.071707                    1.015791   \n",
       "...                                    ...                         ...   \n",
       "2018-08-31                        4.303526                    6.129435   \n",
       "2018-09-30                        4.202824                    5.977425   \n",
       "2018-10-31                        3.671167                    5.442445   \n",
       "2018-11-30                        3.728437                    5.530069   \n",
       "2018-12-31                        3.292955                    4.861483   \n",
       "\n",
       "               MSCI - EAFE Index ($Net)  \\\n",
       "Period Ending                             \n",
       "1999-01-31                     0.997000   \n",
       "1999-02-28                     0.973271   \n",
       "1999-03-31                     1.013857   \n",
       "1999-04-30                     1.054918   \n",
       "1999-05-31                     1.000590   \n",
       "...                                 ...   \n",
       "2018-08-31                     2.264884   \n",
       "2018-09-30                     2.284588   \n",
       "2018-10-31                     2.102735   \n",
       "2018-11-30                     2.100002   \n",
       "2018-12-31                     1.998152   \n",
       "\n",
       "               MSCI - Emerging Markets Index ($ Net)  S&P - GSCI Total Index  \\\n",
       "Period Ending                                                                  \n",
       "1999-01-31                                  0.984900                1.004400   \n",
       "1999-02-28                                  0.994355                0.958198   \n",
       "1999-03-31                                  1.125709                1.119941   \n",
       "1999-04-30                                  1.264960                1.166195   \n",
       "1999-05-31                                  1.257623                1.102521   \n",
       "...                                              ...                     ...   \n",
       "2018-08-31                                  5.572156                1.399275   \n",
       "2018-09-30                                  5.542623                1.454267   \n",
       "2018-10-31                                  5.059861                1.369337   \n",
       "2018-11-30                                  5.268327                1.214876   \n",
       "2018-12-31                                  5.128190                1.120723   \n",
       "\n",
       "               MSCI - U.S. REIT Index  \n",
       "Period Ending                          \n",
       "1999-01-31                   0.973100  \n",
       "1999-02-28                   0.957141  \n",
       "1999-03-31                   0.951877  \n",
       "1999-04-30                   1.043923  \n",
       "1999-05-31                   1.066055  \n",
       "...                               ...  \n",
       "2018-08-31                   6.948998  \n",
       "2018-09-30                   6.768324  \n",
       "2018-10-31                   6.568658  \n",
       "2018-11-30                   6.876728  \n",
       "2018-12-31                   6.314212  \n",
       "\n",
       "[240 rows x 12 columns]"
      ]
     },
     "execution_count": 63,
     "metadata": {},
     "output_type": "execute_result"
    }
   ],
   "source": [
    "cum_returns=1+(data1/100)\n",
    "Cum_Returns_P3=cum_returns.cumprod()\n",
    "Cum_Returns_P3"
   ]
  },
  {
   "cell_type": "code",
   "execution_count": 64,
   "metadata": {},
   "outputs": [
    {
     "data": {
      "text/html": [
       "<div>\n",
       "<style scoped>\n",
       "    .dataframe tbody tr th:only-of-type {\n",
       "        vertical-align: middle;\n",
       "    }\n",
       "\n",
       "    .dataframe tbody tr th {\n",
       "        vertical-align: top;\n",
       "    }\n",
       "\n",
       "    .dataframe thead th {\n",
       "        text-align: right;\n",
       "    }\n",
       "</style>\n",
       "<table border=\"1\" class=\"dataframe\">\n",
       "  <thead>\n",
       "    <tr style=\"text-align: right;\">\n",
       "      <th></th>\n",
       "      <th>Bloomberg Barclays - U.S. TIPS Index</th>\n",
       "      <th>Bloomberg Barclays - U.S. Aggregate Index</th>\n",
       "      <th>BofA Merrill Lynch - U.S. High Yield Index</th>\n",
       "      <th>FTSE - Non U.S. Govt Bond Index ($)</th>\n",
       "      <th>Russell - 1000 Growth Index</th>\n",
       "      <th>Russell - 1000 Value Index</th>\n",
       "      <th>Russell - 2000 Growth Index</th>\n",
       "      <th>Russell - 2000 Value Index</th>\n",
       "      <th>MSCI - EAFE Index ($Net)</th>\n",
       "      <th>MSCI - Emerging Markets Index ($ Net)</th>\n",
       "      <th>S&amp;P - GSCI Total Index</th>\n",
       "      <th>MSCI - U.S. REIT Index</th>\n",
       "    </tr>\n",
       "    <tr>\n",
       "      <th>Period Ending</th>\n",
       "      <th></th>\n",
       "      <th></th>\n",
       "      <th></th>\n",
       "      <th></th>\n",
       "      <th></th>\n",
       "      <th></th>\n",
       "      <th></th>\n",
       "      <th></th>\n",
       "      <th></th>\n",
       "      <th></th>\n",
       "      <th></th>\n",
       "      <th></th>\n",
       "    </tr>\n",
       "  </thead>\n",
       "  <tbody>\n",
       "    <tr>\n",
       "      <td>2018-12-31</td>\n",
       "      <td>2.75863</td>\n",
       "      <td>2.436303</td>\n",
       "      <td>3.395742</td>\n",
       "      <td>1.953548</td>\n",
       "      <td>2.682031</td>\n",
       "      <td>3.300591</td>\n",
       "      <td>3.292955</td>\n",
       "      <td>4.861483</td>\n",
       "      <td>1.998152</td>\n",
       "      <td>5.12819</td>\n",
       "      <td>1.120723</td>\n",
       "      <td>6.314212</td>\n",
       "    </tr>\n",
       "  </tbody>\n",
       "</table>\n",
       "</div>"
      ],
      "text/plain": [
       "               Bloomberg Barclays - U.S. TIPS Index  \\\n",
       "Period Ending                                         \n",
       "2018-12-31                                  2.75863   \n",
       "\n",
       "               Bloomberg Barclays - U.S. Aggregate Index  \\\n",
       "Period Ending                                              \n",
       "2018-12-31                                      2.436303   \n",
       "\n",
       "               BofA Merrill Lynch - U.S. High Yield Index  \\\n",
       "Period Ending                                               \n",
       "2018-12-31                                       3.395742   \n",
       "\n",
       "               FTSE - Non U.S. Govt Bond Index ($)  \\\n",
       "Period Ending                                        \n",
       "2018-12-31                                1.953548   \n",
       "\n",
       "               Russell - 1000 Growth Index  Russell - 1000 Value Index  \\\n",
       "Period Ending                                                            \n",
       "2018-12-31                        2.682031                    3.300591   \n",
       "\n",
       "               Russell - 2000 Growth Index  Russell - 2000 Value Index  \\\n",
       "Period Ending                                                            \n",
       "2018-12-31                        3.292955                    4.861483   \n",
       "\n",
       "               MSCI - EAFE Index ($Net)  \\\n",
       "Period Ending                             \n",
       "2018-12-31                     1.998152   \n",
       "\n",
       "               MSCI - Emerging Markets Index ($ Net)  S&P - GSCI Total Index  \\\n",
       "Period Ending                                                                  \n",
       "2018-12-31                                   5.12819                1.120723   \n",
       "\n",
       "               MSCI - U.S. REIT Index  \n",
       "Period Ending                          \n",
       "2018-12-31                   6.314212  "
      ]
     },
     "execution_count": 64,
     "metadata": {},
     "output_type": "execute_result"
    }
   ],
   "source": [
    "twenty_year_return=Cum_Returns_P3.iloc[-1:,]\n",
    "twenty_year_return"
   ]
  },
  {
   "cell_type": "code",
   "execution_count": 65,
   "metadata": {},
   "outputs": [
    {
     "data": {
      "text/html": [
       "<div>\n",
       "<style scoped>\n",
       "    .dataframe tbody tr th:only-of-type {\n",
       "        vertical-align: middle;\n",
       "    }\n",
       "\n",
       "    .dataframe tbody tr th {\n",
       "        vertical-align: top;\n",
       "    }\n",
       "\n",
       "    .dataframe thead th {\n",
       "        text-align: right;\n",
       "    }\n",
       "</style>\n",
       "<table border=\"1\" class=\"dataframe\">\n",
       "  <thead>\n",
       "    <tr style=\"text-align: right;\">\n",
       "      <th></th>\n",
       "      <th>Bloomberg Barclays - U.S. TIPS Index</th>\n",
       "      <th>Bloomberg Barclays - U.S. Aggregate Index</th>\n",
       "      <th>BofA Merrill Lynch - U.S. High Yield Index</th>\n",
       "      <th>FTSE - Non U.S. Govt Bond Index ($)</th>\n",
       "      <th>Russell - 1000 Growth Index</th>\n",
       "      <th>Russell - 1000 Value Index</th>\n",
       "      <th>Russell - 2000 Growth Index</th>\n",
       "      <th>Russell - 2000 Value Index</th>\n",
       "      <th>MSCI - EAFE Index ($Net)</th>\n",
       "      <th>MSCI - Emerging Markets Index ($ Net)</th>\n",
       "      <th>S&amp;P - GSCI Total Index</th>\n",
       "      <th>MSCI - U.S. REIT Index</th>\n",
       "    </tr>\n",
       "    <tr>\n",
       "      <th>Period Ending</th>\n",
       "      <th></th>\n",
       "      <th></th>\n",
       "      <th></th>\n",
       "      <th></th>\n",
       "      <th></th>\n",
       "      <th></th>\n",
       "      <th></th>\n",
       "      <th></th>\n",
       "      <th></th>\n",
       "      <th></th>\n",
       "      <th></th>\n",
       "      <th></th>\n",
       "    </tr>\n",
       "  </thead>\n",
       "  <tbody>\n",
       "    <tr>\n",
       "      <td>2018-12-31</td>\n",
       "      <td>0.052046</td>\n",
       "      <td>0.04553</td>\n",
       "      <td>0.063033</td>\n",
       "      <td>0.034049</td>\n",
       "      <td>0.050566</td>\n",
       "      <td>0.061523</td>\n",
       "      <td>0.061401</td>\n",
       "      <td>0.082277</td>\n",
       "      <td>0.035217</td>\n",
       "      <td>0.085171</td>\n",
       "      <td>0.005715</td>\n",
       "      <td>0.096518</td>\n",
       "    </tr>\n",
       "  </tbody>\n",
       "</table>\n",
       "</div>"
      ],
      "text/plain": [
       "               Bloomberg Barclays - U.S. TIPS Index  \\\n",
       "Period Ending                                         \n",
       "2018-12-31                                 0.052046   \n",
       "\n",
       "               Bloomberg Barclays - U.S. Aggregate Index  \\\n",
       "Period Ending                                              \n",
       "2018-12-31                                       0.04553   \n",
       "\n",
       "               BofA Merrill Lynch - U.S. High Yield Index  \\\n",
       "Period Ending                                               \n",
       "2018-12-31                                       0.063033   \n",
       "\n",
       "               FTSE - Non U.S. Govt Bond Index ($)  \\\n",
       "Period Ending                                        \n",
       "2018-12-31                                0.034049   \n",
       "\n",
       "               Russell - 1000 Growth Index  Russell - 1000 Value Index  \\\n",
       "Period Ending                                                            \n",
       "2018-12-31                        0.050566                    0.061523   \n",
       "\n",
       "               Russell - 2000 Growth Index  Russell - 2000 Value Index  \\\n",
       "Period Ending                                                            \n",
       "2018-12-31                        0.061401                    0.082277   \n",
       "\n",
       "               MSCI - EAFE Index ($Net)  \\\n",
       "Period Ending                             \n",
       "2018-12-31                     0.035217   \n",
       "\n",
       "               MSCI - Emerging Markets Index ($ Net)  S&P - GSCI Total Index  \\\n",
       "Period Ending                                                                  \n",
       "2018-12-31                                  0.085171                0.005715   \n",
       "\n",
       "               MSCI - U.S. REIT Index  \n",
       "Period Ending                          \n",
       "2018-12-31                   0.096518  "
      ]
     },
     "execution_count": 65,
     "metadata": {},
     "output_type": "execute_result"
    }
   ],
   "source": [
    "Anul_return3=pow(twenty_year_return,1/20)-1\n",
    "Anul_return3"
   ]
  },
  {
   "cell_type": "code",
   "execution_count": 66,
   "metadata": {},
   "outputs": [
    {
     "data": {
      "text/html": [
       "<div>\n",
       "<style scoped>\n",
       "    .dataframe tbody tr th:only-of-type {\n",
       "        vertical-align: middle;\n",
       "    }\n",
       "\n",
       "    .dataframe tbody tr th {\n",
       "        vertical-align: top;\n",
       "    }\n",
       "\n",
       "    .dataframe thead th {\n",
       "        text-align: right;\n",
       "    }\n",
       "</style>\n",
       "<table border=\"1\" class=\"dataframe\">\n",
       "  <thead>\n",
       "    <tr style=\"text-align: right;\">\n",
       "      <th></th>\n",
       "      <th>Bloomberg Barclays - U.S. TIPS Index</th>\n",
       "      <th>Bloomberg Barclays - U.S. Aggregate Index</th>\n",
       "      <th>BofA Merrill Lynch - U.S. High Yield Index</th>\n",
       "      <th>FTSE - Non U.S. Govt Bond Index ($)</th>\n",
       "      <th>Russell - 1000 Growth Index</th>\n",
       "      <th>Russell - 1000 Value Index</th>\n",
       "      <th>Russell - 2000 Growth Index</th>\n",
       "      <th>Russell - 2000 Value Index</th>\n",
       "      <th>MSCI - EAFE Index ($Net)</th>\n",
       "      <th>MSCI - Emerging Markets Index ($ Net)</th>\n",
       "      <th>S&amp;P - GSCI Total Index</th>\n",
       "      <th>MSCI - U.S. REIT Index</th>\n",
       "    </tr>\n",
       "    <tr>\n",
       "      <th>Period Ending</th>\n",
       "      <th></th>\n",
       "      <th></th>\n",
       "      <th></th>\n",
       "      <th></th>\n",
       "      <th></th>\n",
       "      <th></th>\n",
       "      <th></th>\n",
       "      <th></th>\n",
       "      <th></th>\n",
       "      <th></th>\n",
       "      <th></th>\n",
       "      <th></th>\n",
       "    </tr>\n",
       "  </thead>\n",
       "  <tbody>\n",
       "    <tr>\n",
       "      <td>1999-01-31</td>\n",
       "      <td>0.0116</td>\n",
       "      <td>0.0071</td>\n",
       "      <td>0.0135</td>\n",
       "      <td>-0.0157</td>\n",
       "      <td>0.0587</td>\n",
       "      <td>0.0080</td>\n",
       "      <td>0.0450</td>\n",
       "      <td>-0.0227</td>\n",
       "      <td>-0.0030</td>\n",
       "      <td>-0.0151</td>\n",
       "      <td>0.0044</td>\n",
       "      <td>-0.0269</td>\n",
       "    </tr>\n",
       "    <tr>\n",
       "      <td>1999-02-28</td>\n",
       "      <td>-0.0070</td>\n",
       "      <td>-0.0175</td>\n",
       "      <td>-0.0068</td>\n",
       "      <td>-0.0351</td>\n",
       "      <td>-0.0457</td>\n",
       "      <td>-0.0141</td>\n",
       "      <td>-0.0915</td>\n",
       "      <td>-0.0683</td>\n",
       "      <td>-0.0238</td>\n",
       "      <td>0.0096</td>\n",
       "      <td>-0.0460</td>\n",
       "      <td>-0.0164</td>\n",
       "    </tr>\n",
       "    <tr>\n",
       "      <td>1999-03-31</td>\n",
       "      <td>-0.0001</td>\n",
       "      <td>0.0055</td>\n",
       "      <td>0.0116</td>\n",
       "      <td>0.0019</td>\n",
       "      <td>0.0527</td>\n",
       "      <td>0.0207</td>\n",
       "      <td>0.0356</td>\n",
       "      <td>-0.0082</td>\n",
       "      <td>0.0417</td>\n",
       "      <td>0.1321</td>\n",
       "      <td>0.1688</td>\n",
       "      <td>-0.0055</td>\n",
       "    </tr>\n",
       "    <tr>\n",
       "      <td>1999-04-30</td>\n",
       "      <td>0.0066</td>\n",
       "      <td>0.0032</td>\n",
       "      <td>0.0183</td>\n",
       "      <td>-0.0015</td>\n",
       "      <td>0.0013</td>\n",
       "      <td>0.0934</td>\n",
       "      <td>0.0883</td>\n",
       "      <td>0.0913</td>\n",
       "      <td>0.0405</td>\n",
       "      <td>0.1237</td>\n",
       "      <td>0.0413</td>\n",
       "      <td>0.0967</td>\n",
       "    </tr>\n",
       "    <tr>\n",
       "      <td>1999-05-31</td>\n",
       "      <td>0.0069</td>\n",
       "      <td>-0.0088</td>\n",
       "      <td>-0.0092</td>\n",
       "      <td>-0.0202</td>\n",
       "      <td>-0.0307</td>\n",
       "      <td>-0.0110</td>\n",
       "      <td>0.0016</td>\n",
       "      <td>0.0307</td>\n",
       "      <td>-0.0515</td>\n",
       "      <td>-0.0058</td>\n",
       "      <td>-0.0546</td>\n",
       "      <td>0.0212</td>\n",
       "    </tr>\n",
       "  </tbody>\n",
       "</table>\n",
       "</div>"
      ],
      "text/plain": [
       "               Bloomberg Barclays - U.S. TIPS Index  \\\n",
       "Period Ending                                         \n",
       "1999-01-31                                   0.0116   \n",
       "1999-02-28                                  -0.0070   \n",
       "1999-03-31                                  -0.0001   \n",
       "1999-04-30                                   0.0066   \n",
       "1999-05-31                                   0.0069   \n",
       "\n",
       "               Bloomberg Barclays - U.S. Aggregate Index  \\\n",
       "Period Ending                                              \n",
       "1999-01-31                                        0.0071   \n",
       "1999-02-28                                       -0.0175   \n",
       "1999-03-31                                        0.0055   \n",
       "1999-04-30                                        0.0032   \n",
       "1999-05-31                                       -0.0088   \n",
       "\n",
       "               BofA Merrill Lynch - U.S. High Yield Index  \\\n",
       "Period Ending                                               \n",
       "1999-01-31                                         0.0135   \n",
       "1999-02-28                                        -0.0068   \n",
       "1999-03-31                                         0.0116   \n",
       "1999-04-30                                         0.0183   \n",
       "1999-05-31                                        -0.0092   \n",
       "\n",
       "               FTSE - Non U.S. Govt Bond Index ($)  \\\n",
       "Period Ending                                        \n",
       "1999-01-31                                 -0.0157   \n",
       "1999-02-28                                 -0.0351   \n",
       "1999-03-31                                  0.0019   \n",
       "1999-04-30                                 -0.0015   \n",
       "1999-05-31                                 -0.0202   \n",
       "\n",
       "               Russell - 1000 Growth Index  Russell - 1000 Value Index  \\\n",
       "Period Ending                                                            \n",
       "1999-01-31                          0.0587                      0.0080   \n",
       "1999-02-28                         -0.0457                     -0.0141   \n",
       "1999-03-31                          0.0527                      0.0207   \n",
       "1999-04-30                          0.0013                      0.0934   \n",
       "1999-05-31                         -0.0307                     -0.0110   \n",
       "\n",
       "               Russell - 2000 Growth Index  Russell - 2000 Value Index  \\\n",
       "Period Ending                                                            \n",
       "1999-01-31                          0.0450                     -0.0227   \n",
       "1999-02-28                         -0.0915                     -0.0683   \n",
       "1999-03-31                          0.0356                     -0.0082   \n",
       "1999-04-30                          0.0883                      0.0913   \n",
       "1999-05-31                          0.0016                      0.0307   \n",
       "\n",
       "               MSCI - EAFE Index ($Net)  \\\n",
       "Period Ending                             \n",
       "1999-01-31                      -0.0030   \n",
       "1999-02-28                      -0.0238   \n",
       "1999-03-31                       0.0417   \n",
       "1999-04-30                       0.0405   \n",
       "1999-05-31                      -0.0515   \n",
       "\n",
       "               MSCI - Emerging Markets Index ($ Net)  S&P - GSCI Total Index  \\\n",
       "Period Ending                                                                  \n",
       "1999-01-31                                   -0.0151                  0.0044   \n",
       "1999-02-28                                    0.0096                 -0.0460   \n",
       "1999-03-31                                    0.1321                  0.1688   \n",
       "1999-04-30                                    0.1237                  0.0413   \n",
       "1999-05-31                                   -0.0058                 -0.0546   \n",
       "\n",
       "               MSCI - U.S. REIT Index  \n",
       "Period Ending                          \n",
       "1999-01-31                    -0.0269  \n",
       "1999-02-28                    -0.0164  \n",
       "1999-03-31                    -0.0055  \n",
       "1999-04-30                     0.0967  \n",
       "1999-05-31                     0.0212  "
      ]
     },
     "execution_count": 66,
     "metadata": {},
     "output_type": "execute_result"
    }
   ],
   "source": [
    "data2=data1/100\n",
    "data2[:5]"
   ]
  },
  {
   "cell_type": "code",
   "execution_count": 67,
   "metadata": {},
   "outputs": [
    {
     "data": {
      "text/plain": [
       "Bloomberg Barclays - U.S. TIPS Index          0.056531\n",
       "Bloomberg Barclays - U.S. Aggregate Index     0.033741\n",
       "BofA Merrill Lynch - U.S. High Yield Index    0.089163\n",
       "FTSE - Non U.S. Govt Bond Index ($)           0.080772\n",
       "Russell - 1000 Growth Index                   0.166167\n",
       "Russell - 1000 Value Index                    0.145130\n",
       "Russell - 2000 Growth Index                   0.222363\n",
       "Russell - 2000 Value Index                    0.178556\n",
       "MSCI - EAFE Index ($Net)                      0.162863\n",
       "MSCI - Emerging Markets Index ($ Net)         0.217668\n",
       "S&P - GSCI Total Index                        0.224623\n",
       "MSCI - U.S. REIT Index                        0.207813\n",
       "dtype: float64"
      ]
     },
     "execution_count": 67,
     "metadata": {},
     "output_type": "execute_result"
    }
   ],
   "source": [
    "Anul_Var3=(np.var(data2))*12\n",
    "Anul_Vol3=np.sqrt(Anul_Var3)\n",
    "Anul_Vol3"
   ]
  },
  {
   "cell_type": "code",
   "execution_count": 68,
   "metadata": {
    "scrolled": true
   },
   "outputs": [
    {
     "data": {
      "text/html": [
       "<div>\n",
       "<style scoped>\n",
       "    .dataframe tbody tr th:only-of-type {\n",
       "        vertical-align: middle;\n",
       "    }\n",
       "\n",
       "    .dataframe tbody tr th {\n",
       "        vertical-align: top;\n",
       "    }\n",
       "\n",
       "    .dataframe thead th {\n",
       "        text-align: right;\n",
       "    }\n",
       "</style>\n",
       "<table border=\"1\" class=\"dataframe\">\n",
       "  <thead>\n",
       "    <tr style=\"text-align: right;\">\n",
       "      <th></th>\n",
       "      <th>Bloomberg Barclays - U.S. TIPS Index</th>\n",
       "      <th>Bloomberg Barclays - U.S. Aggregate Index</th>\n",
       "      <th>BofA Merrill Lynch - U.S. High Yield Index</th>\n",
       "      <th>FTSE - Non U.S. Govt Bond Index ($)</th>\n",
       "      <th>Russell - 1000 Growth Index</th>\n",
       "      <th>Russell - 1000 Value Index</th>\n",
       "      <th>Russell - 2000 Growth Index</th>\n",
       "      <th>Russell - 2000 Value Index</th>\n",
       "      <th>MSCI - EAFE Index ($Net)</th>\n",
       "      <th>MSCI - Emerging Markets Index ($ Net)</th>\n",
       "      <th>S&amp;P - GSCI Total Index</th>\n",
       "      <th>MSCI - U.S. REIT Index</th>\n",
       "    </tr>\n",
       "  </thead>\n",
       "  <tbody>\n",
       "    <tr>\n",
       "      <td>Bloomberg Barclays - U.S. TIPS Index</td>\n",
       "      <td>0.003209</td>\n",
       "      <td>0.001494</td>\n",
       "      <td>0.001521</td>\n",
       "      <td>0.002436</td>\n",
       "      <td>0.000181</td>\n",
       "      <td>0.000310</td>\n",
       "      <td>-0.000339</td>\n",
       "      <td>0.000164</td>\n",
       "      <td>0.001128</td>\n",
       "      <td>0.002113</td>\n",
       "      <td>0.002704</td>\n",
       "      <td>0.002936</td>\n",
       "    </tr>\n",
       "    <tr>\n",
       "      <td>Bloomberg Barclays - U.S. Aggregate Index</td>\n",
       "      <td>0.001494</td>\n",
       "      <td>0.001143</td>\n",
       "      <td>0.000562</td>\n",
       "      <td>0.001538</td>\n",
       "      <td>-0.000503</td>\n",
       "      <td>-0.000377</td>\n",
       "      <td>-0.000915</td>\n",
       "      <td>-0.000495</td>\n",
       "      <td>0.000097</td>\n",
       "      <td>0.000215</td>\n",
       "      <td>-0.000313</td>\n",
       "      <td>0.001349</td>\n",
       "    </tr>\n",
       "    <tr>\n",
       "      <td>BofA Merrill Lynch - U.S. High Yield Index</td>\n",
       "      <td>0.001521</td>\n",
       "      <td>0.000562</td>\n",
       "      <td>0.007983</td>\n",
       "      <td>0.001386</td>\n",
       "      <td>0.009012</td>\n",
       "      <td>0.008088</td>\n",
       "      <td>0.012024</td>\n",
       "      <td>0.009912</td>\n",
       "      <td>0.009965</td>\n",
       "      <td>0.013449</td>\n",
       "      <td>0.006584</td>\n",
       "      <td>0.011022</td>\n",
       "    </tr>\n",
       "    <tr>\n",
       "      <td>FTSE - Non U.S. Govt Bond Index ($)</td>\n",
       "      <td>0.002436</td>\n",
       "      <td>0.001538</td>\n",
       "      <td>0.001386</td>\n",
       "      <td>0.006551</td>\n",
       "      <td>0.000889</td>\n",
       "      <td>0.001549</td>\n",
       "      <td>0.000252</td>\n",
       "      <td>0.001000</td>\n",
       "      <td>0.004366</td>\n",
       "      <td>0.004459</td>\n",
       "      <td>0.003693</td>\n",
       "      <td>0.004142</td>\n",
       "    </tr>\n",
       "    <tr>\n",
       "      <td>Russell - 1000 Growth Index</td>\n",
       "      <td>0.000181</td>\n",
       "      <td>-0.000503</td>\n",
       "      <td>0.009012</td>\n",
       "      <td>0.000889</td>\n",
       "      <td>0.027727</td>\n",
       "      <td>0.018859</td>\n",
       "      <td>0.031526</td>\n",
       "      <td>0.020529</td>\n",
       "      <td>0.021914</td>\n",
       "      <td>0.026940</td>\n",
       "      <td>0.010605</td>\n",
       "      <td>0.016258</td>\n",
       "    </tr>\n",
       "    <tr>\n",
       "      <td>Russell - 1000 Value Index</td>\n",
       "      <td>0.000310</td>\n",
       "      <td>-0.000377</td>\n",
       "      <td>0.008088</td>\n",
       "      <td>0.001549</td>\n",
       "      <td>0.018859</td>\n",
       "      <td>0.021151</td>\n",
       "      <td>0.022104</td>\n",
       "      <td>0.021940</td>\n",
       "      <td>0.019221</td>\n",
       "      <td>0.022015</td>\n",
       "      <td>0.009526</td>\n",
       "      <td>0.019795</td>\n",
       "    </tr>\n",
       "    <tr>\n",
       "      <td>Russell - 2000 Growth Index</td>\n",
       "      <td>-0.000339</td>\n",
       "      <td>-0.000915</td>\n",
       "      <td>0.012024</td>\n",
       "      <td>0.000252</td>\n",
       "      <td>0.031526</td>\n",
       "      <td>0.022104</td>\n",
       "      <td>0.049652</td>\n",
       "      <td>0.033366</td>\n",
       "      <td>0.026743</td>\n",
       "      <td>0.034534</td>\n",
       "      <td>0.014962</td>\n",
       "      <td>0.023668</td>\n",
       "    </tr>\n",
       "    <tr>\n",
       "      <td>Russell - 2000 Value Index</td>\n",
       "      <td>0.000164</td>\n",
       "      <td>-0.000495</td>\n",
       "      <td>0.009912</td>\n",
       "      <td>0.001000</td>\n",
       "      <td>0.020529</td>\n",
       "      <td>0.021940</td>\n",
       "      <td>0.033366</td>\n",
       "      <td>0.032016</td>\n",
       "      <td>0.020911</td>\n",
       "      <td>0.024971</td>\n",
       "      <td>0.011121</td>\n",
       "      <td>0.026883</td>\n",
       "    </tr>\n",
       "    <tr>\n",
       "      <td>MSCI - EAFE Index ($Net)</td>\n",
       "      <td>0.001128</td>\n",
       "      <td>0.000097</td>\n",
       "      <td>0.009965</td>\n",
       "      <td>0.004366</td>\n",
       "      <td>0.021914</td>\n",
       "      <td>0.019221</td>\n",
       "      <td>0.026743</td>\n",
       "      <td>0.020911</td>\n",
       "      <td>0.026635</td>\n",
       "      <td>0.030259</td>\n",
       "      <td>0.015524</td>\n",
       "      <td>0.019012</td>\n",
       "    </tr>\n",
       "    <tr>\n",
       "      <td>MSCI - Emerging Markets Index ($ Net)</td>\n",
       "      <td>0.002113</td>\n",
       "      <td>0.000215</td>\n",
       "      <td>0.013449</td>\n",
       "      <td>0.004459</td>\n",
       "      <td>0.026940</td>\n",
       "      <td>0.022015</td>\n",
       "      <td>0.034534</td>\n",
       "      <td>0.024971</td>\n",
       "      <td>0.030259</td>\n",
       "      <td>0.047578</td>\n",
       "      <td>0.020819</td>\n",
       "      <td>0.022287</td>\n",
       "    </tr>\n",
       "    <tr>\n",
       "      <td>S&amp;P - GSCI Total Index</td>\n",
       "      <td>0.002704</td>\n",
       "      <td>-0.000313</td>\n",
       "      <td>0.006584</td>\n",
       "      <td>0.003693</td>\n",
       "      <td>0.010605</td>\n",
       "      <td>0.009526</td>\n",
       "      <td>0.014962</td>\n",
       "      <td>0.011121</td>\n",
       "      <td>0.015524</td>\n",
       "      <td>0.020819</td>\n",
       "      <td>0.050667</td>\n",
       "      <td>0.006561</td>\n",
       "    </tr>\n",
       "    <tr>\n",
       "      <td>MSCI - U.S. REIT Index</td>\n",
       "      <td>0.002936</td>\n",
       "      <td>0.001349</td>\n",
       "      <td>0.011022</td>\n",
       "      <td>0.004142</td>\n",
       "      <td>0.016258</td>\n",
       "      <td>0.019795</td>\n",
       "      <td>0.023668</td>\n",
       "      <td>0.026883</td>\n",
       "      <td>0.019012</td>\n",
       "      <td>0.022287</td>\n",
       "      <td>0.006561</td>\n",
       "      <td>0.043367</td>\n",
       "    </tr>\n",
       "  </tbody>\n",
       "</table>\n",
       "</div>"
      ],
      "text/plain": [
       "                                            Bloomberg Barclays - U.S. TIPS Index  \\\n",
       "Bloomberg Barclays - U.S. TIPS Index                                    0.003209   \n",
       "Bloomberg Barclays - U.S. Aggregate Index                               0.001494   \n",
       "BofA Merrill Lynch - U.S. High Yield Index                              0.001521   \n",
       "FTSE - Non U.S. Govt Bond Index ($)                                     0.002436   \n",
       "Russell - 1000 Growth Index                                             0.000181   \n",
       "Russell - 1000 Value Index                                              0.000310   \n",
       "Russell - 2000 Growth Index                                            -0.000339   \n",
       "Russell - 2000 Value Index                                              0.000164   \n",
       "MSCI - EAFE Index ($Net)                                                0.001128   \n",
       "MSCI - Emerging Markets Index ($ Net)                                   0.002113   \n",
       "S&P - GSCI Total Index                                                  0.002704   \n",
       "MSCI - U.S. REIT Index                                                  0.002936   \n",
       "\n",
       "                                            Bloomberg Barclays - U.S. Aggregate Index  \\\n",
       "Bloomberg Barclays - U.S. TIPS Index                                         0.001494   \n",
       "Bloomberg Barclays - U.S. Aggregate Index                                    0.001143   \n",
       "BofA Merrill Lynch - U.S. High Yield Index                                   0.000562   \n",
       "FTSE - Non U.S. Govt Bond Index ($)                                          0.001538   \n",
       "Russell - 1000 Growth Index                                                 -0.000503   \n",
       "Russell - 1000 Value Index                                                  -0.000377   \n",
       "Russell - 2000 Growth Index                                                 -0.000915   \n",
       "Russell - 2000 Value Index                                                  -0.000495   \n",
       "MSCI - EAFE Index ($Net)                                                     0.000097   \n",
       "MSCI - Emerging Markets Index ($ Net)                                        0.000215   \n",
       "S&P - GSCI Total Index                                                      -0.000313   \n",
       "MSCI - U.S. REIT Index                                                       0.001349   \n",
       "\n",
       "                                            BofA Merrill Lynch - U.S. High Yield Index  \\\n",
       "Bloomberg Barclays - U.S. TIPS Index                                          0.001521   \n",
       "Bloomberg Barclays - U.S. Aggregate Index                                     0.000562   \n",
       "BofA Merrill Lynch - U.S. High Yield Index                                    0.007983   \n",
       "FTSE - Non U.S. Govt Bond Index ($)                                           0.001386   \n",
       "Russell - 1000 Growth Index                                                   0.009012   \n",
       "Russell - 1000 Value Index                                                    0.008088   \n",
       "Russell - 2000 Growth Index                                                   0.012024   \n",
       "Russell - 2000 Value Index                                                    0.009912   \n",
       "MSCI - EAFE Index ($Net)                                                      0.009965   \n",
       "MSCI - Emerging Markets Index ($ Net)                                         0.013449   \n",
       "S&P - GSCI Total Index                                                        0.006584   \n",
       "MSCI - U.S. REIT Index                                                        0.011022   \n",
       "\n",
       "                                            FTSE - Non U.S. Govt Bond Index ($)  \\\n",
       "Bloomberg Barclays - U.S. TIPS Index                                   0.002436   \n",
       "Bloomberg Barclays - U.S. Aggregate Index                              0.001538   \n",
       "BofA Merrill Lynch - U.S. High Yield Index                             0.001386   \n",
       "FTSE - Non U.S. Govt Bond Index ($)                                    0.006551   \n",
       "Russell - 1000 Growth Index                                            0.000889   \n",
       "Russell - 1000 Value Index                                             0.001549   \n",
       "Russell - 2000 Growth Index                                            0.000252   \n",
       "Russell - 2000 Value Index                                             0.001000   \n",
       "MSCI - EAFE Index ($Net)                                               0.004366   \n",
       "MSCI - Emerging Markets Index ($ Net)                                  0.004459   \n",
       "S&P - GSCI Total Index                                                 0.003693   \n",
       "MSCI - U.S. REIT Index                                                 0.004142   \n",
       "\n",
       "                                            Russell - 1000 Growth Index  \\\n",
       "Bloomberg Barclays - U.S. TIPS Index                           0.000181   \n",
       "Bloomberg Barclays - U.S. Aggregate Index                     -0.000503   \n",
       "BofA Merrill Lynch - U.S. High Yield Index                     0.009012   \n",
       "FTSE - Non U.S. Govt Bond Index ($)                            0.000889   \n",
       "Russell - 1000 Growth Index                                    0.027727   \n",
       "Russell - 1000 Value Index                                     0.018859   \n",
       "Russell - 2000 Growth Index                                    0.031526   \n",
       "Russell - 2000 Value Index                                     0.020529   \n",
       "MSCI - EAFE Index ($Net)                                       0.021914   \n",
       "MSCI - Emerging Markets Index ($ Net)                          0.026940   \n",
       "S&P - GSCI Total Index                                         0.010605   \n",
       "MSCI - U.S. REIT Index                                         0.016258   \n",
       "\n",
       "                                            Russell - 1000 Value Index  \\\n",
       "Bloomberg Barclays - U.S. TIPS Index                          0.000310   \n",
       "Bloomberg Barclays - U.S. Aggregate Index                    -0.000377   \n",
       "BofA Merrill Lynch - U.S. High Yield Index                    0.008088   \n",
       "FTSE - Non U.S. Govt Bond Index ($)                           0.001549   \n",
       "Russell - 1000 Growth Index                                   0.018859   \n",
       "Russell - 1000 Value Index                                    0.021151   \n",
       "Russell - 2000 Growth Index                                   0.022104   \n",
       "Russell - 2000 Value Index                                    0.021940   \n",
       "MSCI - EAFE Index ($Net)                                      0.019221   \n",
       "MSCI - Emerging Markets Index ($ Net)                         0.022015   \n",
       "S&P - GSCI Total Index                                        0.009526   \n",
       "MSCI - U.S. REIT Index                                        0.019795   \n",
       "\n",
       "                                            Russell - 2000 Growth Index  \\\n",
       "Bloomberg Barclays - U.S. TIPS Index                          -0.000339   \n",
       "Bloomberg Barclays - U.S. Aggregate Index                     -0.000915   \n",
       "BofA Merrill Lynch - U.S. High Yield Index                     0.012024   \n",
       "FTSE - Non U.S. Govt Bond Index ($)                            0.000252   \n",
       "Russell - 1000 Growth Index                                    0.031526   \n",
       "Russell - 1000 Value Index                                     0.022104   \n",
       "Russell - 2000 Growth Index                                    0.049652   \n",
       "Russell - 2000 Value Index                                     0.033366   \n",
       "MSCI - EAFE Index ($Net)                                       0.026743   \n",
       "MSCI - Emerging Markets Index ($ Net)                          0.034534   \n",
       "S&P - GSCI Total Index                                         0.014962   \n",
       "MSCI - U.S. REIT Index                                         0.023668   \n",
       "\n",
       "                                            Russell - 2000 Value Index  \\\n",
       "Bloomberg Barclays - U.S. TIPS Index                          0.000164   \n",
       "Bloomberg Barclays - U.S. Aggregate Index                    -0.000495   \n",
       "BofA Merrill Lynch - U.S. High Yield Index                    0.009912   \n",
       "FTSE - Non U.S. Govt Bond Index ($)                           0.001000   \n",
       "Russell - 1000 Growth Index                                   0.020529   \n",
       "Russell - 1000 Value Index                                    0.021940   \n",
       "Russell - 2000 Growth Index                                   0.033366   \n",
       "Russell - 2000 Value Index                                    0.032016   \n",
       "MSCI - EAFE Index ($Net)                                      0.020911   \n",
       "MSCI - Emerging Markets Index ($ Net)                         0.024971   \n",
       "S&P - GSCI Total Index                                        0.011121   \n",
       "MSCI - U.S. REIT Index                                        0.026883   \n",
       "\n",
       "                                            MSCI - EAFE Index ($Net)  \\\n",
       "Bloomberg Barclays - U.S. TIPS Index                        0.001128   \n",
       "Bloomberg Barclays - U.S. Aggregate Index                   0.000097   \n",
       "BofA Merrill Lynch - U.S. High Yield Index                  0.009965   \n",
       "FTSE - Non U.S. Govt Bond Index ($)                         0.004366   \n",
       "Russell - 1000 Growth Index                                 0.021914   \n",
       "Russell - 1000 Value Index                                  0.019221   \n",
       "Russell - 2000 Growth Index                                 0.026743   \n",
       "Russell - 2000 Value Index                                  0.020911   \n",
       "MSCI - EAFE Index ($Net)                                    0.026635   \n",
       "MSCI - Emerging Markets Index ($ Net)                       0.030259   \n",
       "S&P - GSCI Total Index                                      0.015524   \n",
       "MSCI - U.S. REIT Index                                      0.019012   \n",
       "\n",
       "                                            MSCI - Emerging Markets Index ($ Net)  \\\n",
       "Bloomberg Barclays - U.S. TIPS Index                                     0.002113   \n",
       "Bloomberg Barclays - U.S. Aggregate Index                                0.000215   \n",
       "BofA Merrill Lynch - U.S. High Yield Index                               0.013449   \n",
       "FTSE - Non U.S. Govt Bond Index ($)                                      0.004459   \n",
       "Russell - 1000 Growth Index                                              0.026940   \n",
       "Russell - 1000 Value Index                                               0.022015   \n",
       "Russell - 2000 Growth Index                                              0.034534   \n",
       "Russell - 2000 Value Index                                               0.024971   \n",
       "MSCI - EAFE Index ($Net)                                                 0.030259   \n",
       "MSCI - Emerging Markets Index ($ Net)                                    0.047578   \n",
       "S&P - GSCI Total Index                                                   0.020819   \n",
       "MSCI - U.S. REIT Index                                                   0.022287   \n",
       "\n",
       "                                            S&P - GSCI Total Index  \\\n",
       "Bloomberg Barclays - U.S. TIPS Index                      0.002704   \n",
       "Bloomberg Barclays - U.S. Aggregate Index                -0.000313   \n",
       "BofA Merrill Lynch - U.S. High Yield Index                0.006584   \n",
       "FTSE - Non U.S. Govt Bond Index ($)                       0.003693   \n",
       "Russell - 1000 Growth Index                               0.010605   \n",
       "Russell - 1000 Value Index                                0.009526   \n",
       "Russell - 2000 Growth Index                               0.014962   \n",
       "Russell - 2000 Value Index                                0.011121   \n",
       "MSCI - EAFE Index ($Net)                                  0.015524   \n",
       "MSCI - Emerging Markets Index ($ Net)                     0.020819   \n",
       "S&P - GSCI Total Index                                    0.050667   \n",
       "MSCI - U.S. REIT Index                                    0.006561   \n",
       "\n",
       "                                            MSCI - U.S. REIT Index  \n",
       "Bloomberg Barclays - U.S. TIPS Index                      0.002936  \n",
       "Bloomberg Barclays - U.S. Aggregate Index                 0.001349  \n",
       "BofA Merrill Lynch - U.S. High Yield Index                0.011022  \n",
       "FTSE - Non U.S. Govt Bond Index ($)                       0.004142  \n",
       "Russell - 1000 Growth Index                               0.016258  \n",
       "Russell - 1000 Value Index                                0.019795  \n",
       "Russell - 2000 Growth Index                               0.023668  \n",
       "Russell - 2000 Value Index                                0.026883  \n",
       "MSCI - EAFE Index ($Net)                                  0.019012  \n",
       "MSCI - Emerging Markets Index ($ Net)                     0.022287  \n",
       "S&P - GSCI Total Index                                    0.006561  \n",
       "MSCI - U.S. REIT Index                                    0.043367  "
      ]
     },
     "execution_count": 68,
     "metadata": {},
     "output_type": "execute_result"
    }
   ],
   "source": [
    "Anul_cov=12*data2.cov()\n",
    "Anul_cov"
   ]
  },
  {
   "cell_type": "code",
   "execution_count": 69,
   "metadata": {},
   "outputs": [
    {
     "data": {
      "text/html": [
       "<div>\n",
       "<style scoped>\n",
       "    .dataframe tbody tr th:only-of-type {\n",
       "        vertical-align: middle;\n",
       "    }\n",
       "\n",
       "    .dataframe tbody tr th {\n",
       "        vertical-align: top;\n",
       "    }\n",
       "\n",
       "    .dataframe thead th {\n",
       "        text-align: right;\n",
       "    }\n",
       "</style>\n",
       "<table border=\"1\" class=\"dataframe\">\n",
       "  <thead>\n",
       "    <tr style=\"text-align: right;\">\n",
       "      <th>Period Ending</th>\n",
       "      <th>2018-12-31</th>\n",
       "    </tr>\n",
       "  </thead>\n",
       "  <tbody>\n",
       "    <tr>\n",
       "      <td>Bloomberg Barclays - U.S. TIPS Index</td>\n",
       "      <td>0.052046</td>\n",
       "    </tr>\n",
       "    <tr>\n",
       "      <td>Bloomberg Barclays - U.S. Aggregate Index</td>\n",
       "      <td>0.045530</td>\n",
       "    </tr>\n",
       "    <tr>\n",
       "      <td>BofA Merrill Lynch - U.S. High Yield Index</td>\n",
       "      <td>0.063033</td>\n",
       "    </tr>\n",
       "    <tr>\n",
       "      <td>FTSE - Non U.S. Govt Bond Index ($)</td>\n",
       "      <td>0.034049</td>\n",
       "    </tr>\n",
       "    <tr>\n",
       "      <td>Russell - 1000 Growth Index</td>\n",
       "      <td>0.050566</td>\n",
       "    </tr>\n",
       "    <tr>\n",
       "      <td>Russell - 1000 Value Index</td>\n",
       "      <td>0.061523</td>\n",
       "    </tr>\n",
       "    <tr>\n",
       "      <td>Russell - 2000 Growth Index</td>\n",
       "      <td>0.061401</td>\n",
       "    </tr>\n",
       "    <tr>\n",
       "      <td>Russell - 2000 Value Index</td>\n",
       "      <td>0.082277</td>\n",
       "    </tr>\n",
       "    <tr>\n",
       "      <td>MSCI - EAFE Index ($Net)</td>\n",
       "      <td>0.035217</td>\n",
       "    </tr>\n",
       "    <tr>\n",
       "      <td>MSCI - Emerging Markets Index ($ Net)</td>\n",
       "      <td>0.085171</td>\n",
       "    </tr>\n",
       "    <tr>\n",
       "      <td>S&amp;P - GSCI Total Index</td>\n",
       "      <td>0.005715</td>\n",
       "    </tr>\n",
       "    <tr>\n",
       "      <td>MSCI - U.S. REIT Index</td>\n",
       "      <td>0.096518</td>\n",
       "    </tr>\n",
       "  </tbody>\n",
       "</table>\n",
       "</div>"
      ],
      "text/plain": [
       "Period Ending                               2018-12-31\n",
       "Bloomberg Barclays - U.S. TIPS Index          0.052046\n",
       "Bloomberg Barclays - U.S. Aggregate Index     0.045530\n",
       "BofA Merrill Lynch - U.S. High Yield Index    0.063033\n",
       "FTSE - Non U.S. Govt Bond Index ($)           0.034049\n",
       "Russell - 1000 Growth Index                   0.050566\n",
       "Russell - 1000 Value Index                    0.061523\n",
       "Russell - 2000 Growth Index                   0.061401\n",
       "Russell - 2000 Value Index                    0.082277\n",
       "MSCI - EAFE Index ($Net)                      0.035217\n",
       "MSCI - Emerging Markets Index ($ Net)         0.085171\n",
       "S&P - GSCI Total Index                        0.005715\n",
       "MSCI - U.S. REIT Index                        0.096518"
      ]
     },
     "execution_count": 69,
     "metadata": {},
     "output_type": "execute_result"
    }
   ],
   "source": [
    "u=Anul_return3.T\n",
    "u"
   ]
  },
  {
   "cell_type": "code",
   "execution_count": 70,
   "metadata": {},
   "outputs": [
    {
     "data": {
      "text/plain": [
       "array([[1],\n",
       "       [1],\n",
       "       [1],\n",
       "       [1],\n",
       "       [1],\n",
       "       [1],\n",
       "       [1],\n",
       "       [1],\n",
       "       [1],\n",
       "       [1],\n",
       "       [1],\n",
       "       [1]])"
      ]
     },
     "execution_count": 70,
     "metadata": {},
     "output_type": "execute_result"
    }
   ],
   "source": [
    "e=np.ones((12,1),dtype=int)\n",
    "e"
   ]
  },
  {
   "cell_type": "code",
   "execution_count": 71,
   "metadata": {},
   "outputs": [
    {
     "data": {
      "text/plain": [
       "array([[1, 1, 1, 1, 1, 1, 1, 1, 1, 1, 1, 1]])"
      ]
     },
     "execution_count": 71,
     "metadata": {},
     "output_type": "execute_result"
    }
   ],
   "source": [
    "e.T"
   ]
  },
  {
   "cell_type": "code",
   "execution_count": 72,
   "metadata": {},
   "outputs": [],
   "source": [
    "import scipy.optimize as so"
   ]
  },
  {
   "cell_type": "code",
   "execution_count": 73,
   "metadata": {},
   "outputs": [],
   "source": [
    "from scipy.optimize import minimize"
   ]
  },
  {
   "cell_type": "code",
   "execution_count": 74,
   "metadata": {},
   "outputs": [
    {
     "data": {
      "text/plain": [
       "array([[0.05204587],\n",
       "       [0.04553015],\n",
       "       [0.06303296],\n",
       "       [0.03404921],\n",
       "       [0.05056564],\n",
       "       [0.06152343],\n",
       "       [0.06140051],\n",
       "       [0.08227703],\n",
       "       [0.03521706],\n",
       "       [0.08517106],\n",
       "       [0.00571498],\n",
       "       [0.09651849]])"
      ]
     },
     "execution_count": 74,
     "metadata": {},
     "output_type": "execute_result"
    }
   ],
   "source": [
    "u=Anul_return3.T\n",
    "u=u.iloc[:,0].to_numpy().reshape(12,1)\n",
    "u"
   ]
  },
  {
   "cell_type": "code",
   "execution_count": 75,
   "metadata": {},
   "outputs": [],
   "source": [
    "#constraint of no short-sell"
   ]
  },
  {
   "cell_type": "code",
   "execution_count": 76,
   "metadata": {},
   "outputs": [],
   "source": [
    "def statistics(weights):\n",
    "    weights1 = np.array(weights)\n",
    "    returns = np.dot(weights1.T,u)\n",
    "    variance = np.dot(weights1.T, np.dot(Anul_cov, weights1))*10000\n",
    "    return np.array([returns,variance])"
   ]
  },
  {
   "cell_type": "code",
   "execution_count": 77,
   "metadata": {},
   "outputs": [],
   "source": [
    "def min_func_variance(weights):\n",
    "    return statistics(weights)[1]"
   ]
  },
  {
   "cell_type": "code",
   "execution_count": null,
   "metadata": {},
   "outputs": [],
   "source": [
    "#1. Run an optimization to locate the minimum-variance portfolio on the new frontier."
   ]
  },
  {
   "cell_type": "code",
   "execution_count": 78,
   "metadata": {},
   "outputs": [
    {
     "data": {
      "text/plain": [
       "((0, 1),\n",
       " (0, 1),\n",
       " (0, 1),\n",
       " (0, 1),\n",
       " (0, 1),\n",
       " (0, 1),\n",
       " (0, 1),\n",
       " (0, 1),\n",
       " (0, 1),\n",
       " (0, 1),\n",
       " (0, 1),\n",
       " (0, 1))"
      ]
     },
     "execution_count": 78,
     "metadata": {},
     "output_type": "execute_result"
    }
   ],
   "source": [
    "bnds=tuple((0, 1) for x in range(12))\n",
    "bnds"
   ]
  },
  {
   "cell_type": "code",
   "execution_count": 79,
   "metadata": {},
   "outputs": [],
   "source": [
    "cons=({'type': 'eq', 'fun': lambda x: np.sum(x) - 1})"
   ]
  },
  {
   "cell_type": "code",
   "execution_count": 80,
   "metadata": {},
   "outputs": [],
   "source": [
    "optv = so.minimize(min_func_variance,12*[1./12,],method='SLSQP', bounds=bnds, constraints=cons)"
   ]
  },
  {
   "cell_type": "code",
   "execution_count": 81,
   "metadata": {
    "scrolled": true
   },
   "outputs": [
    {
     "data": {
      "text/plain": [
       "     fun: 10.263272135296456\n",
       "     jac: array([28.64426076, 20.52624381, 22.78399348, 30.97836339, 20.52589333,\n",
       "       20.53177488, 20.52910149, 21.64768088, 30.96957552, 39.34083974,\n",
       "       20.53120196, 50.2359705 ])\n",
       " message: 'Optimization terminated successfully.'\n",
       "    nfev: 147\n",
       "     nit: 10\n",
       "    njev: 10\n",
       "  status: 0\n",
       " success: True\n",
       "       x: array([5.09670958e-13, 9.26480815e-01, 0.00000000e+00, 6.01174062e-13,\n",
       "       1.29258452e-02, 3.88936406e-02, 8.14245524e-03, 0.00000000e+00,\n",
       "       1.70299721e-13, 4.88169817e-13, 1.35572436e-02, 1.24081165e-12])"
      ]
     },
     "execution_count": 81,
     "metadata": {},
     "output_type": "execute_result"
    }
   ],
   "source": [
    "optv #the outcome of minimum variance portfolio"
   ]
  },
  {
   "cell_type": "code",
   "execution_count": 82,
   "metadata": {},
   "outputs": [
    {
     "data": {
      "text/plain": [
       "(12,)"
      ]
     },
     "execution_count": 82,
     "metadata": {},
     "output_type": "execute_result"
    }
   ],
   "source": [
    "x_w=optv['x'].round(3)\n",
    "x_w.shape"
   ]
  },
  {
   "cell_type": "code",
   "execution_count": 84,
   "metadata": {},
   "outputs": [
    {
     "data": {
      "text/plain": [
       "array([[0.   ],\n",
       "       [0.926],\n",
       "       [0.   ],\n",
       "       [0.   ],\n",
       "       [0.013],\n",
       "       [0.039],\n",
       "       [0.008],\n",
       "       [0.   ],\n",
       "       [0.   ],\n",
       "       [0.   ],\n",
       "       [0.014],\n",
       "       [0.   ]])"
      ]
     },
     "execution_count": 84,
     "metadata": {},
     "output_type": "execute_result"
    }
   ],
   "source": [
    "w_min_var=x_w.reshape(12,1)\n",
    "w_min_var"
   ]
  },
  {
   "cell_type": "code",
   "execution_count": 85,
   "metadata": {},
   "outputs": [
    {
     "data": {
      "text/plain": [
       "array([[0.0457889]])"
      ]
     },
     "execution_count": 85,
     "metadata": {},
     "output_type": "execute_result"
    }
   ],
   "source": [
    "return_min_var=np.dot(u.T,w_min_var)\n",
    "return_min_var"
   ]
  },
  {
   "cell_type": "code",
   "execution_count": 86,
   "metadata": {},
   "outputs": [],
   "source": [
    "#2A Run optimizations to locate two other efficient portfolios different than the minimum-variance portfolio"
   ]
  },
  {
   "cell_type": "code",
   "execution_count": 87,
   "metadata": {},
   "outputs": [],
   "source": [
    "# the other two portfolio on the efficient frontier"
   ]
  },
  {
   "cell_type": "code",
   "execution_count": 88,
   "metadata": {},
   "outputs": [],
   "source": [
    "def min_negareturn(weights):\n",
    "    return -statistics(weights)[0]\n",
    "#given the variance and caculate the portfolio with the maximum return"
   ]
  },
  {
   "cell_type": "code",
   "execution_count": 89,
   "metadata": {},
   "outputs": [],
   "source": [
    "bnds=tuple((0, 1) for x in range(12))"
   ]
  },
  {
   "cell_type": "code",
   "execution_count": 90,
   "metadata": {},
   "outputs": [],
   "source": [
    "cons=({'type': 'eq', 'fun': lambda x: np.sum(x) - 1},\n",
    "      {'type': 'eq', 'fun': lambda x:  statistics(x)[1] - 11.26})"
   ]
  },
  {
   "cell_type": "code",
   "execution_count": 91,
   "metadata": {},
   "outputs": [],
   "source": [
    "optv1 = so.minimize(min_negareturn,12*[1./12,],method='SLSQP', bounds=bnds, constraints=cons)"
   ]
  },
  {
   "cell_type": "code",
   "execution_count": 92,
   "metadata": {},
   "outputs": [
    {
     "data": {
      "text/plain": [
       "     fun: -0.0490647694747325\n",
       "     jac: array([-0.05204587, -0.04553015, -0.06303296, -0.03404921, -0.05056564,\n",
       "       -0.06152343, -0.06140051, -0.08227703, -0.03521706, -0.08517106,\n",
       "       -0.00571498, -0.09651849])\n",
       " message: 'Optimization terminated successfully.'\n",
       "    nfev: 197\n",
       "     nit: 14\n",
       "    njev: 14\n",
       "  status: 0\n",
       " success: True\n",
       "       x: array([4.25606900e-17, 8.73258661e-01, 5.83415279e-02, 0.00000000e+00,\n",
       "       3.26689986e-17, 0.00000000e+00, 0.00000000e+00, 6.83998106e-02,\n",
       "       7.02555384e-18, 0.00000000e+00, 2.16855224e-17, 0.00000000e+00])"
      ]
     },
     "execution_count": 92,
     "metadata": {},
     "output_type": "execute_result"
    }
   ],
   "source": [
    "optv1  #the outcome of 1st portfolio"
   ]
  },
  {
   "cell_type": "code",
   "execution_count": 93,
   "metadata": {},
   "outputs": [
    {
     "data": {
      "text/plain": [
       "array([[0.   ],\n",
       "       [0.873],\n",
       "       [0.058],\n",
       "       [0.   ],\n",
       "       [0.   ],\n",
       "       [0.   ],\n",
       "       [0.   ],\n",
       "       [0.068],\n",
       "       [0.   ],\n",
       "       [0.   ],\n",
       "       [0.   ],\n",
       "       [0.   ]])"
      ]
     },
     "execution_count": 93,
     "metadata": {},
     "output_type": "execute_result"
    }
   ],
   "source": [
    "w_optv1=optv1['x'].round(3).reshape(12,1)\n",
    "w_optv1"
   ]
  },
  {
   "cell_type": "code",
   "execution_count": 94,
   "metadata": {},
   "outputs": [
    {
     "data": {
      "text/plain": [
       "array([[0.04899857]])"
      ]
     },
     "execution_count": 94,
     "metadata": {},
     "output_type": "execute_result"
    }
   ],
   "source": [
    "return_w_optv1=np.dot(u.T,w_optv1)\n",
    "return_w_optv1"
   ]
  },
  {
   "cell_type": "code",
   "execution_count": 95,
   "metadata": {},
   "outputs": [],
   "source": [
    "bnds=tuple((0, 1) for x in range(12))"
   ]
  },
  {
   "cell_type": "code",
   "execution_count": 96,
   "metadata": {},
   "outputs": [],
   "source": [
    "cons=({'type': 'eq', 'fun': lambda x: np.sum(x) - 1},\n",
    "      {'type': 'eq', 'fun': lambda x:  statistics(x)[1] - 15.26})"
   ]
  },
  {
   "cell_type": "code",
   "execution_count": 97,
   "metadata": {},
   "outputs": [],
   "source": [
    "optv2 = so.minimize(min_negareturn,12*[1./12,],method='SLSQP', bounds=bnds, constraints=cons)"
   ]
  },
  {
   "cell_type": "code",
   "execution_count": 98,
   "metadata": {},
   "outputs": [
    {
     "data": {
      "text/plain": [
       "     fun: -0.052108762446434004\n",
       "     jac: array([-0.05204587, -0.04553015, -0.06303296, -0.03404921, -0.05056564,\n",
       "       -0.06152343, -0.06140051, -0.08227703, -0.03521706, -0.08517106,\n",
       "       -0.00571498, -0.09651849])\n",
       " message: 'Optimization terminated successfully.'\n",
       "    nfev: 281\n",
       "     nit: 20\n",
       "    njev: 20\n",
       "  status: 0\n",
       " success: True\n",
       "       x: array([8.48090321e-02, 6.95590059e-01, 1.11907443e-01, 0.00000000e+00,\n",
       "       0.00000000e+00, 0.00000000e+00, 4.64766978e-18, 9.99746084e-02,\n",
       "       5.08135065e-18, 8.00107322e-18, 0.00000000e+00, 7.71885677e-03])"
      ]
     },
     "execution_count": 98,
     "metadata": {},
     "output_type": "execute_result"
    }
   ],
   "source": [
    "optv2  #the outcome of 2nd portfolio"
   ]
  },
  {
   "cell_type": "code",
   "execution_count": 99,
   "metadata": {},
   "outputs": [
    {
     "data": {
      "text/plain": [
       "array([[0.085],\n",
       "       [0.696],\n",
       "       [0.112],\n",
       "       [0.   ],\n",
       "       [0.   ],\n",
       "       [0.   ],\n",
       "       [0.   ],\n",
       "       [0.1  ],\n",
       "       [0.   ],\n",
       "       [0.   ],\n",
       "       [0.   ],\n",
       "       [0.008]])"
      ]
     },
     "execution_count": 99,
     "metadata": {},
     "output_type": "execute_result"
    }
   ],
   "source": [
    "w_optv2=optv2['x'].round(3).reshape(12,1)\n",
    "w_optv2"
   ]
  },
  {
   "cell_type": "code",
   "execution_count": 100,
   "metadata": {},
   "outputs": [
    {
     "data": {
      "text/plain": [
       "array([[0.05217242]])"
      ]
     },
     "execution_count": 100,
     "metadata": {},
     "output_type": "execute_result"
    }
   ],
   "source": [
    "return_w_optv2=np.dot(u.T,w_optv2)\n",
    "return_w_optv2"
   ]
  },
  {
   "cell_type": "code",
   "execution_count": 101,
   "metadata": {},
   "outputs": [],
   "source": [
    "#2AProve or disprove the minimum-variance portfolio can be represented as a combination of the two portfolios found on 2A."
   ]
  },
  {
   "cell_type": "code",
   "execution_count": 103,
   "metadata": {},
   "outputs": [
    {
     "name": "stderr",
     "output_type": "stream",
     "text": [
      "/Users/zhangxingpu/anaconda3/lib/python3.7/site-packages/ipykernel_launcher.py:1: RuntimeWarning: divide by zero encountered in true_divide\n",
      "  \"\"\"Entry point for launching an IPython kernel.\n",
      "/Users/zhangxingpu/anaconda3/lib/python3.7/site-packages/ipykernel_launcher.py:1: RuntimeWarning: invalid value encountered in true_divide\n",
      "  \"\"\"Entry point for launching an IPython kernel.\n"
     ]
    },
    {
     "data": {
      "text/plain": [
       "array([[1.        ],\n",
       "       [1.29943503],\n",
       "       [2.07407407],\n",
       "       [       nan],\n",
       "       [       inf],\n",
       "       [       inf],\n",
       "       [       inf],\n",
       "       [3.125     ],\n",
       "       [       nan],\n",
       "       [       nan],\n",
       "       [       inf],\n",
       "       [1.        ]])"
      ]
     },
     "execution_count": 103,
     "metadata": {},
     "output_type": "execute_result"
    }
   ],
   "source": [
    "c=(w_min_var-w_optv2)/(w_optv1-w_optv2)\n",
    "c"
   ]
  },
  {
   "cell_type": "code",
   "execution_count": 104,
   "metadata": {},
   "outputs": [],
   "source": [
    "#1.29,2.07,3.125>1 means we need to use short,\n",
    "#while the assumption is that we cannot use short-sell, thus DISPROVED."
   ]
  },
  {
   "cell_type": "code",
   "execution_count": 105,
   "metadata": {},
   "outputs": [],
   "source": [
    "#3Plot both the old efficient frontier without \n",
    "#the short-sell constraint and the new efficient frontier with the short-sell constraint on the same graph."
   ]
  },
  {
   "cell_type": "code",
   "execution_count": 106,
   "metadata": {},
   "outputs": [],
   "source": [
    "#3"
   ]
  },
  {
   "cell_type": "code",
   "execution_count": 107,
   "metadata": {},
   "outputs": [
    {
     "data": {
      "text/plain": [
       "array([[0.23744804, 0.76255196]])"
      ]
     },
     "execution_count": 107,
     "metadata": {},
     "output_type": "execute_result"
    }
   ],
   "source": [
    "import numpy as np, numpy.random\n",
    "np.random.dirichlet(np.ones(2),size=1)"
   ]
  },
  {
   "cell_type": "code",
   "execution_count": 108,
   "metadata": {},
   "outputs": [],
   "source": [
    "num_port=2\n",
    "num_combination=5000"
   ]
  },
  {
   "cell_type": "code",
   "execution_count": 110,
   "metadata": {
    "scrolled": true
   },
   "outputs": [
    {
     "data": {
      "text/plain": [
       "[10.26,\n",
       " 10.36,\n",
       " 10.459999999999999,\n",
       " 10.559999999999999,\n",
       " 10.659999999999998,\n",
       " 10.759999999999998,\n",
       " 10.859999999999998,\n",
       " 10.959999999999997,\n",
       " 11.059999999999997,\n",
       " 11.159999999999997,\n",
       " 11.259999999999996,\n",
       " 11.359999999999996,\n",
       " 11.459999999999996,\n",
       " 11.559999999999995,\n",
       " 11.659999999999995,\n",
       " 11.759999999999994,\n",
       " 11.859999999999994,\n",
       " 11.959999999999994,\n",
       " 12.059999999999993,\n",
       " 12.159999999999993,\n",
       " 12.259999999999993,\n",
       " 12.359999999999992,\n",
       " 12.459999999999992,\n",
       " 12.559999999999992,\n",
       " 12.659999999999991,\n",
       " 12.759999999999991,\n",
       " 12.85999999999999,\n",
       " 12.95999999999999,\n",
       " 13.05999999999999,\n",
       " 13.15999999999999,\n",
       " 13.25999999999999,\n",
       " 13.359999999999989,\n",
       " 13.459999999999988,\n",
       " 13.559999999999988,\n",
       " 13.659999999999988,\n",
       " 13.759999999999987,\n",
       " 13.859999999999987,\n",
       " 13.959999999999987,\n",
       " 14.059999999999986,\n",
       " 14.159999999999986,\n",
       " 14.259999999999986,\n",
       " 14.359999999999985,\n",
       " 14.459999999999985,\n",
       " 14.559999999999985,\n",
       " 14.659999999999984,\n",
       " 14.759999999999984,\n",
       " 14.859999999999983,\n",
       " 14.959999999999983,\n",
       " 15.059999999999983,\n",
       " 15.159999999999982,\n",
       " 15.259999999999982,\n",
       " 15.359999999999982,\n",
       " 15.459999999999981,\n",
       " 15.559999999999981,\n",
       " 15.65999999999998,\n",
       " 15.75999999999998,\n",
       " 15.85999999999998,\n",
       " 15.95999999999998,\n",
       " 16.05999999999998,\n",
       " 16.15999999999998,\n",
       " 16.259999999999977,\n",
       " 16.359999999999978,\n",
       " 16.45999999999998,\n",
       " 16.559999999999977,\n",
       " 16.659999999999975,\n",
       " 16.759999999999977,\n",
       " 16.859999999999978,\n",
       " 16.959999999999976,\n",
       " 17.059999999999974,\n",
       " 17.159999999999975,\n",
       " 17.259999999999977,\n",
       " 17.359999999999975,\n",
       " 17.459999999999972,\n",
       " 17.559999999999974,\n",
       " 17.659999999999975,\n",
       " 17.759999999999973,\n",
       " 17.85999999999997,\n",
       " 17.959999999999972,\n",
       " 18.059999999999974,\n",
       " 18.15999999999997,\n",
       " 18.25999999999997,\n",
       " 18.35999999999997,\n",
       " 18.459999999999972,\n",
       " 18.55999999999997,\n",
       " 18.659999999999968,\n",
       " 18.75999999999997,\n",
       " 18.85999999999997,\n",
       " 18.95999999999997,\n",
       " 19.059999999999967,\n",
       " 19.159999999999968,\n",
       " 19.25999999999997,\n",
       " 19.359999999999967,\n",
       " 19.459999999999965,\n",
       " 19.559999999999967,\n",
       " 19.659999999999968,\n",
       " 19.759999999999966,\n",
       " 19.859999999999964,\n",
       " 19.959999999999965,\n",
       " 20.059999999999967,\n",
       " 20.159999999999965,\n",
       " 20.259999999999962,\n",
       " 20.359999999999964,\n",
       " 20.459999999999965,\n",
       " 20.559999999999963,\n",
       " 20.65999999999996,\n",
       " 20.759999999999962,\n",
       " 20.859999999999964,\n",
       " 20.95999999999996,\n",
       " 21.05999999999996,\n",
       " 21.15999999999996,\n",
       " 21.259999999999962,\n",
       " 21.35999999999996,\n",
       " 21.459999999999958,\n",
       " 21.55999999999996,\n",
       " 21.65999999999996,\n",
       " 21.75999999999996,\n",
       " 21.859999999999957,\n",
       " 21.959999999999958,\n",
       " 22.05999999999996,\n",
       " 22.159999999999958,\n",
       " 22.259999999999955,\n",
       " 22.359999999999957,\n",
       " 22.459999999999958,\n",
       " 22.559999999999956,\n",
       " 22.659999999999954,\n",
       " 22.759999999999955,\n",
       " 22.859999999999957,\n",
       " 22.959999999999955,\n",
       " 23.059999999999953,\n",
       " 23.159999999999954,\n",
       " 23.259999999999955,\n",
       " 23.359999999999953,\n",
       " 23.45999999999995,\n",
       " 23.559999999999953,\n",
       " 23.659999999999954,\n",
       " 23.759999999999952,\n",
       " 23.85999999999995,\n",
       " 23.95999999999995,\n",
       " 24.059999999999953,\n",
       " 24.15999999999995,\n",
       " 24.25999999999995,\n",
       " 24.35999999999995,\n",
       " 24.45999999999995,\n",
       " 24.55999999999995,\n",
       " 24.659999999999947,\n",
       " 24.75999999999995,\n",
       " 24.85999999999995,\n",
       " 24.959999999999948]"
      ]
     },
     "execution_count": 110,
     "metadata": {},
     "output_type": "execute_result"
    }
   ],
   "source": [
    "a=list(np.arange(target_variance,25,0.1))\n",
    "a    #conduct different variance"
   ]
  },
  {
   "cell_type": "code",
   "execution_count": 111,
   "metadata": {},
   "outputs": [],
   "source": [
    "# the new efficient frontier(without short)"
   ]
  },
  {
   "cell_type": "code",
   "execution_count": 112,
   "metadata": {},
   "outputs": [],
   "source": [
    "target_min_negareturn=[]"
   ]
  },
  {
   "cell_type": "code",
   "execution_count": 113,
   "metadata": {},
   "outputs": [],
   "source": [
    "bnds=tuple((0, 1) for x in range(12))#no-short x>0 and with sum up to 1\n",
    "for i in a:\n",
    "    cons=({'type': 'eq', 'fun': lambda x: np.sum(x) - 1},{'type': 'eq', 'fun': lambda x:  statistics(x)[1] - i})\n",
    "    optvx = so.minimize(min_negareturn,12*[1./12,],method='SLSQP', bounds=bnds, constraints=cons)\n",
    "    target_min_negareturn.append(optvx['fun'])    \n",
    "    # given the variance and caculate the maximum return"
   ]
  },
  {
   "cell_type": "code",
   "execution_count": 114,
   "metadata": {},
   "outputs": [],
   "source": [
    "target_min_posreturn=[i*(-100) for i in target_min_negareturn]"
   ]
  },
  {
   "cell_type": "code",
   "execution_count": 115,
   "metadata": {
    "scrolled": true
   },
   "outputs": [
    {
     "data": {
      "text/plain": [
       "[4.580648095893588,\n",
       " 4.67760496629863,\n",
       " 4.726778994224863,\n",
       " 4.764520776501316,\n",
       " 4.794255316728251,\n",
       " 4.818989356187981,\n",
       " 4.840238851303948,\n",
       " 4.859159069347643,\n",
       " 4.8763806558012135,\n",
       " 4.892147458756683,\n",
       " 4.906476947474675,\n",
       " 4.919691046240997,\n",
       " 4.932015789137455,\n",
       " 4.9436095836182945,\n",
       " 4.954588916115248,\n",
       " 4.965042239320979,\n",
       " 4.975038608815268,\n",
       " 4.9846331535459845,\n",
       " 4.9938707984656805,\n",
       " 5.002788619863803,\n",
       " 5.011417605426976,\n",
       " 5.019784252972613,\n",
       " 5.027911086387536,\n",
       " 5.035817614800998,\n",
       " 5.043520827670429,\n",
       " 5.051036333725896,\n",
       " 5.058412838437243,\n",
       " 5.065677709584672,\n",
       " 5.07283584955579,\n",
       " 5.079891846938299,\n",
       " 5.086849888284788,\n",
       " 5.093713927308977,\n",
       " 5.100487786829265,\n",
       " 5.107174874164958,\n",
       " 5.113778445411911,\n",
       " 5.12030156281788,\n",
       " 5.126747037452113,\n",
       " 5.133117648984602,\n",
       " 5.139419242041251,\n",
       " 5.145661786619122,\n",
       " 5.15184741197154,\n",
       " 5.157977553890306,\n",
       " 5.164053624257326,\n",
       " 5.1700770618643155,\n",
       " 5.176049600846404,\n",
       " 5.181972090831874,\n",
       " 5.187845761523925,\n",
       " 5.193671944443503,\n",
       " 5.199451659895874,\n",
       " 5.205186075529284,\n",
       " 5.210876244645553,\n",
       " 5.216523147595533,\n",
       " 5.222127776265173,\n",
       " 5.227691087134372,\n",
       " 5.233213914759178,\n",
       " 5.238697195030976,\n",
       " 5.2441417442153595,\n",
       " 5.249548342053906,\n",
       " 5.254917792084757,\n",
       " 5.260250882062946,\n",
       " 5.265548301739035,\n",
       " 5.270810762442773,\n",
       " 5.276038964416477,\n",
       " 5.281233553152254,\n",
       " 5.286395166154469,\n",
       " 5.29152443738591,\n",
       " 5.296621960764971,\n",
       " 5.301688307666685,\n",
       " 5.306724051119112,\n",
       " 5.3117297453627765,\n",
       " 5.316705941643624,\n",
       " 5.321653092278866,\n",
       " 5.326571758383165,\n",
       " 5.3314624071553105,\n",
       " 5.336325537501371,\n",
       " 5.341161532083529,\n",
       " 5.345970917712287,\n",
       " 5.350754106776049,\n",
       " 5.355511534561944,\n",
       " 5.360243552790964,\n",
       " 5.364950632345964,\n",
       " 5.369633139478382,\n",
       " 5.37429145504521,\n",
       " 5.378925950164214,\n",
       " 5.383536986561724,\n",
       " 5.388124916899592,\n",
       " 5.392690085091938,\n",
       " 5.397232868962721,\n",
       " 5.4017535169313655,\n",
       " 5.406252442736414,\n",
       " 5.410729969556047,\n",
       " 5.415186444305569,\n",
       " 5.419622131928753,\n",
       " 5.424037318660765,\n",
       " 5.428432279671851,\n",
       " 5.432807303154595,\n",
       " 5.437162658938349,\n",
       " 5.441498627572909,\n",
       " 5.4458153998343315,\n",
       " 5.450113276802983,\n",
       " 5.454392509963981,\n",
       " 5.458653329658458,\n",
       " 5.4628959713991385,\n",
       " 5.467120664273932,\n",
       " 5.47132763495512,\n",
       " 5.475517104589139,\n",
       " 5.479689290163995,\n",
       " 5.483844404124727,\n",
       " 5.487982654119944,\n",
       " 5.492104243891988,\n",
       " 5.49620937310575,\n",
       " 5.500298237479916,\n",
       " 5.504371029067331,\n",
       " 5.508427936142104,\n",
       " 5.512469146197748,\n",
       " 5.516494797348971,\n",
       " 5.520505136764109,\n",
       " 5.524500307690096,\n",
       " 5.5284804809470405,\n",
       " 5.532445824155999,\n",
       " 5.536396501857383,\n",
       " 5.540332675567476,\n",
       " 5.544254503861877,\n",
       " 5.548162142459612,\n",
       " 5.5520557442794685,\n",
       " 5.555935459515728,\n",
       " 5.559801435701188,\n",
       " 5.5636538176550125,\n",
       " 5.5674927483159795,\n",
       " 5.571318366596541,\n",
       " 5.575130822697101,\n",
       " 5.578930220818787,\n",
       " 5.582716717184278,\n",
       " 5.586490453585647,\n",
       " 5.590251521422301,\n",
       " 5.594000074673152,\n",
       " 5.597736233126097,\n",
       " 5.601460118822948,\n",
       " 5.605171852811777,\n",
       " 5.608871558937318,\n",
       " 5.612559315567147,\n",
       " 5.616235286822895,\n",
       " 5.619899563593971,\n",
       " 5.623552258732147,\n",
       " 5.627193481515491,\n",
       " 5.6308233399644605,\n",
       " 5.634441942798915,\n",
       " 5.638049382835139]"
      ]
     },
     "execution_count": 115,
     "metadata": {},
     "output_type": "execute_result"
    }
   ],
   "source": [
    "target_min_posreturn"
   ]
  },
  {
   "cell_type": "code",
   "execution_count": 116,
   "metadata": {},
   "outputs": [],
   "source": [
    "b=[np.sqrt(i) for i in a]"
   ]
  },
  {
   "cell_type": "code",
   "execution_count": 117,
   "metadata": {},
   "outputs": [
    {
     "data": {
      "text/plain": [
       "<matplotlib.collections.PathCollection at 0x1a2269ee80>"
      ]
     },
     "execution_count": 117,
     "metadata": {},
     "output_type": "execute_result"
    },
    {
     "data": {
      "image/png": "[encoded data removed]",
      "text/plain": [
       "<Figure size 432x288 with 1 Axes>"
      ]
     },
     "metadata": {
      "needs_background": "light"
     },
     "output_type": "display_data"
    }
   ],
   "source": [
    "import matplotlib.pyplot as plt\n",
    "plt.scatter(b,target_min_posreturn)"
   ]
  },
  {
   "cell_type": "code",
   "execution_count": 118,
   "metadata": {},
   "outputs": [],
   "source": [
    "# the old efficient frontier(with short)"
   ]
  },
  {
   "cell_type": "code",
   "execution_count": 119,
   "metadata": {},
   "outputs": [],
   "source": [
    "c=list(np.arange(2.9**2,25,0.1))"
   ]
  },
  {
   "cell_type": "code",
   "execution_count": 120,
   "metadata": {},
   "outputs": [],
   "source": [
    "target_min_negareturn1=[]          \n",
    "#with short, x can be any number but with sum up to 1\n",
    "for i in c:\n",
    "    cons=({'type': 'eq', 'fun': lambda x: np.sum(x) - 1},{'type': 'eq', 'fun': lambda x:  statistics(x)[1] - i})\n",
    "    optvx = so.minimize(min_negareturn,12*[1./12,],method='SLSQP', constraints=cons)\n",
    "    target_min_negareturn1.append(optvx['fun'])"
   ]
  },
  {
   "cell_type": "code",
   "execution_count": 121,
   "metadata": {},
   "outputs": [],
   "source": [
    "target_min_posreturn1=[i*(-100) for i in target_min_negareturn1]"
   ]
  },
  {
   "cell_type": "code",
   "execution_count": 122,
   "metadata": {},
   "outputs": [],
   "source": [
    "d=[np.sqrt(i) for i in c]"
   ]
  },
  {
   "cell_type": "code",
   "execution_count": 123,
   "metadata": {},
   "outputs": [
    {
     "data": {
      "text/plain": [
       "<matplotlib.collections.PathCollection at 0x1a1fe3f668>"
      ]
     },
     "execution_count": 123,
     "metadata": {},
     "output_type": "execute_result"
    },
    {
     "data": {
      "image/png": "[encoded data removed]",
      "text/plain": [
       "<Figure size 432x288 with 1 Axes>"
      ]
     },
     "metadata": {
      "needs_background": "light"
     },
     "output_type": "display_data"
    }
   ],
   "source": [
    "import matplotlib.pyplot as plt\n",
    "plt.scatter(d,target_min_posreturn1)"
   ]
  },
  {
   "cell_type": "code",
   "execution_count": 124,
   "metadata": {},
   "outputs": [
    {
     "data": {
      "text/plain": [
       "<function matplotlib.pyplot.show(*args, **kw)>"
      ]
     },
     "execution_count": 124,
     "metadata": {},
     "output_type": "execute_result"
    },
    {
     "data": {
      "image/png": "[encoded data removed]",
      "text/plain": [
       "<Figure size 432x288 with 1 Axes>"
      ]
     },
     "metadata": {
      "needs_background": "light"
     },
     "output_type": "display_data"
    }
   ],
   "source": [
    "plt.plot(b,target_min_posreturn,'b') #plot the new frontier(without short)\n",
    "plt.plot(d,target_min_posreturn1,'r')  #plot the old frontier(with short)\n",
    "plt.xlabel('volatility(%)')\n",
    "plt.ylabel('return(%)')\n",
    "plt.title('Old and new efficient frontier')\n",
    "plt.show"
   ]
  },
  {
   "cell_type": "code",
   "execution_count": null,
   "metadata": {},
   "outputs": [],
   "source": []
  }
 ],
 "metadata": {
  "kernelspec": {
   "display_name": "Python 3",
   "language": "python",
   "name": "python3"
  },
  "language_info": {
   "codemirror_mode": {
    "name": "ipython",
    "version": 3
   },
   "file_extension": ".py",
   "mimetype": "text/x-python",
   "name": "python",
   "nbconvert_exporter": "python",
   "pygments_lexer": "ipython3",
   "version": "3.6.8"
  }
 },
 "nbformat": 4,
 "nbformat_minor": 2
}
